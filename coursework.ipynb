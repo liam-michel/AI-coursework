{
  "cells": [
    {
      "cell_type": "markdown",
      "metadata": {
        "id": "-zsRK_xS7pwe"
      },
      "source": [
        "# AI COM2028 COURSEWORK JUPYTER NOTEBOOK"
      ]
    },
    {
      "cell_type": "markdown",
      "metadata": {
        "id": "aGseJkM_7pwg"
      },
      "source": [
        "#### Overview <br />\n",
        "This coursework concerns the automated classification of images through machine learning techniques. You will work on bloodcell image data, where training samples and their\n",
        "ground truth are provided. You will develop suitable classification techniques to classify\n",
        "unseen examples, a poster to introduce the problem. You will need to submit a Jupyter\n",
        "notebook containing your code for training and evaluation, your prediction outcome of the\n",
        "test dataset, and a poster by 4pm on Wednesday 10th May. Any of your experiment figures\n",
        "and/or tables included in your poster need to be reproducible in the Jupyter notebook that\n",
        "you submit."
      ]
    },
    {
      "cell_type": "markdown",
      "metadata": {
        "id": "q89KE6lF7pwh"
      },
      "source": [
        "### Start by importing some relevant modules"
      ]
    },
    {
      "cell_type": "code",
      "execution_count": 55,
      "metadata": {
        "id": "Gm48l4Ij7pwh"
      },
      "outputs": [],
      "source": [
        "import pandas as pd\n",
        "import numpy as np\n",
        "\n",
        "import matplotlib.pyplot as plt\n",
        "import tensorflow as tf\n",
        "from tensorflow import keras\n",
        "from keras import layers\n",
        "\n"
      ]
    },
    {
      "cell_type": "markdown",
      "metadata": {
        "id": "oMfK3RKi7pwi"
      },
      "source": [
        "# Next load in the training data images (from local machine) <br />\n",
        "# IF USING COLAB, SKIP NEXT TWO CELLS AND USE ONES AFTER IT \n",
        "We can do this using skimage.io <br />\n",
        "We import the imread_collection and concatenate_images functions. <br />\n",
        "These alllow us to read in the images from a given path, and then the concatenate_images function allows us to convert that collection to a numpy array"
      ]
    },
    {
      "cell_type": "code",
      "execution_count": 3,
      "metadata": {
        "colab": {
          "base_uri": "https://localhost:8080/",
          "height": 269
        },
        "id": "AFEqqfoY7pwi",
        "outputId": "eec09e7b-1644-47cc-c509-0fe472290cf8"
      },
      "outputs": [
        {
          "name": "stdout",
          "output_type": "stream",
          "text": [
            "<class 'numpy.ndarray'>\n"
          ]
        }
      ],
      "source": [
        "from skimage.io import imread\n",
        "from skimage.io import imread_collection, concatenate_images\n",
        "\n",
        "#set file path for local training images\n",
        "training_images_path = './COM2028_2023/train'\n",
        "\n",
        "#imread_collection allows us to load folder of images into an array\n",
        "training_images_collection = imread_collection(training_images_path + '/*.jpg')\n",
        "training_images = np.concatenate([image[np.newaxis] for image in training_images_collection])\n",
        "print(type(training_images))\n",
        "\n"
      ]
    },
    {
      "cell_type": "markdown",
      "metadata": {
        "id": "kFZZ-exw7pwk"
      },
      "source": [
        "# Now we load in the ground truths (labels) (from local machine)\n"
      ]
    },
    {
      "cell_type": "code",
      "execution_count": 74,
      "metadata": {
        "id": "JJ2OUOC97pwk"
      },
      "outputs": [],
      "source": [
        "train_groundtruth_path = './COM2028_2023/train.txt'\n",
        "training_image_path_list = []\n",
        "\n",
        "#since we are loading in text (strings) we can use pythons regular file reading functionallity\n",
        "ground_truths = np.array([])\n",
        "\n",
        "def linereader(line):\n",
        "\tvalues = line.split(' ') #each line contains path, value seperated by a space\n",
        "\timage_path = values[0]  #path is 1st value [0]\n",
        "\ttruth = values[1]  #truth is 2nd value [1]\n",
        "\ttruth= truth.strip('\\n') #our value has a '\\n' appended to it for file formatting, we remove this\n",
        "\treturn truth, image_path\n",
        "\n",
        "\n",
        "with open(train_groundtruth_path, 'r') as file:\n",
        "\tfor line in file:\n",
        "\t\ttruth, image_path = linereader(line)\n",
        "\t\tground_truths = np.append(ground_truths, int(truth)) #we add the value to ground_truths array\n",
        "\t\ttraining_image_path_list.append(image_path)\n",
        "\n",
        "\tfile.close()\n"
      ]
    },
    {
      "cell_type": "markdown",
      "metadata": {
        "id": "9uqPWVZ87pwl"
      },
      "source": [
        "# ONLY RUN CELL BELOW IF USING COLAB \n",
        "# THIS CELL HANDLES LOADING OF TRAINING DATA AND ITS ASSOCIATED LABELS\n"
      ]
    },
    {
      "cell_type": "code",
      "execution_count": 3,
      "metadata": {
        "colab": {
          "base_uri": "https://localhost:8080/"
        },
        "id": "MXm9iFO37pwl",
        "outputId": "543beae7-1d0e-4f0f-9119-7e924e2eb360"
      },
      "outputs": [
        {
          "name": "stdout",
          "output_type": "stream",
          "text": [
            "Mounted at /content/drive\n"
          ]
        }
      ],
      "source": [
        "#ONLY USE IF USING COLAB\n",
        "from google.colab import drive\n",
        "drive.mount('/content/drive')\n",
        "#!unzip \"drive/MyDrive/COM2028_2023.zip\" -d \"drive/MyDrive\"\n",
        "#DONE\n"
      ]
    },
    {
      "cell_type": "code",
      "execution_count": 56,
      "metadata": {
        "colab": {
          "base_uri": "https://localhost:8080/"
        },
        "id": "uaIiKvw4C0g9",
        "outputId": "b17fed24-b8d8-4b00-c3be-7131bae5cea6"
      },
      "outputs": [
        {
          "name": "stdout",
          "output_type": "stream",
          "text": [
            "List of physical GPUs: []\n",
            "Num GPUs Available:  0\n"
          ]
        }
      ],
      "source": [
        "#check how many GPUs you have on the device\n",
        "gpus = tf.config.list_physical_devices('GPU')\n",
        "print(\"List of physical GPUs:\", gpus)\n",
        "print(\"Num GPUs Available: \", len(gpus))\n",
        "if gpus:\n",
        "# Use the first GPU\n",
        "  try:\n",
        "    tf.config.set_visible_devices(gpus[0], 'GPU')\n",
        "  except:\n",
        "    print('no gpu')\n",
        "    pass\n"
      ]
    },
    {
      "cell_type": "code",
      "execution_count": 6,
      "metadata": {
        "colab": {
          "base_uri": "https://localhost:8080/"
        },
        "id": "5TIdXfBN7pwl",
        "outputId": "c7d4996a-dd6e-4554-d63c-841f730151b4"
      },
      "outputs": [
        {
          "name": "stdout",
          "output_type": "stream",
          "text": [
            "<class 'numpy.ndarray'>\n"
          ]
        }
      ],
      "source": [
        "from skimage.io import imread\n",
        "from skimage.io import imread_collection, concatenate_images\n",
        "\n",
        "#set file path for local training images\n",
        "training_images_path = 'drive/MyDrive/COM2028_2023/train'\n",
        "\n",
        "#imread_collection allows us to load folder of images into an array\n",
        "training_images_collection = imread_collection(training_images_path + '/*.jpg')\n",
        "training_images = np.concatenate([image[np.newaxis] for image in training_images_collection])\n",
        "print(type(training_images))\n",
        "\n"
      ]
    },
    {
      "cell_type": "code",
      "execution_count": 7,
      "metadata": {
        "id": "XPyNBqZ_-6o1"
      },
      "outputs": [],
      "source": [
        "#CELL FOR LOADING TARGET VALUES WITH COLAB\n",
        "train_groundtruth_path = 'drive/MyDrive/COM2028_2023/train.txt'\n",
        "training_image_path_list = []\n",
        "\n",
        "#since we are loading in text (strings) we can use pythons regular file reading functionallity\n",
        "ground_truths = np.array([])\n",
        "\n",
        "def linereader(line):\n",
        "\tvalues = line.split(' ') #each line contains path, value seperated by a space\n",
        "\timage_path = values[0]  #path is 1st value [0]\n",
        "\ttruth = values[1]  #truth is 2nd value [1]\n",
        "\ttruth= truth.strip('\\n') #our value has a '\\n' appended to it for file formatting, we remove this\n",
        "\treturn truth, image_path\n",
        "\n",
        "\n",
        "with open(train_groundtruth_path, 'r') as file:\n",
        "\tfor line in file:\n",
        "\t\ttruth, image_path = linereader(line)\n",
        "\t\tground_truths = np.append(ground_truths, int(truth)) #we add the value to ground_truths array\n",
        "\t\ttraining_image_path_list.append(image_path)\n",
        "\n",
        "\tfile.close()\n",
        "\n"
      ]
    },
    {
      "cell_type": "markdown",
      "metadata": {
        "id": "hxXuByg37pwm"
      },
      "source": [
        "# Print out some example images from training set"
      ]
    },
    {
      "cell_type": "code",
      "execution_count": null,
      "metadata": {
        "colab": {
          "base_uri": "https://localhost:8080/",
          "height": 434
        },
        "id": "fqW8oVUB7pwm",
        "outputId": "befa79a4-644e-4988-9b57-84b68261ea91"
      },
      "outputs": [],
      "source": [
        "#print out some example training images\n",
        "#print out 16 example training images using subplots(4,4), giving us 4 rows of 4 columns\n",
        "\n",
        "for i in range(0,16):\n",
        "    plt.subplot(4,4, i+1)\n",
        "    plt.imshow(training_images[i])\n",
        "    \n",
        "\n"
      ]
    },
    {
      "cell_type": "markdown",
      "metadata": {
        "id": "Uy07y-AA7pwm"
      },
      "source": [
        "# Relevance of colors <br />\n",
        "The above images show three of the blood sample images. <br />\n",
        "Given that the colors of the samples in all images are the same, we can reason that color is potentially meaningless in the process of classifying the images. <br />\n",
        "We should instead focus on the 'shape' of the image, rather than the color. <br />\n",
        "Because of this, we can convert our images to grayscale format. We do this by calculating a weighted sum of the R,G,B values of the images for each image. <br />\n",
        "This is done below"
      ]
    },
    {
      "cell_type": "code",
      "execution_count": 40,
      "metadata": {
        "colab": {
          "base_uri": "https://localhost:8080/",
          "height": 432
        },
        "id": "q2Q03J417pwm",
        "outputId": "860da03b-4008-4d19-8242-4f4af62e177a"
      },
      "outputs": [
        {
          "data": {
            "image/png": "[encoded data removed]",
            "text/plain": [
              "<Figure size 640x480 with 4 Axes>"
            ]
          },
          "metadata": {},
          "output_type": "display_data"
        }
      ],
      "source": [
        "#formula for converting images from RGB to grayscale\n",
        "#0.299 R + 0.587 G + 0.114 B\n",
        "\n",
        "#declare an empty numpy array of dimension (1000,28,28) - to store\n",
        "grayscale_training = np.empty((len(training_images),28,28), int)\n",
        "\n",
        "\n",
        "for i in range(0,len(training_images)):\n",
        "\n",
        "    image = training_images[i] \n",
        "    R = image[:,:,0] # [:] means all the points in that direction, in this case zero gets the 1st value (0) in\n",
        "                    #the 3rd dimension, the 2 colons does this for all 256x256 pixels in the image\n",
        "    G = image[:,:,1] #select green colors\n",
        "\n",
        "    B = image[:, :, 2]\n",
        "    gray = 0.299 * R +  0.587*G + 0.114*B\n",
        "\n",
        "    grayscale_training[i] = gray\n",
        "\n",
        "#now we print out grayscale images and their respective original versions\n",
        "\n",
        "\n",
        "for i in range(0,4):\n",
        "    if i<2:\n",
        "        plt.subplot(2, 2,i+1)\n",
        "        plt.imshow(grayscale_training[i], cmap = 'gray')\n",
        "    else:\n",
        "        plt.subplot(2,2, i+1)\n",
        "        plt.imshow(training_images[i-2], cmap = 'gray')\n",
        "\n",
        "\n"
      ]
    },
    {
      "cell_type": "code",
      "execution_count": 9,
      "metadata": {
        "colab": {
          "base_uri": "https://localhost:8080/"
        },
        "id": "Vlt5FJ_07pwn",
        "outputId": "48f5e334-312d-41ab-df64-fadfa7a60d41"
      },
      "outputs": [
        {
          "name": "stdout",
          "output_type": "stream",
          "text": [
            "(10000, 28, 28)\n"
          ]
        }
      ],
      "source": [
        "print(grayscale_training.shape)"
      ]
    },
    {
      "cell_type": "markdown",
      "metadata": {
        "id": "pBXfaME77pwn"
      },
      "source": [
        "# Ground truth label values range from 0-7\n",
        "\n"
      ]
    },
    {
      "cell_type": "markdown",
      "metadata": {
        "id": "j93J2OP57pwo"
      },
      "source": [
        "# Type of classifier to use <br />\n",
        "Since each target can belong to one of 8 classes, we know we need to use a multiclass classifier for our model. <br /> Binary classifier is not suitable here since that only works for samples that can belong to one of two classes. <br />\n"
      ]
    },
    {
      "cell_type": "code",
      "execution_count": null,
      "metadata": {
        "id": "RN8vhxID7pwo",
        "outputId": "0b65477d-d231-4bbc-dbf0-53cc500902b1"
      },
      "outputs": [],
      "source": [
        "sample1 = training_images[0] #grabs the first training sample\n",
        "print(sample1.shape)\n",
        "\n",
        "plt.imshow(sample1)\n",
        "plt.show()\n",
        "#get top left pixel values\n",
        "topleft_pixels = sample1[0][0]\n",
        "print(topleft_pixels)\n",
        "#then get ~middle pixe values\n",
        "middle_pixels = sample1[14][14]\n",
        "print(middle_pixels)"
      ]
    },
    {
      "cell_type": "markdown",
      "metadata": {
        "id": "CD0VaW6f7pwo"
      },
      "source": [
        "# First model - Multiclass KNN Classifier\n",
        "For the first attempt I am going to use a KNN with the scikit-learn module <br />\n",
        "KNN's are useful for multiclass classification as they allow us to classify images based on similarity to other ones. <br />\n",
        " Despite this, there are a few potential problems with using KNN for this problem\n",
        "1. We have only used KNN with MNIST so far, the dataset for this problem is much larger and the KNN will therefore be more computationally expensive <br />\n",
        "2. KNN can struggle with more complex images, blood sample images are arguably more complex than drawings of images (images for this are 28x28 whereas MNIST has images of size 8x8)\n",
        "\n",
        "For the sake of analysis and testing, I am going to attempt to use a KNN for this classification task."
      ]
    },
    {
      "cell_type": "markdown",
      "metadata": {
        "id": "8EAEvW5p7pwp"
      },
      "source": [
        "# Defining the KNN Classifier\n",
        "### Before we define the KNN, we need to reshape some of our data\n",
        "- For the input (training data), KNNs can only handle a 2d input (n_samples, sample)\n",
        "- Because of this we need to reformat our input from (8000,28,28) to (8000, 28*28)\n"
      ]
    },
    {
      "cell_type": "markdown",
      "metadata": {
        "id": "VJ8avfa97pwp"
      },
      "source": [
        "# Splitting our training data into training and validation sets <br />\n",
        "Since our test set is seperate from our training set, we only have to split the data into training/validation split <br />\n",
        "We will now split the grayscale images into training and validation splits of size 80:20"
      ]
    },
    {
      "cell_type": "code",
      "execution_count": 77,
      "metadata": {
        "colab": {
          "base_uri": "https://localhost:8080/"
        },
        "id": "8I5WEdv67pwp",
        "outputId": "9ba6447e-a1e0-46cd-959a-db48c82c1de4"
      },
      "outputs": [
        {
          "name": "stdout",
          "output_type": "stream",
          "text": [
            "(8000, 784)\n",
            "(2000, 784)\n",
            "(8000, 784)\n",
            "(2000, 784)\n",
            "(10000, 784)\n",
            "<class 'numpy.ndarray'>\n"
          ]
        }
      ],
      "source": [
        "grayscale_training = grayscale_training.reshape(-1, 28*28)\n",
        "sample_size = len(grayscale_training)\n",
        "x_train = grayscale_training[:round(.8*sample_size)]\n",
        "y_train = ground_truths[:round(.8*sample_size)]\n",
        "x_valid = grayscale_training[round(.8*sample_size):]\n",
        "y_valid = ground_truths[round(.8*sample_size):]\n",
        "print(x_train.shape)\n",
        "print(x_valid.shape)\n",
        "\n",
        "\n",
        "print(x_train.shape)\n",
        "print(x_valid.shape)\n",
        "print(grayscale_training.shape)\n",
        "\n",
        "print(type(ground_truths[0]))"
      ]
    },
    {
      "cell_type": "code",
      "execution_count": null,
      "metadata": {
        "id": "9hBHyVej7pwq"
      },
      "outputs": [],
      "source": [
        "\n",
        "total = 0 \n",
        "for i in range(0,8):\n",
        "    array=[]\n",
        "    for x in ground_truths: \n",
        "        if x == i :\n",
        "            array.append(x)\n",
        "            total += 1 \n",
        "    print(len(array))\n",
        "    print(total)\n",
        "    \n",
        "    "
      ]
    },
    {
      "cell_type": "code",
      "execution_count": 9,
      "metadata": {
        "colab": {
          "base_uri": "https://localhost:8080/",
          "height": 74
        },
        "id": "E_yKlGp17pwq",
        "outputId": "82fb94a7-b133-457a-f5d0-3a856509ef47"
      },
      "outputs": [
        {
          "data": {
            "text/html": [
              "<style>#sk-container-id-1 {color: black;background-color: white;}#sk-container-id-1 pre{padding: 0;}#sk-container-id-1 div.sk-toggleable {background-color: white;}#sk-container-id-1 label.sk-toggleable__label {cursor: pointer;display: block;width: 100%;margin-bottom: 0;padding: 0.3em;box-sizing: border-box;text-align: center;}#sk-container-id-1 label.sk-toggleable__label-arrow:before {content: \"▸\";float: left;margin-right: 0.25em;color: #696969;}#sk-container-id-1 label.sk-toggleable__label-arrow:hover:before {color: black;}#sk-container-id-1 div.sk-estimator:hover label.sk-toggleable__label-arrow:before {color: black;}#sk-container-id-1 div.sk-toggleable__content {max-height: 0;max-width: 0;overflow: hidden;text-align: left;background-color: #f0f8ff;}#sk-container-id-1 div.sk-toggleable__content pre {margin: 0.2em;color: black;border-radius: 0.25em;background-color: #f0f8ff;}#sk-container-id-1 input.sk-toggleable__control:checked~div.sk-toggleable__content {max-height: 200px;max-width: 100%;overflow: auto;}#sk-container-id-1 input.sk-toggleable__control:checked~label.sk-toggleable__label-arrow:before {content: \"▾\";}#sk-container-id-1 div.sk-estimator input.sk-toggleable__control:checked~label.sk-toggleable__label {background-color: #d4ebff;}#sk-container-id-1 div.sk-label input.sk-toggleable__control:checked~label.sk-toggleable__label {background-color: #d4ebff;}#sk-container-id-1 input.sk-hidden--visually {border: 0;clip: rect(1px 1px 1px 1px);clip: rect(1px, 1px, 1px, 1px);height: 1px;margin: -1px;overflow: hidden;padding: 0;position: absolute;width: 1px;}#sk-container-id-1 div.sk-estimator {font-family: monospace;background-color: #f0f8ff;border: 1px dotted black;border-radius: 0.25em;box-sizing: border-box;margin-bottom: 0.5em;}#sk-container-id-1 div.sk-estimator:hover {background-color: #d4ebff;}#sk-container-id-1 div.sk-parallel-item::after {content: \"\";width: 100%;border-bottom: 1px solid gray;flex-grow: 1;}#sk-container-id-1 div.sk-label:hover label.sk-toggleable__label {background-color: #d4ebff;}#sk-container-id-1 div.sk-serial::before {content: \"\";position: absolute;border-left: 1px solid gray;box-sizing: border-box;top: 0;bottom: 0;left: 50%;z-index: 0;}#sk-container-id-1 div.sk-serial {display: flex;flex-direction: column;align-items: center;background-color: white;padding-right: 0.2em;padding-left: 0.2em;position: relative;}#sk-container-id-1 div.sk-item {position: relative;z-index: 1;}#sk-container-id-1 div.sk-parallel {display: flex;align-items: stretch;justify-content: center;background-color: white;position: relative;}#sk-container-id-1 div.sk-item::before, #sk-container-id-1 div.sk-parallel-item::before {content: \"\";position: absolute;border-left: 1px solid gray;box-sizing: border-box;top: 0;bottom: 0;left: 50%;z-index: -1;}#sk-container-id-1 div.sk-parallel-item {display: flex;flex-direction: column;z-index: 1;position: relative;background-color: white;}#sk-container-id-1 div.sk-parallel-item:first-child::after {align-self: flex-end;width: 50%;}#sk-container-id-1 div.sk-parallel-item:last-child::after {align-self: flex-start;width: 50%;}#sk-container-id-1 div.sk-parallel-item:only-child::after {width: 0;}#sk-container-id-1 div.sk-dashed-wrapped {border: 1px dashed gray;margin: 0 0.4em 0.5em 0.4em;box-sizing: border-box;padding-bottom: 0.4em;background-color: white;}#sk-container-id-1 div.sk-label label {font-family: monospace;font-weight: bold;display: inline-block;line-height: 1.2em;}#sk-container-id-1 div.sk-label-container {text-align: center;}#sk-container-id-1 div.sk-container {/* jupyter's `normalize.less` sets `[hidden] { display: none; }` but bootstrap.min.css set `[hidden] { display: none !important; }` so we also need the `!important` here to be able to override the default hidden behavior on the sphinx rendered scikit-learn.org. See: https://github.com/scikit-learn/scikit-learn/issues/21755 */display: inline-block !important;position: relative;}#sk-container-id-1 div.sk-text-repr-fallback {display: none;}</style><div id=\"sk-container-id-1\" class=\"sk-top-container\"><div class=\"sk-text-repr-fallback\"><pre>KNeighborsClassifier(metric=&#x27;euclidean&#x27;, n_jobs=-1, weights=&#x27;distance&#x27;)</pre><b>In a Jupyter environment, please rerun this cell to show the HTML representation or trust the notebook. <br />On GitHub, the HTML representation is unable to render, please try loading this page with nbviewer.org.</b></div><div class=\"sk-container\" hidden><div class=\"sk-item\"><div class=\"sk-estimator sk-toggleable\"><input class=\"sk-toggleable__control sk-hidden--visually\" id=\"sk-estimator-id-1\" type=\"checkbox\" checked><label for=\"sk-estimator-id-1\" class=\"sk-toggleable__label sk-toggleable__label-arrow\">KNeighborsClassifier</label><div class=\"sk-toggleable__content\"><pre>KNeighborsClassifier(metric=&#x27;euclidean&#x27;, n_jobs=-1, weights=&#x27;distance&#x27;)</pre></div></div></div></div></div>"
            ],
            "text/plain": [
              "KNeighborsClassifier(metric='euclidean', n_jobs=-1, weights='distance')"
            ]
          },
          "execution_count": 9,
          "metadata": {},
          "output_type": "execute_result"
        }
      ],
      "source": [
        "from sklearn.neighbors import KNeighborsClassifier\n",
        "from sklearn.metrics import accuracy_score\n",
        "# to make this notebook's output stable across runs\n",
        "np.random.seed(42)\n",
        "\n",
        "\n",
        "#we first define the KNN classifier - we start off with N = 4 for nearest neighbours\n",
        "knn_clf = KNeighborsClassifier(n_jobs = -1, weights = 'distance', n_neighbors = 5, metric = 'euclidean')\n",
        "\n",
        "#We then fit out trainig data to the KNN\n",
        "knn_clf.fit(x_train, y_train)"
      ]
    },
    {
      "cell_type": "code",
      "execution_count": null,
      "metadata": {
        "id": "aB_6xXkQ7pwq",
        "outputId": "545dd4f7-1480-4709-cfed-fb4d193d514b"
      },
      "outputs": [
        {
          "name": "stdout",
          "output_type": "stream",
          "text": [
            "0.69\n"
          ]
        }
      ],
      "source": [
        "#Now that we've fit our data to the model \n",
        "#We now need to run predictions with our validation data\n",
        "\n",
        "\n",
        "y_knn_pred_valid = knn_clf.predict(x_valid)\n",
        "print(accuracy_score(y_knn_pred_valid, y_valid))"
      ]
    },
    {
      "cell_type": "markdown",
      "metadata": {
        "id": "gRYuq38P7pwq"
      },
      "source": [
        "# The initial accuracy score (68.5%) with our validation is not ideal\n",
        "68.5% accuracy against the validation set is not high enough to make the model usable, there are various ways that we can go about addressing this issue.\n",
        "One common way is to tune the hyperparameters of the model - this includes:\n",
        "1. number of n_neighbours - this is the number of neighbours considered when making a prediction\n",
        "2. algorithm - algorithm used when computing the nearest neighbours of a sample\n",
        "3. metric - the distance metric that we use to compute distance between points, this includes Euclidian (straight line), Manhttan (absolute distance) and others\n",
        "\n",
        "## Another thing that we can try is using Cross Validation on our model. \n",
        "Cross validation splits our data into N folds, each time one fold is used for validation and the others are used for training. KNN is prone to overfitting on training data, meaning it performs on unseen (testing) data. Using N fold Cross validation can help to mitigate this issue\n"
      ]
    },
    {
      "cell_type": "markdown",
      "metadata": {
        "id": "yFfU_5ts7pwr"
      },
      "source": [
        "# IMPORTANT THING TO REMEMBER WITH CROSS VALIDATION\n",
        "WHEN USING SKLEARN CROSS VALIDATION - WE CAN PLUG IN ENTIRE TRAINING AND LABEL SET, SKLEARN AUTOMATICALLLY SPLITS IT INTO TRAINING AND VALIDATION SETS"
      ]
    },
    {
      "cell_type": "code",
      "execution_count": 10,
      "metadata": {
        "colab": {
          "base_uri": "https://localhost:8080/"
        },
        "id": "radPXJ2s7pwr",
        "outputId": "17ab3308-050e-44b9-949f-4d39f4e12751"
      },
      "outputs": [
        {
          "ename": "KeyboardInterrupt",
          "evalue": "",
          "output_type": "error",
          "traceback": [
            "\u001b[1;31m---------------------------------------------------------------------------\u001b[0m",
            "\u001b[1;31mKeyboardInterrupt\u001b[0m                         Traceback (most recent call last)",
            "Cell \u001b[1;32mIn[10], line 11\u001b[0m\n\u001b[0;32m      9\u001b[0m scores \u001b[39m=\u001b[39m []\n\u001b[0;32m     10\u001b[0m \u001b[39mfor\u001b[39;00m i \u001b[39min\u001b[39;00m \u001b[39mrange\u001b[39m(\u001b[39m2\u001b[39m,\u001b[39m10\u001b[39m):\n\u001b[1;32m---> 11\u001b[0m     score \u001b[39m=\u001b[39m cross_val_score(knn_clf, grayscale_training, ground_truths, cv \u001b[39m=\u001b[39;49m i, n_jobs \u001b[39m=\u001b[39;49m \u001b[39m-\u001b[39;49m\u001b[39m1\u001b[39;49m)\n\u001b[0;32m     12\u001b[0m     score \u001b[39m=\u001b[39m score\u001b[39m.\u001b[39mmean() \u001b[39m# take the mean of the cross_val_scores to estimate average performance across the folds\u001b[39;00m\n\u001b[0;32m     13\u001b[0m     scores\u001b[39m.\u001b[39mappend(score)\n",
            "File \u001b[1;32mc:\\Users\\liam\\AppData\\Local\\Programs\\Python\\Python39\\lib\\site-packages\\sklearn\\model_selection\\_validation.py:515\u001b[0m, in \u001b[0;36mcross_val_score\u001b[1;34m(estimator, X, y, groups, scoring, cv, n_jobs, verbose, fit_params, pre_dispatch, error_score)\u001b[0m\n\u001b[0;32m    512\u001b[0m \u001b[39m# To ensure multimetric format is not supported\u001b[39;00m\n\u001b[0;32m    513\u001b[0m scorer \u001b[39m=\u001b[39m check_scoring(estimator, scoring\u001b[39m=\u001b[39mscoring)\n\u001b[1;32m--> 515\u001b[0m cv_results \u001b[39m=\u001b[39m cross_validate(\n\u001b[0;32m    516\u001b[0m     estimator\u001b[39m=\u001b[39;49mestimator,\n\u001b[0;32m    517\u001b[0m     X\u001b[39m=\u001b[39;49mX,\n\u001b[0;32m    518\u001b[0m     y\u001b[39m=\u001b[39;49my,\n\u001b[0;32m    519\u001b[0m     groups\u001b[39m=\u001b[39;49mgroups,\n\u001b[0;32m    520\u001b[0m     scoring\u001b[39m=\u001b[39;49m{\u001b[39m\"\u001b[39;49m\u001b[39mscore\u001b[39;49m\u001b[39m\"\u001b[39;49m: scorer},\n\u001b[0;32m    521\u001b[0m     cv\u001b[39m=\u001b[39;49mcv,\n\u001b[0;32m    522\u001b[0m     n_jobs\u001b[39m=\u001b[39;49mn_jobs,\n\u001b[0;32m    523\u001b[0m     verbose\u001b[39m=\u001b[39;49mverbose,\n\u001b[0;32m    524\u001b[0m     fit_params\u001b[39m=\u001b[39;49mfit_params,\n\u001b[0;32m    525\u001b[0m     pre_dispatch\u001b[39m=\u001b[39;49mpre_dispatch,\n\u001b[0;32m    526\u001b[0m     error_score\u001b[39m=\u001b[39;49merror_score,\n\u001b[0;32m    527\u001b[0m )\n\u001b[0;32m    528\u001b[0m \u001b[39mreturn\u001b[39;00m cv_results[\u001b[39m\"\u001b[39m\u001b[39mtest_score\u001b[39m\u001b[39m\"\u001b[39m]\n",
            "File \u001b[1;32mc:\\Users\\liam\\AppData\\Local\\Programs\\Python\\Python39\\lib\\site-packages\\sklearn\\model_selection\\_validation.py:266\u001b[0m, in \u001b[0;36mcross_validate\u001b[1;34m(estimator, X, y, groups, scoring, cv, n_jobs, verbose, fit_params, pre_dispatch, return_train_score, return_estimator, error_score)\u001b[0m\n\u001b[0;32m    263\u001b[0m \u001b[39m# We clone the estimator to make sure that all the folds are\u001b[39;00m\n\u001b[0;32m    264\u001b[0m \u001b[39m# independent, and that it is pickle-able.\u001b[39;00m\n\u001b[0;32m    265\u001b[0m parallel \u001b[39m=\u001b[39m Parallel(n_jobs\u001b[39m=\u001b[39mn_jobs, verbose\u001b[39m=\u001b[39mverbose, pre_dispatch\u001b[39m=\u001b[39mpre_dispatch)\n\u001b[1;32m--> 266\u001b[0m results \u001b[39m=\u001b[39m parallel(\n\u001b[0;32m    267\u001b[0m     delayed(_fit_and_score)(\n\u001b[0;32m    268\u001b[0m         clone(estimator),\n\u001b[0;32m    269\u001b[0m         X,\n\u001b[0;32m    270\u001b[0m         y,\n\u001b[0;32m    271\u001b[0m         scorers,\n\u001b[0;32m    272\u001b[0m         train,\n\u001b[0;32m    273\u001b[0m         test,\n\u001b[0;32m    274\u001b[0m         verbose,\n\u001b[0;32m    275\u001b[0m         \u001b[39mNone\u001b[39;49;00m,\n\u001b[0;32m    276\u001b[0m         fit_params,\n\u001b[0;32m    277\u001b[0m         return_train_score\u001b[39m=\u001b[39;49mreturn_train_score,\n\u001b[0;32m    278\u001b[0m         return_times\u001b[39m=\u001b[39;49m\u001b[39mTrue\u001b[39;49;00m,\n\u001b[0;32m    279\u001b[0m         return_estimator\u001b[39m=\u001b[39;49mreturn_estimator,\n\u001b[0;32m    280\u001b[0m         error_score\u001b[39m=\u001b[39;49merror_score,\n\u001b[0;32m    281\u001b[0m     )\n\u001b[0;32m    282\u001b[0m     \u001b[39mfor\u001b[39;49;00m train, test \u001b[39min\u001b[39;49;00m cv\u001b[39m.\u001b[39;49msplit(X, y, groups)\n\u001b[0;32m    283\u001b[0m )\n\u001b[0;32m    285\u001b[0m _warn_or_raise_about_fit_failures(results, error_score)\n\u001b[0;32m    287\u001b[0m \u001b[39m# For callabe scoring, the return type is only know after calling. If the\u001b[39;00m\n\u001b[0;32m    288\u001b[0m \u001b[39m# return type is a dictionary, the error scores can now be inserted with\u001b[39;00m\n\u001b[0;32m    289\u001b[0m \u001b[39m# the correct key.\u001b[39;00m\n",
            "File \u001b[1;32mc:\\Users\\liam\\AppData\\Local\\Programs\\Python\\Python39\\lib\\site-packages\\sklearn\\utils\\parallel.py:63\u001b[0m, in \u001b[0;36mParallel.__call__\u001b[1;34m(self, iterable)\u001b[0m\n\u001b[0;32m     58\u001b[0m config \u001b[39m=\u001b[39m get_config()\n\u001b[0;32m     59\u001b[0m iterable_with_config \u001b[39m=\u001b[39m (\n\u001b[0;32m     60\u001b[0m     (_with_config(delayed_func, config), args, kwargs)\n\u001b[0;32m     61\u001b[0m     \u001b[39mfor\u001b[39;00m delayed_func, args, kwargs \u001b[39min\u001b[39;00m iterable\n\u001b[0;32m     62\u001b[0m )\n\u001b[1;32m---> 63\u001b[0m \u001b[39mreturn\u001b[39;00m \u001b[39msuper\u001b[39;49m()\u001b[39m.\u001b[39;49m\u001b[39m__call__\u001b[39;49m(iterable_with_config)\n",
            "File \u001b[1;32mc:\\Users\\liam\\AppData\\Local\\Programs\\Python\\Python39\\lib\\site-packages\\joblib\\parallel.py:1098\u001b[0m, in \u001b[0;36mParallel.__call__\u001b[1;34m(self, iterable)\u001b[0m\n\u001b[0;32m   1095\u001b[0m     \u001b[39mself\u001b[39m\u001b[39m.\u001b[39m_iterating \u001b[39m=\u001b[39m \u001b[39mFalse\u001b[39;00m\n\u001b[0;32m   1097\u001b[0m \u001b[39mwith\u001b[39;00m \u001b[39mself\u001b[39m\u001b[39m.\u001b[39m_backend\u001b[39m.\u001b[39mretrieval_context():\n\u001b[1;32m-> 1098\u001b[0m     \u001b[39mself\u001b[39;49m\u001b[39m.\u001b[39;49mretrieve()\n\u001b[0;32m   1099\u001b[0m \u001b[39m# Make sure that we get a last message telling us we are done\u001b[39;00m\n\u001b[0;32m   1100\u001b[0m elapsed_time \u001b[39m=\u001b[39m time\u001b[39m.\u001b[39mtime() \u001b[39m-\u001b[39m \u001b[39mself\u001b[39m\u001b[39m.\u001b[39m_start_time\n",
            "File \u001b[1;32mc:\\Users\\liam\\AppData\\Local\\Programs\\Python\\Python39\\lib\\site-packages\\joblib\\parallel.py:975\u001b[0m, in \u001b[0;36mParallel.retrieve\u001b[1;34m(self)\u001b[0m\n\u001b[0;32m    973\u001b[0m \u001b[39mtry\u001b[39;00m:\n\u001b[0;32m    974\u001b[0m     \u001b[39mif\u001b[39;00m \u001b[39mgetattr\u001b[39m(\u001b[39mself\u001b[39m\u001b[39m.\u001b[39m_backend, \u001b[39m'\u001b[39m\u001b[39msupports_timeout\u001b[39m\u001b[39m'\u001b[39m, \u001b[39mFalse\u001b[39;00m):\n\u001b[1;32m--> 975\u001b[0m         \u001b[39mself\u001b[39m\u001b[39m.\u001b[39m_output\u001b[39m.\u001b[39mextend(job\u001b[39m.\u001b[39;49mget(timeout\u001b[39m=\u001b[39;49m\u001b[39mself\u001b[39;49m\u001b[39m.\u001b[39;49mtimeout))\n\u001b[0;32m    976\u001b[0m     \u001b[39melse\u001b[39;00m:\n\u001b[0;32m    977\u001b[0m         \u001b[39mself\u001b[39m\u001b[39m.\u001b[39m_output\u001b[39m.\u001b[39mextend(job\u001b[39m.\u001b[39mget())\n",
            "File \u001b[1;32mc:\\Users\\liam\\AppData\\Local\\Programs\\Python\\Python39\\lib\\site-packages\\joblib\\_parallel_backends.py:567\u001b[0m, in \u001b[0;36mLokyBackend.wrap_future_result\u001b[1;34m(future, timeout)\u001b[0m\n\u001b[0;32m    564\u001b[0m \u001b[39m\u001b[39m\u001b[39m\"\"\"Wrapper for Future.result to implement the same behaviour as\u001b[39;00m\n\u001b[0;32m    565\u001b[0m \u001b[39mAsyncResults.get from multiprocessing.\"\"\"\u001b[39;00m\n\u001b[0;32m    566\u001b[0m \u001b[39mtry\u001b[39;00m:\n\u001b[1;32m--> 567\u001b[0m     \u001b[39mreturn\u001b[39;00m future\u001b[39m.\u001b[39;49mresult(timeout\u001b[39m=\u001b[39;49mtimeout)\n\u001b[0;32m    568\u001b[0m \u001b[39mexcept\u001b[39;00m CfTimeoutError \u001b[39mas\u001b[39;00m e:\n\u001b[0;32m    569\u001b[0m     \u001b[39mraise\u001b[39;00m \u001b[39mTimeoutError\u001b[39;00m \u001b[39mfrom\u001b[39;00m \u001b[39me\u001b[39;00m\n",
            "File \u001b[1;32mc:\\Users\\liam\\AppData\\Local\\Programs\\Python\\Python39\\lib\\concurrent\\futures\\_base.py:441\u001b[0m, in \u001b[0;36mFuture.result\u001b[1;34m(self, timeout)\u001b[0m\n\u001b[0;32m    438\u001b[0m \u001b[39melif\u001b[39;00m \u001b[39mself\u001b[39m\u001b[39m.\u001b[39m_state \u001b[39m==\u001b[39m FINISHED:\n\u001b[0;32m    439\u001b[0m     \u001b[39mreturn\u001b[39;00m \u001b[39mself\u001b[39m\u001b[39m.\u001b[39m__get_result()\n\u001b[1;32m--> 441\u001b[0m \u001b[39mself\u001b[39;49m\u001b[39m.\u001b[39;49m_condition\u001b[39m.\u001b[39;49mwait(timeout)\n\u001b[0;32m    443\u001b[0m \u001b[39mif\u001b[39;00m \u001b[39mself\u001b[39m\u001b[39m.\u001b[39m_state \u001b[39min\u001b[39;00m [CANCELLED, CANCELLED_AND_NOTIFIED]:\n\u001b[0;32m    444\u001b[0m     \u001b[39mraise\u001b[39;00m CancelledError()\n",
            "File \u001b[1;32mc:\\Users\\liam\\AppData\\Local\\Programs\\Python\\Python39\\lib\\threading.py:312\u001b[0m, in \u001b[0;36mCondition.wait\u001b[1;34m(self, timeout)\u001b[0m\n\u001b[0;32m    310\u001b[0m \u001b[39mtry\u001b[39;00m:    \u001b[39m# restore state no matter what (e.g., KeyboardInterrupt)\u001b[39;00m\n\u001b[0;32m    311\u001b[0m     \u001b[39mif\u001b[39;00m timeout \u001b[39mis\u001b[39;00m \u001b[39mNone\u001b[39;00m:\n\u001b[1;32m--> 312\u001b[0m         waiter\u001b[39m.\u001b[39;49macquire()\n\u001b[0;32m    313\u001b[0m         gotit \u001b[39m=\u001b[39m \u001b[39mTrue\u001b[39;00m\n\u001b[0;32m    314\u001b[0m     \u001b[39melse\u001b[39;00m:\n",
            "\u001b[1;31mKeyboardInterrupt\u001b[0m: "
          ]
        }
      ],
      "source": [
        "from sklearn.model_selection import cross_val_predict\n",
        "from sklearn.model_selection import cross_val_score\n",
        "from sklearn.metrics import confusion_matrix\n",
        "\n",
        "#Do cross validation with different number of folds\n",
        "#we will try to find the optimal number of folds for cross validation\n",
        "#we will try it with between 2-10 folds\n",
        "\n",
        "scores = []\n",
        "for i in range(2,10):\n",
        "    score = cross_val_score(knn_clf, grayscale_training, ground_truths, cv = i, n_jobs = -1)\n",
        "    score = score.mean() # take the mean of the cross_val_scores to estimate average performance across the folds\n",
        "    scores.append(score)\n",
        "\n",
        "max_val = max(scores)\n",
        "print(max_val)\n",
        "index_val = scores.index(max_val) + 2\n",
        "\n",
        "print(\"Best value for folds: \", index_val)\n",
        "\n",
        "\n"
      ]
    },
    {
      "cell_type": "markdown",
      "metadata": {
        "id": "Utk6tP7x7pwr"
      },
      "source": [
        "## Plot number of folds against cross_val_score"
      ]
    },
    {
      "cell_type": "code",
      "execution_count": null,
      "metadata": {
        "colab": {
          "base_uri": "https://localhost:8080/",
          "height": 453
        },
        "id": "UVsC0b7h7pwr",
        "outputId": "ddca8e33-cffe-4279-f7fe-10a2546a9696"
      },
      "outputs": [
        {
          "data": {
            "image/png": "[encoded data removed]",
            "text/plain": [
              "<Figure size 640x480 with 1 Axes>"
            ]
          },
          "metadata": {},
          "output_type": "display_data"
        }
      ],
      "source": [
        "xplt_values = [i for i in range(2, 10)]\n",
        "y_values = scores\n",
        "\n",
        "plt.plot(xplt_values, y_values, 'r-')\n",
        "plt.xlabel(\"Number of folds in CV\")\n",
        "plt.ylabel(\"Cross validation average score\")\n",
        "plt.show()"
      ]
    },
    {
      "cell_type": "markdown",
      "metadata": {
        "id": "dcJs_Z8q7pws"
      },
      "source": [
        "# From the above graph\n",
        "We can see that there is minimal change in the cross_val_score when using folds between 5 and 9 , with the score peaking with 7 folds <br />\n",
        "For this reason we will choose 7 as a good number of folds to use and then go with this to tune the other hyperparameters"
      ]
    },
    {
      "cell_type": "code",
      "execution_count": 11,
      "metadata": {
        "colab": {
          "base_uri": "https://localhost:8080/"
        },
        "id": "UoFivuAb7pws",
        "outputId": "cbee1bfa-39ef-45b3-acd2-3189150f5fa6"
      },
      "outputs": [
        {
          "name": "stdout",
          "output_type": "stream",
          "text": [
            "0.6954004134893986\n"
          ]
        }
      ],
      "source": [
        "from sklearn.model_selection import cross_val_score\n",
        "knn_clf = KNeighborsClassifier()\n",
        "score = cross_val_score(knn_clf, grayscale_training, ground_truths, n_jobs = -1, cv=7 ).mean()\n",
        "print(score)"
      ]
    },
    {
      "cell_type": "markdown",
      "metadata": {
        "id": "c4bjJRlw7pws"
      },
      "source": [
        "## Now we want to find optimal number of n_neighbours\n",
        "This is the number of neighbours each sample considers when being classified as a given target <br />\n",
        "We can do this using GridSearch\n"
      ]
    },
    {
      "cell_type": "code",
      "execution_count": 12,
      "metadata": {
        "id": "p_u2qRYA7pws"
      },
      "outputs": [],
      "source": [
        "from sklearn.neighbors import KNeighborsClassifier\n",
        "from sklearn.model_selection import GridSearchCV\n",
        "\n",
        "hyperparameters = {'n_neighbors': [3,5,7,9,11,13,15]}"
      ]
    },
    {
      "cell_type": "code",
      "execution_count": 17,
      "metadata": {},
      "outputs": [
        {
          "ename": "ModuleNotFoundError",
          "evalue": "No module named 'pyspark'",
          "output_type": "error",
          "traceback": [
            "\u001b[1;31m---------------------------------------------------------------------------\u001b[0m",
            "\u001b[1;31mModuleNotFoundError\u001b[0m                       Traceback (most recent call last)",
            "Cell \u001b[1;32mIn[17], line 8\u001b[0m\n\u001b[0;32m      6\u001b[0m \u001b[39mfrom\u001b[39;00m \u001b[39msklearn\u001b[39;00m\u001b[39m.\u001b[39;00m\u001b[39mmodel_selection\u001b[39;00m \u001b[39mimport\u001b[39;00m cross_val_score\n\u001b[0;32m      7\u001b[0m \u001b[39mfrom\u001b[39;00m \u001b[39msklearn\u001b[39;00m\u001b[39m.\u001b[39;00m\u001b[39mneighbors\u001b[39;00m \u001b[39mimport\u001b[39;00m KNeighborsClassifier\n\u001b[1;32m----> 8\u001b[0m \u001b[39mfrom\u001b[39;00m \u001b[39mpyspark\u001b[39;00m\u001b[39m.\u001b[39;00m\u001b[39msql\u001b[39;00m \u001b[39mimport\u001b[39;00m SparkSession\n\u001b[0;32m      9\u001b[0m \u001b[39mfrom\u001b[39;00m \u001b[39mskopt\u001b[39;00m\u001b[39m.\u001b[39;00m\u001b[39mspark\u001b[39;00m \u001b[39mimport\u001b[39;00m SparkTrials\n\u001b[0;32m     10\u001b[0m \u001b[39mimport\u001b[39;00m \u001b[39mnumpy\u001b[39;00m \u001b[39mas\u001b[39;00m \u001b[39mnp\u001b[39;00m\n",
            "\u001b[1;31mModuleNotFoundError\u001b[0m: No module named 'pyspark'"
          ]
        }
      ],
      "source": [
        "#TESTING SHIT\n",
        "from skopt import gp_minimize\n",
        "from skopt.space import Real, Integer\n",
        "from skopt.utils import use_named_args\n",
        "from sklearn.datasets import make_classification\n",
        "from sklearn.model_selection import cross_val_score\n",
        "from sklearn.neighbors import KNeighborsClassifier\n",
        "from pyspark.sql import SparkSession\n",
        "from skopt.spark import SparkTrials\n",
        "import numpy as np"
      ]
    },
    {
      "cell_type": "code",
      "execution_count": 18,
      "metadata": {
        "colab": {
          "base_uri": "https://localhost:8080/",
          "height": 117
        },
        "id": "sr6hxvDn7pws",
        "outputId": "08422c49-2e57-4197-f3ee-588bfe9eb850"
      },
      "outputs": [
        {
          "data": {
            "text/html": [
              "<style>#sk-container-id-2 {color: black;background-color: white;}#sk-container-id-2 pre{padding: 0;}#sk-container-id-2 div.sk-toggleable {background-color: white;}#sk-container-id-2 label.sk-toggleable__label {cursor: pointer;display: block;width: 100%;margin-bottom: 0;padding: 0.3em;box-sizing: border-box;text-align: center;}#sk-container-id-2 label.sk-toggleable__label-arrow:before {content: \"▸\";float: left;margin-right: 0.25em;color: #696969;}#sk-container-id-2 label.sk-toggleable__label-arrow:hover:before {color: black;}#sk-container-id-2 div.sk-estimator:hover label.sk-toggleable__label-arrow:before {color: black;}#sk-container-id-2 div.sk-toggleable__content {max-height: 0;max-width: 0;overflow: hidden;text-align: left;background-color: #f0f8ff;}#sk-container-id-2 div.sk-toggleable__content pre {margin: 0.2em;color: black;border-radius: 0.25em;background-color: #f0f8ff;}#sk-container-id-2 input.sk-toggleable__control:checked~div.sk-toggleable__content {max-height: 200px;max-width: 100%;overflow: auto;}#sk-container-id-2 input.sk-toggleable__control:checked~label.sk-toggleable__label-arrow:before {content: \"▾\";}#sk-container-id-2 div.sk-estimator input.sk-toggleable__control:checked~label.sk-toggleable__label {background-color: #d4ebff;}#sk-container-id-2 div.sk-label input.sk-toggleable__control:checked~label.sk-toggleable__label {background-color: #d4ebff;}#sk-container-id-2 input.sk-hidden--visually {border: 0;clip: rect(1px 1px 1px 1px);clip: rect(1px, 1px, 1px, 1px);height: 1px;margin: -1px;overflow: hidden;padding: 0;position: absolute;width: 1px;}#sk-container-id-2 div.sk-estimator {font-family: monospace;background-color: #f0f8ff;border: 1px dotted black;border-radius: 0.25em;box-sizing: border-box;margin-bottom: 0.5em;}#sk-container-id-2 div.sk-estimator:hover {background-color: #d4ebff;}#sk-container-id-2 div.sk-parallel-item::after {content: \"\";width: 100%;border-bottom: 1px solid gray;flex-grow: 1;}#sk-container-id-2 div.sk-label:hover label.sk-toggleable__label {background-color: #d4ebff;}#sk-container-id-2 div.sk-serial::before {content: \"\";position: absolute;border-left: 1px solid gray;box-sizing: border-box;top: 0;bottom: 0;left: 50%;z-index: 0;}#sk-container-id-2 div.sk-serial {display: flex;flex-direction: column;align-items: center;background-color: white;padding-right: 0.2em;padding-left: 0.2em;position: relative;}#sk-container-id-2 div.sk-item {position: relative;z-index: 1;}#sk-container-id-2 div.sk-parallel {display: flex;align-items: stretch;justify-content: center;background-color: white;position: relative;}#sk-container-id-2 div.sk-item::before, #sk-container-id-2 div.sk-parallel-item::before {content: \"\";position: absolute;border-left: 1px solid gray;box-sizing: border-box;top: 0;bottom: 0;left: 50%;z-index: -1;}#sk-container-id-2 div.sk-parallel-item {display: flex;flex-direction: column;z-index: 1;position: relative;background-color: white;}#sk-container-id-2 div.sk-parallel-item:first-child::after {align-self: flex-end;width: 50%;}#sk-container-id-2 div.sk-parallel-item:last-child::after {align-self: flex-start;width: 50%;}#sk-container-id-2 div.sk-parallel-item:only-child::after {width: 0;}#sk-container-id-2 div.sk-dashed-wrapped {border: 1px dashed gray;margin: 0 0.4em 0.5em 0.4em;box-sizing: border-box;padding-bottom: 0.4em;background-color: white;}#sk-container-id-2 div.sk-label label {font-family: monospace;font-weight: bold;display: inline-block;line-height: 1.2em;}#sk-container-id-2 div.sk-label-container {text-align: center;}#sk-container-id-2 div.sk-container {/* jupyter's `normalize.less` sets `[hidden] { display: none; }` but bootstrap.min.css set `[hidden] { display: none !important; }` so we also need the `!important` here to be able to override the default hidden behavior on the sphinx rendered scikit-learn.org. See: https://github.com/scikit-learn/scikit-learn/issues/21755 */display: inline-block !important;position: relative;}#sk-container-id-2 div.sk-text-repr-fallback {display: none;}</style><div id=\"sk-container-id-2\" class=\"sk-top-container\"><div class=\"sk-text-repr-fallback\"><pre>GridSearchCV(cv=7, estimator=KNeighborsClassifier(),\n",
              "             param_grid={&#x27;n_neighbors&#x27;: [3, 5, 7, 9, 11, 13, 15]})</pre><b>In a Jupyter environment, please rerun this cell to show the HTML representation or trust the notebook. <br />On GitHub, the HTML representation is unable to render, please try loading this page with nbviewer.org.</b></div><div class=\"sk-container\" hidden><div class=\"sk-item sk-dashed-wrapped\"><div class=\"sk-label-container\"><div class=\"sk-label sk-toggleable\"><input class=\"sk-toggleable__control sk-hidden--visually\" id=\"sk-estimator-id-2\" type=\"checkbox\" ><label for=\"sk-estimator-id-2\" class=\"sk-toggleable__label sk-toggleable__label-arrow\">GridSearchCV</label><div class=\"sk-toggleable__content\"><pre>GridSearchCV(cv=7, estimator=KNeighborsClassifier(),\n",
              "             param_grid={&#x27;n_neighbors&#x27;: [3, 5, 7, 9, 11, 13, 15]})</pre></div></div></div><div class=\"sk-parallel\"><div class=\"sk-parallel-item\"><div class=\"sk-item\"><div class=\"sk-label-container\"><div class=\"sk-label sk-toggleable\"><input class=\"sk-toggleable__control sk-hidden--visually\" id=\"sk-estimator-id-3\" type=\"checkbox\" ><label for=\"sk-estimator-id-3\" class=\"sk-toggleable__label sk-toggleable__label-arrow\">estimator: KNeighborsClassifier</label><div class=\"sk-toggleable__content\"><pre>KNeighborsClassifier()</pre></div></div></div><div class=\"sk-serial\"><div class=\"sk-item\"><div class=\"sk-estimator sk-toggleable\"><input class=\"sk-toggleable__control sk-hidden--visually\" id=\"sk-estimator-id-4\" type=\"checkbox\" ><label for=\"sk-estimator-id-4\" class=\"sk-toggleable__label sk-toggleable__label-arrow\">KNeighborsClassifier</label><div class=\"sk-toggleable__content\"><pre>KNeighborsClassifier()</pre></div></div></div></div></div></div></div></div></div></div>"
            ],
            "text/plain": [
              "GridSearchCV(cv=7, estimator=KNeighborsClassifier(),\n",
              "             param_grid={'n_neighbors': [3, 5, 7, 9, 11, 13, 15]})"
            ]
          },
          "execution_count": 18,
          "metadata": {},
          "output_type": "execute_result"
        }
      ],
      "source": [
        "#Now we run GridSearch to find optimal value for nearest neighbours\n",
        "\n",
        "\n",
        "grid_search = GridSearchCV(knn_clf, hyperparameters, cv = 7)\n",
        "grid_search.fit(grayscale_training, ground_truths)"
      ]
    },
    {
      "cell_type": "code",
      "execution_count": 19,
      "metadata": {
        "colab": {
          "base_uri": "https://localhost:8080/"
        },
        "id": "t05rUdPq7pwt",
        "outputId": "bc553a9d-a738-43fc-c98a-165b6d8eac74"
      },
      "outputs": [
        {
          "name": "stdout",
          "output_type": "stream",
          "text": [
            "Accuracy of this model with  15 is  0.7249012971178674\n"
          ]
        }
      ],
      "source": [
        "#Once we have run that, we have *optimal values for n_neighbours and fold count (cv)\n",
        "optimal_neighbors = grid_search.best_params_['n_neighbors']\n",
        "knn_optimal = KNeighborsClassifier(n_neighbors=optimal_neighbors, weights = 'distance')\n",
        "score = cross_val_score(knn_optimal, grayscale_training, ground_truths, cv = 7).mean()\n",
        "\n",
        "\n",
        "print(\"Accuracy of this model with \",optimal_neighbors, \"is \", score)\n",
        "\n"
      ]
    },
    {
      "cell_type": "markdown",
      "metadata": {
        "id": "86t8jzF07pwt"
      },
      "source": [
        "# Progress up to this point\n",
        "So far we have determined an appropriate value for CV folds and N nearest neighbours <br />\n",
        "We have done this using Euclidian (straight line) distance between points for classification <br />\n",
        "Up to this point our model has a validation accuracy of 72%, not great, not terrible"
      ]
    },
    {
      "cell_type": "markdown",
      "metadata": {
        "id": "ew3jGIgH7pwt"
      },
      "source": [
        "# Running Grid Search with multiple hyperparameters\n",
        "## Our KNN classifier has multiple hyperparameters\n",
        "- Given that each of our hyperparameters has a relatively small range of values, its worth running grid search with all of the hyperparameter options.\n",
        "- By doing this we are guaranteed to find the optimal set of hyperparameters within the defined ranges.\n"
      ]
    },
    {
      "cell_type": "code",
      "execution_count": 18,
      "metadata": {
        "colab": {
          "base_uri": "https://localhost:8080/",
          "height": 380
        },
        "id": "a7St6kU57pwt",
        "outputId": "43aca1cd-f307-448d-9e4c-614265951822"
      },
      "outputs": [
        {
          "ename": "KeyboardInterrupt",
          "evalue": "ignored",
          "output_type": "error",
          "traceback": [
            "\u001b[0;31m---------------------------------------------------------------------------\u001b[0m",
            "\u001b[0;31mKeyboardInterrupt\u001b[0m                         Traceback (most recent call last)",
            "\u001b[0;32m<ipython-input-18-ff056a1cce15>\u001b[0m in \u001b[0;36m<cell line: 15>\u001b[0;34m()\u001b[0m\n\u001b[1;32m     13\u001b[0m \u001b[0;31m#we will use the same KNN as we used above (knn_clf)\u001b[0m\u001b[0;34m\u001b[0m\u001b[0;34m\u001b[0m\u001b[0m\n\u001b[1;32m     14\u001b[0m \u001b[0mgrid_search\u001b[0m \u001b[0;34m=\u001b[0m \u001b[0mGridSearchCV\u001b[0m\u001b[0;34m(\u001b[0m\u001b[0mknn_clf\u001b[0m\u001b[0;34m,\u001b[0m\u001b[0mparam_grid\u001b[0m\u001b[0;34m=\u001b[0m\u001b[0mparam_grid\u001b[0m\u001b[0;34m,\u001b[0m \u001b[0mcv\u001b[0m \u001b[0;34m=\u001b[0m \u001b[0;36m7\u001b[0m\u001b[0;34m)\u001b[0m\u001b[0;34m\u001b[0m\u001b[0;34m\u001b[0m\u001b[0m\n\u001b[0;32m---> 15\u001b[0;31m \u001b[0mgrid_search\u001b[0m\u001b[0;34m.\u001b[0m\u001b[0mfit\u001b[0m\u001b[0;34m(\u001b[0m\u001b[0mx_train\u001b[0m\u001b[0;34m,\u001b[0m \u001b[0my_train\u001b[0m\u001b[0;34m)\u001b[0m\u001b[0;34m\u001b[0m\u001b[0;34m\u001b[0m\u001b[0m\n\u001b[0m\u001b[1;32m     16\u001b[0m \u001b[0mopt_params\u001b[0m \u001b[0;34m=\u001b[0m \u001b[0mgrid_search\u001b[0m\u001b[0;34m.\u001b[0m\u001b[0mbest_params_\u001b[0m\u001b[0;34m\u001b[0m\u001b[0;34m\u001b[0m\u001b[0m\n\u001b[1;32m     17\u001b[0m \u001b[0;34m\u001b[0m\u001b[0m\n",
            "\u001b[0;32m/usr/local/lib/python3.9/dist-packages/sklearn/model_selection/_search.py\u001b[0m in \u001b[0;36mfit\u001b[0;34m(self, X, y, groups, **fit_params)\u001b[0m\n\u001b[1;32m    872\u001b[0m                 \u001b[0;32mreturn\u001b[0m \u001b[0mresults\u001b[0m\u001b[0;34m\u001b[0m\u001b[0;34m\u001b[0m\u001b[0m\n\u001b[1;32m    873\u001b[0m \u001b[0;34m\u001b[0m\u001b[0m\n\u001b[0;32m--> 874\u001b[0;31m             \u001b[0mself\u001b[0m\u001b[0;34m.\u001b[0m\u001b[0m_run_search\u001b[0m\u001b[0;34m(\u001b[0m\u001b[0mevaluate_candidates\u001b[0m\u001b[0;34m)\u001b[0m\u001b[0;34m\u001b[0m\u001b[0;34m\u001b[0m\u001b[0m\n\u001b[0m\u001b[1;32m    875\u001b[0m \u001b[0;34m\u001b[0m\u001b[0m\n\u001b[1;32m    876\u001b[0m             \u001b[0;31m# multimetric is determined here because in the case of a callable\u001b[0m\u001b[0;34m\u001b[0m\u001b[0;34m\u001b[0m\u001b[0m\n",
            "\u001b[0;32m/usr/local/lib/python3.9/dist-packages/sklearn/model_selection/_search.py\u001b[0m in \u001b[0;36m_run_search\u001b[0;34m(self, evaluate_candidates)\u001b[0m\n\u001b[1;32m   1386\u001b[0m     \u001b[0;32mdef\u001b[0m \u001b[0m_run_search\u001b[0m\u001b[0;34m(\u001b[0m\u001b[0mself\u001b[0m\u001b[0;34m,\u001b[0m \u001b[0mevaluate_candidates\u001b[0m\u001b[0;34m)\u001b[0m\u001b[0;34m:\u001b[0m\u001b[0;34m\u001b[0m\u001b[0;34m\u001b[0m\u001b[0m\n\u001b[1;32m   1387\u001b[0m         \u001b[0;34m\"\"\"Search all candidates in param_grid\"\"\"\u001b[0m\u001b[0;34m\u001b[0m\u001b[0;34m\u001b[0m\u001b[0m\n\u001b[0;32m-> 1388\u001b[0;31m         \u001b[0mevaluate_candidates\u001b[0m\u001b[0;34m(\u001b[0m\u001b[0mParameterGrid\u001b[0m\u001b[0;34m(\u001b[0m\u001b[0mself\u001b[0m\u001b[0;34m.\u001b[0m\u001b[0mparam_grid\u001b[0m\u001b[0;34m)\u001b[0m\u001b[0;34m)\u001b[0m\u001b[0;34m\u001b[0m\u001b[0;34m\u001b[0m\u001b[0m\n\u001b[0m\u001b[1;32m   1389\u001b[0m \u001b[0;34m\u001b[0m\u001b[0m\n\u001b[1;32m   1390\u001b[0m \u001b[0;34m\u001b[0m\u001b[0m\n",
            "\u001b[0;32m/usr/local/lib/python3.9/dist-packages/sklearn/model_selection/_search.py\u001b[0m in \u001b[0;36mevaluate_candidates\u001b[0;34m(candidate_params, cv, more_results)\u001b[0m\n\u001b[1;32m    819\u001b[0m                     )\n\u001b[1;32m    820\u001b[0m \u001b[0;34m\u001b[0m\u001b[0m\n\u001b[0;32m--> 821\u001b[0;31m                 out = parallel(\n\u001b[0m\u001b[1;32m    822\u001b[0m                     delayed(_fit_and_score)(\n\u001b[1;32m    823\u001b[0m                         \u001b[0mclone\u001b[0m\u001b[0;34m(\u001b[0m\u001b[0mbase_estimator\u001b[0m\u001b[0;34m)\u001b[0m\u001b[0;34m,\u001b[0m\u001b[0;34m\u001b[0m\u001b[0;34m\u001b[0m\u001b[0m\n",
            "\u001b[0;32m/usr/local/lib/python3.9/dist-packages/sklearn/utils/parallel.py\u001b[0m in \u001b[0;36m__call__\u001b[0;34m(self, iterable)\u001b[0m\n\u001b[1;32m     61\u001b[0m             \u001b[0;32mfor\u001b[0m \u001b[0mdelayed_func\u001b[0m\u001b[0;34m,\u001b[0m \u001b[0margs\u001b[0m\u001b[0;34m,\u001b[0m \u001b[0mkwargs\u001b[0m \u001b[0;32min\u001b[0m \u001b[0miterable\u001b[0m\u001b[0;34m\u001b[0m\u001b[0;34m\u001b[0m\u001b[0m\n\u001b[1;32m     62\u001b[0m         )\n\u001b[0;32m---> 63\u001b[0;31m         \u001b[0;32mreturn\u001b[0m \u001b[0msuper\u001b[0m\u001b[0;34m(\u001b[0m\u001b[0;34m)\u001b[0m\u001b[0;34m.\u001b[0m\u001b[0m__call__\u001b[0m\u001b[0;34m(\u001b[0m\u001b[0miterable_with_config\u001b[0m\u001b[0;34m)\u001b[0m\u001b[0;34m\u001b[0m\u001b[0;34m\u001b[0m\u001b[0m\n\u001b[0m\u001b[1;32m     64\u001b[0m \u001b[0;34m\u001b[0m\u001b[0m\n\u001b[1;32m     65\u001b[0m \u001b[0;34m\u001b[0m\u001b[0m\n",
            "\u001b[0;32m/usr/local/lib/python3.9/dist-packages/joblib/parallel.py\u001b[0m in \u001b[0;36m__call__\u001b[0;34m(self, iterable)\u001b[0m\n\u001b[1;32m   1086\u001b[0m                 \u001b[0mself\u001b[0m\u001b[0;34m.\u001b[0m\u001b[0m_iterating\u001b[0m \u001b[0;34m=\u001b[0m \u001b[0mself\u001b[0m\u001b[0;34m.\u001b[0m\u001b[0m_original_iterator\u001b[0m \u001b[0;32mis\u001b[0m \u001b[0;32mnot\u001b[0m \u001b[0;32mNone\u001b[0m\u001b[0;34m\u001b[0m\u001b[0;34m\u001b[0m\u001b[0m\n\u001b[1;32m   1087\u001b[0m \u001b[0;34m\u001b[0m\u001b[0m\n\u001b[0;32m-> 1088\u001b[0;31m             \u001b[0;32mwhile\u001b[0m \u001b[0mself\u001b[0m\u001b[0;34m.\u001b[0m\u001b[0mdispatch_one_batch\u001b[0m\u001b[0;34m(\u001b[0m\u001b[0miterator\u001b[0m\u001b[0;34m)\u001b[0m\u001b[0;34m:\u001b[0m\u001b[0;34m\u001b[0m\u001b[0;34m\u001b[0m\u001b[0m\n\u001b[0m\u001b[1;32m   1089\u001b[0m                 \u001b[0;32mpass\u001b[0m\u001b[0;34m\u001b[0m\u001b[0;34m\u001b[0m\u001b[0m\n\u001b[1;32m   1090\u001b[0m \u001b[0;34m\u001b[0m\u001b[0m\n",
            "\u001b[0;32m/usr/local/lib/python3.9/dist-packages/joblib/parallel.py\u001b[0m in \u001b[0;36mdispatch_one_batch\u001b[0;34m(self, iterator)\u001b[0m\n\u001b[1;32m    899\u001b[0m                 \u001b[0;32mreturn\u001b[0m \u001b[0;32mFalse\u001b[0m\u001b[0;34m\u001b[0m\u001b[0;34m\u001b[0m\u001b[0m\n\u001b[1;32m    900\u001b[0m             \u001b[0;32melse\u001b[0m\u001b[0;34m:\u001b[0m\u001b[0;34m\u001b[0m\u001b[0;34m\u001b[0m\u001b[0m\n\u001b[0;32m--> 901\u001b[0;31m                 \u001b[0mself\u001b[0m\u001b[0;34m.\u001b[0m\u001b[0m_dispatch\u001b[0m\u001b[0;34m(\u001b[0m\u001b[0mtasks\u001b[0m\u001b[0;34m)\u001b[0m\u001b[0;34m\u001b[0m\u001b[0;34m\u001b[0m\u001b[0m\n\u001b[0m\u001b[1;32m    902\u001b[0m                 \u001b[0;32mreturn\u001b[0m \u001b[0;32mTrue\u001b[0m\u001b[0;34m\u001b[0m\u001b[0;34m\u001b[0m\u001b[0m\n\u001b[1;32m    903\u001b[0m \u001b[0;34m\u001b[0m\u001b[0m\n",
            "\u001b[0;32m/usr/local/lib/python3.9/dist-packages/joblib/parallel.py\u001b[0m in \u001b[0;36m_dispatch\u001b[0;34m(self, batch)\u001b[0m\n\u001b[1;32m    817\u001b[0m         \u001b[0;32mwith\u001b[0m \u001b[0mself\u001b[0m\u001b[0;34m.\u001b[0m\u001b[0m_lock\u001b[0m\u001b[0;34m:\u001b[0m\u001b[0;34m\u001b[0m\u001b[0;34m\u001b[0m\u001b[0m\n\u001b[1;32m    818\u001b[0m             \u001b[0mjob_idx\u001b[0m \u001b[0;34m=\u001b[0m \u001b[0mlen\u001b[0m\u001b[0;34m(\u001b[0m\u001b[0mself\u001b[0m\u001b[0;34m.\u001b[0m\u001b[0m_jobs\u001b[0m\u001b[0;34m)\u001b[0m\u001b[0;34m\u001b[0m\u001b[0;34m\u001b[0m\u001b[0m\n\u001b[0;32m--> 819\u001b[0;31m             \u001b[0mjob\u001b[0m \u001b[0;34m=\u001b[0m \u001b[0mself\u001b[0m\u001b[0;34m.\u001b[0m\u001b[0m_backend\u001b[0m\u001b[0;34m.\u001b[0m\u001b[0mapply_async\u001b[0m\u001b[0;34m(\u001b[0m\u001b[0mbatch\u001b[0m\u001b[0;34m,\u001b[0m \u001b[0mcallback\u001b[0m\u001b[0;34m=\u001b[0m\u001b[0mcb\u001b[0m\u001b[0;34m)\u001b[0m\u001b[0;34m\u001b[0m\u001b[0;34m\u001b[0m\u001b[0m\n\u001b[0m\u001b[1;32m    820\u001b[0m             \u001b[0;31m# A job can complete so quickly than its callback is\u001b[0m\u001b[0;34m\u001b[0m\u001b[0;34m\u001b[0m\u001b[0m\n\u001b[1;32m    821\u001b[0m             \u001b[0;31m# called before we get here, causing self._jobs to\u001b[0m\u001b[0;34m\u001b[0m\u001b[0;34m\u001b[0m\u001b[0m\n",
            "\u001b[0;32m/usr/local/lib/python3.9/dist-packages/joblib/_parallel_backends.py\u001b[0m in \u001b[0;36mapply_async\u001b[0;34m(self, func, callback)\u001b[0m\n\u001b[1;32m    206\u001b[0m     \u001b[0;32mdef\u001b[0m \u001b[0mapply_async\u001b[0m\u001b[0;34m(\u001b[0m\u001b[0mself\u001b[0m\u001b[0;34m,\u001b[0m \u001b[0mfunc\u001b[0m\u001b[0;34m,\u001b[0m \u001b[0mcallback\u001b[0m\u001b[0;34m=\u001b[0m\u001b[0;32mNone\u001b[0m\u001b[0;34m)\u001b[0m\u001b[0;34m:\u001b[0m\u001b[0;34m\u001b[0m\u001b[0;34m\u001b[0m\u001b[0m\n\u001b[1;32m    207\u001b[0m         \u001b[0;34m\"\"\"Schedule a func to be run\"\"\"\u001b[0m\u001b[0;34m\u001b[0m\u001b[0;34m\u001b[0m\u001b[0m\n\u001b[0;32m--> 208\u001b[0;31m         \u001b[0mresult\u001b[0m \u001b[0;34m=\u001b[0m \u001b[0mImmediateResult\u001b[0m\u001b[0;34m(\u001b[0m\u001b[0mfunc\u001b[0m\u001b[0;34m)\u001b[0m\u001b[0;34m\u001b[0m\u001b[0;34m\u001b[0m\u001b[0m\n\u001b[0m\u001b[1;32m    209\u001b[0m         \u001b[0;32mif\u001b[0m \u001b[0mcallback\u001b[0m\u001b[0;34m:\u001b[0m\u001b[0;34m\u001b[0m\u001b[0;34m\u001b[0m\u001b[0m\n\u001b[1;32m    210\u001b[0m             \u001b[0mcallback\u001b[0m\u001b[0;34m(\u001b[0m\u001b[0mresult\u001b[0m\u001b[0;34m)\u001b[0m\u001b[0;34m\u001b[0m\u001b[0;34m\u001b[0m\u001b[0m\n",
            "\u001b[0;32m/usr/local/lib/python3.9/dist-packages/joblib/_parallel_backends.py\u001b[0m in \u001b[0;36m__init__\u001b[0;34m(self, batch)\u001b[0m\n\u001b[1;32m    595\u001b[0m         \u001b[0;31m# Don't delay the application, to avoid keeping the input\u001b[0m\u001b[0;34m\u001b[0m\u001b[0;34m\u001b[0m\u001b[0m\n\u001b[1;32m    596\u001b[0m         \u001b[0;31m# arguments in memory\u001b[0m\u001b[0;34m\u001b[0m\u001b[0;34m\u001b[0m\u001b[0m\n\u001b[0;32m--> 597\u001b[0;31m         \u001b[0mself\u001b[0m\u001b[0;34m.\u001b[0m\u001b[0mresults\u001b[0m \u001b[0;34m=\u001b[0m \u001b[0mbatch\u001b[0m\u001b[0;34m(\u001b[0m\u001b[0;34m)\u001b[0m\u001b[0;34m\u001b[0m\u001b[0;34m\u001b[0m\u001b[0m\n\u001b[0m\u001b[1;32m    598\u001b[0m \u001b[0;34m\u001b[0m\u001b[0m\n\u001b[1;32m    599\u001b[0m     \u001b[0;32mdef\u001b[0m \u001b[0mget\u001b[0m\u001b[0;34m(\u001b[0m\u001b[0mself\u001b[0m\u001b[0;34m)\u001b[0m\u001b[0;34m:\u001b[0m\u001b[0;34m\u001b[0m\u001b[0;34m\u001b[0m\u001b[0m\n",
            "\u001b[0;32m/usr/local/lib/python3.9/dist-packages/joblib/parallel.py\u001b[0m in \u001b[0;36m__call__\u001b[0;34m(self)\u001b[0m\n\u001b[1;32m    286\u001b[0m         \u001b[0;31m# change the default number of processes to -1\u001b[0m\u001b[0;34m\u001b[0m\u001b[0;34m\u001b[0m\u001b[0m\n\u001b[1;32m    287\u001b[0m         \u001b[0;32mwith\u001b[0m \u001b[0mparallel_backend\u001b[0m\u001b[0;34m(\u001b[0m\u001b[0mself\u001b[0m\u001b[0;34m.\u001b[0m\u001b[0m_backend\u001b[0m\u001b[0;34m,\u001b[0m \u001b[0mn_jobs\u001b[0m\u001b[0;34m=\u001b[0m\u001b[0mself\u001b[0m\u001b[0;34m.\u001b[0m\u001b[0m_n_jobs\u001b[0m\u001b[0;34m)\u001b[0m\u001b[0;34m:\u001b[0m\u001b[0;34m\u001b[0m\u001b[0;34m\u001b[0m\u001b[0m\n\u001b[0;32m--> 288\u001b[0;31m             return [func(*args, **kwargs)\n\u001b[0m\u001b[1;32m    289\u001b[0m                     for func, args, kwargs in self.items]\n\u001b[1;32m    290\u001b[0m \u001b[0;34m\u001b[0m\u001b[0m\n",
            "\u001b[0;32m/usr/local/lib/python3.9/dist-packages/joblib/parallel.py\u001b[0m in \u001b[0;36m<listcomp>\u001b[0;34m(.0)\u001b[0m\n\u001b[1;32m    286\u001b[0m         \u001b[0;31m# change the default number of processes to -1\u001b[0m\u001b[0;34m\u001b[0m\u001b[0;34m\u001b[0m\u001b[0m\n\u001b[1;32m    287\u001b[0m         \u001b[0;32mwith\u001b[0m \u001b[0mparallel_backend\u001b[0m\u001b[0;34m(\u001b[0m\u001b[0mself\u001b[0m\u001b[0;34m.\u001b[0m\u001b[0m_backend\u001b[0m\u001b[0;34m,\u001b[0m \u001b[0mn_jobs\u001b[0m\u001b[0;34m=\u001b[0m\u001b[0mself\u001b[0m\u001b[0;34m.\u001b[0m\u001b[0m_n_jobs\u001b[0m\u001b[0;34m)\u001b[0m\u001b[0;34m:\u001b[0m\u001b[0;34m\u001b[0m\u001b[0;34m\u001b[0m\u001b[0m\n\u001b[0;32m--> 288\u001b[0;31m             return [func(*args, **kwargs)\n\u001b[0m\u001b[1;32m    289\u001b[0m                     for func, args, kwargs in self.items]\n\u001b[1;32m    290\u001b[0m \u001b[0;34m\u001b[0m\u001b[0m\n",
            "\u001b[0;32m/usr/local/lib/python3.9/dist-packages/sklearn/utils/parallel.py\u001b[0m in \u001b[0;36m__call__\u001b[0;34m(self, *args, **kwargs)\u001b[0m\n\u001b[1;32m    121\u001b[0m             \u001b[0mconfig\u001b[0m \u001b[0;34m=\u001b[0m \u001b[0;34m{\u001b[0m\u001b[0;34m}\u001b[0m\u001b[0;34m\u001b[0m\u001b[0;34m\u001b[0m\u001b[0m\n\u001b[1;32m    122\u001b[0m         \u001b[0;32mwith\u001b[0m \u001b[0mconfig_context\u001b[0m\u001b[0;34m(\u001b[0m\u001b[0;34m**\u001b[0m\u001b[0mconfig\u001b[0m\u001b[0;34m)\u001b[0m\u001b[0;34m:\u001b[0m\u001b[0;34m\u001b[0m\u001b[0;34m\u001b[0m\u001b[0m\n\u001b[0;32m--> 123\u001b[0;31m             \u001b[0;32mreturn\u001b[0m \u001b[0mself\u001b[0m\u001b[0;34m.\u001b[0m\u001b[0mfunction\u001b[0m\u001b[0;34m(\u001b[0m\u001b[0;34m*\u001b[0m\u001b[0margs\u001b[0m\u001b[0;34m,\u001b[0m \u001b[0;34m**\u001b[0m\u001b[0mkwargs\u001b[0m\u001b[0;34m)\u001b[0m\u001b[0;34m\u001b[0m\u001b[0;34m\u001b[0m\u001b[0m\n\u001b[0m",
            "\u001b[0;32m/usr/local/lib/python3.9/dist-packages/sklearn/model_selection/_validation.py\u001b[0m in \u001b[0;36m_fit_and_score\u001b[0;34m(estimator, X, y, scorer, train, test, verbose, parameters, fit_params, return_train_score, return_parameters, return_n_test_samples, return_times, return_estimator, split_progress, candidate_progress, error_score)\u001b[0m\n\u001b[1;32m    706\u001b[0m \u001b[0;34m\u001b[0m\u001b[0m\n\u001b[1;32m    707\u001b[0m         \u001b[0mfit_time\u001b[0m \u001b[0;34m=\u001b[0m \u001b[0mtime\u001b[0m\u001b[0;34m.\u001b[0m\u001b[0mtime\u001b[0m\u001b[0;34m(\u001b[0m\u001b[0;34m)\u001b[0m \u001b[0;34m-\u001b[0m \u001b[0mstart_time\u001b[0m\u001b[0;34m\u001b[0m\u001b[0;34m\u001b[0m\u001b[0m\n\u001b[0;32m--> 708\u001b[0;31m         \u001b[0mtest_scores\u001b[0m \u001b[0;34m=\u001b[0m \u001b[0m_score\u001b[0m\u001b[0;34m(\u001b[0m\u001b[0mestimator\u001b[0m\u001b[0;34m,\u001b[0m \u001b[0mX_test\u001b[0m\u001b[0;34m,\u001b[0m \u001b[0my_test\u001b[0m\u001b[0;34m,\u001b[0m \u001b[0mscorer\u001b[0m\u001b[0;34m,\u001b[0m \u001b[0merror_score\u001b[0m\u001b[0;34m)\u001b[0m\u001b[0;34m\u001b[0m\u001b[0;34m\u001b[0m\u001b[0m\n\u001b[0m\u001b[1;32m    709\u001b[0m         \u001b[0mscore_time\u001b[0m \u001b[0;34m=\u001b[0m \u001b[0mtime\u001b[0m\u001b[0;34m.\u001b[0m\u001b[0mtime\u001b[0m\u001b[0;34m(\u001b[0m\u001b[0;34m)\u001b[0m \u001b[0;34m-\u001b[0m \u001b[0mstart_time\u001b[0m \u001b[0;34m-\u001b[0m \u001b[0mfit_time\u001b[0m\u001b[0;34m\u001b[0m\u001b[0;34m\u001b[0m\u001b[0m\n\u001b[1;32m    710\u001b[0m         \u001b[0;32mif\u001b[0m \u001b[0mreturn_train_score\u001b[0m\u001b[0;34m:\u001b[0m\u001b[0;34m\u001b[0m\u001b[0;34m\u001b[0m\u001b[0m\n",
            "\u001b[0;32m/usr/local/lib/python3.9/dist-packages/sklearn/model_selection/_validation.py\u001b[0m in \u001b[0;36m_score\u001b[0;34m(estimator, X_test, y_test, scorer, error_score)\u001b[0m\n\u001b[1;32m    765\u001b[0m             \u001b[0mscores\u001b[0m \u001b[0;34m=\u001b[0m \u001b[0mscorer\u001b[0m\u001b[0;34m(\u001b[0m\u001b[0mestimator\u001b[0m\u001b[0;34m,\u001b[0m \u001b[0mX_test\u001b[0m\u001b[0;34m)\u001b[0m\u001b[0;34m\u001b[0m\u001b[0;34m\u001b[0m\u001b[0m\n\u001b[1;32m    766\u001b[0m         \u001b[0;32melse\u001b[0m\u001b[0;34m:\u001b[0m\u001b[0;34m\u001b[0m\u001b[0;34m\u001b[0m\u001b[0m\n\u001b[0;32m--> 767\u001b[0;31m             \u001b[0mscores\u001b[0m \u001b[0;34m=\u001b[0m \u001b[0mscorer\u001b[0m\u001b[0;34m(\u001b[0m\u001b[0mestimator\u001b[0m\u001b[0;34m,\u001b[0m \u001b[0mX_test\u001b[0m\u001b[0;34m,\u001b[0m \u001b[0my_test\u001b[0m\u001b[0;34m)\u001b[0m\u001b[0;34m\u001b[0m\u001b[0;34m\u001b[0m\u001b[0m\n\u001b[0m\u001b[1;32m    768\u001b[0m     \u001b[0;32mexcept\u001b[0m \u001b[0mException\u001b[0m\u001b[0;34m:\u001b[0m\u001b[0;34m\u001b[0m\u001b[0;34m\u001b[0m\u001b[0m\n\u001b[1;32m    769\u001b[0m         \u001b[0;32mif\u001b[0m \u001b[0misinstance\u001b[0m\u001b[0;34m(\u001b[0m\u001b[0mscorer\u001b[0m\u001b[0;34m,\u001b[0m \u001b[0m_MultimetricScorer\u001b[0m\u001b[0;34m)\u001b[0m\u001b[0;34m:\u001b[0m\u001b[0;34m\u001b[0m\u001b[0;34m\u001b[0m\u001b[0m\n",
            "\u001b[0;32m/usr/local/lib/python3.9/dist-packages/sklearn/metrics/_scorer.py\u001b[0m in \u001b[0;36m_passthrough_scorer\u001b[0;34m(estimator, *args, **kwargs)\u001b[0m\n\u001b[1;32m    442\u001b[0m \u001b[0;32mdef\u001b[0m \u001b[0m_passthrough_scorer\u001b[0m\u001b[0;34m(\u001b[0m\u001b[0mestimator\u001b[0m\u001b[0;34m,\u001b[0m \u001b[0;34m*\u001b[0m\u001b[0margs\u001b[0m\u001b[0;34m,\u001b[0m \u001b[0;34m**\u001b[0m\u001b[0mkwargs\u001b[0m\u001b[0;34m)\u001b[0m\u001b[0;34m:\u001b[0m\u001b[0;34m\u001b[0m\u001b[0;34m\u001b[0m\u001b[0m\n\u001b[1;32m    443\u001b[0m     \u001b[0;34m\"\"\"Function that wraps estimator.score\"\"\"\u001b[0m\u001b[0;34m\u001b[0m\u001b[0;34m\u001b[0m\u001b[0m\n\u001b[0;32m--> 444\u001b[0;31m     \u001b[0;32mreturn\u001b[0m \u001b[0mestimator\u001b[0m\u001b[0;34m.\u001b[0m\u001b[0mscore\u001b[0m\u001b[0;34m(\u001b[0m\u001b[0;34m*\u001b[0m\u001b[0margs\u001b[0m\u001b[0;34m,\u001b[0m \u001b[0;34m**\u001b[0m\u001b[0mkwargs\u001b[0m\u001b[0;34m)\u001b[0m\u001b[0;34m\u001b[0m\u001b[0;34m\u001b[0m\u001b[0m\n\u001b[0m\u001b[1;32m    445\u001b[0m \u001b[0;34m\u001b[0m\u001b[0m\n\u001b[1;32m    446\u001b[0m \u001b[0;34m\u001b[0m\u001b[0m\n",
            "\u001b[0;32m/usr/local/lib/python3.9/dist-packages/sklearn/base.py\u001b[0m in \u001b[0;36mscore\u001b[0;34m(self, X, y, sample_weight)\u001b[0m\n\u001b[1;32m    666\u001b[0m         \u001b[0;32mfrom\u001b[0m \u001b[0;34m.\u001b[0m\u001b[0mmetrics\u001b[0m \u001b[0;32mimport\u001b[0m \u001b[0maccuracy_score\u001b[0m\u001b[0;34m\u001b[0m\u001b[0;34m\u001b[0m\u001b[0m\n\u001b[1;32m    667\u001b[0m \u001b[0;34m\u001b[0m\u001b[0m\n\u001b[0;32m--> 668\u001b[0;31m         \u001b[0;32mreturn\u001b[0m \u001b[0maccuracy_score\u001b[0m\u001b[0;34m(\u001b[0m\u001b[0my\u001b[0m\u001b[0;34m,\u001b[0m \u001b[0mself\u001b[0m\u001b[0;34m.\u001b[0m\u001b[0mpredict\u001b[0m\u001b[0;34m(\u001b[0m\u001b[0mX\u001b[0m\u001b[0;34m)\u001b[0m\u001b[0;34m,\u001b[0m \u001b[0msample_weight\u001b[0m\u001b[0;34m=\u001b[0m\u001b[0msample_weight\u001b[0m\u001b[0;34m)\u001b[0m\u001b[0;34m\u001b[0m\u001b[0;34m\u001b[0m\u001b[0m\n\u001b[0m\u001b[1;32m    669\u001b[0m \u001b[0;34m\u001b[0m\u001b[0m\n\u001b[1;32m    670\u001b[0m     \u001b[0;32mdef\u001b[0m \u001b[0m_more_tags\u001b[0m\u001b[0;34m(\u001b[0m\u001b[0mself\u001b[0m\u001b[0;34m)\u001b[0m\u001b[0;34m:\u001b[0m\u001b[0;34m\u001b[0m\u001b[0;34m\u001b[0m\u001b[0m\n",
            "\u001b[0;32m/usr/local/lib/python3.9/dist-packages/sklearn/neighbors/_classification.py\u001b[0m in \u001b[0;36mpredict\u001b[0;34m(self, X)\u001b[0m\n\u001b[1;32m    235\u001b[0m             \u001b[0mneigh_dist\u001b[0m \u001b[0;34m=\u001b[0m \u001b[0;32mNone\u001b[0m\u001b[0;34m\u001b[0m\u001b[0;34m\u001b[0m\u001b[0m\n\u001b[1;32m    236\u001b[0m         \u001b[0;32melse\u001b[0m\u001b[0;34m:\u001b[0m\u001b[0;34m\u001b[0m\u001b[0;34m\u001b[0m\u001b[0m\n\u001b[0;32m--> 237\u001b[0;31m             \u001b[0mneigh_dist\u001b[0m\u001b[0;34m,\u001b[0m \u001b[0mneigh_ind\u001b[0m \u001b[0;34m=\u001b[0m \u001b[0mself\u001b[0m\u001b[0;34m.\u001b[0m\u001b[0mkneighbors\u001b[0m\u001b[0;34m(\u001b[0m\u001b[0mX\u001b[0m\u001b[0;34m)\u001b[0m\u001b[0;34m\u001b[0m\u001b[0;34m\u001b[0m\u001b[0m\n\u001b[0m\u001b[1;32m    238\u001b[0m \u001b[0;34m\u001b[0m\u001b[0m\n\u001b[1;32m    239\u001b[0m         \u001b[0mclasses_\u001b[0m \u001b[0;34m=\u001b[0m \u001b[0mself\u001b[0m\u001b[0;34m.\u001b[0m\u001b[0mclasses_\u001b[0m\u001b[0;34m\u001b[0m\u001b[0;34m\u001b[0m\u001b[0m\n",
            "\u001b[0;32m/usr/local/lib/python3.9/dist-packages/sklearn/neighbors/_base.py\u001b[0m in \u001b[0;36mkneighbors\u001b[0;34m(self, X, n_neighbors, return_distance)\u001b[0m\n\u001b[1;32m    859\u001b[0m                 \u001b[0mkwds\u001b[0m \u001b[0;34m=\u001b[0m \u001b[0mself\u001b[0m\u001b[0;34m.\u001b[0m\u001b[0meffective_metric_params_\u001b[0m\u001b[0;34m\u001b[0m\u001b[0;34m\u001b[0m\u001b[0m\n\u001b[1;32m    860\u001b[0m \u001b[0;34m\u001b[0m\u001b[0m\n\u001b[0;32m--> 861\u001b[0;31m             chunked_results = list(\n\u001b[0m\u001b[1;32m    862\u001b[0m                 pairwise_distances_chunked(\n\u001b[1;32m    863\u001b[0m                     \u001b[0mX\u001b[0m\u001b[0;34m,\u001b[0m\u001b[0;34m\u001b[0m\u001b[0;34m\u001b[0m\u001b[0m\n",
            "\u001b[0;32m/usr/local/lib/python3.9/dist-packages/sklearn/metrics/pairwise.py\u001b[0m in \u001b[0;36mpairwise_distances_chunked\u001b[0;34m(X, Y, reduce_func, metric, n_jobs, working_memory, **kwds)\u001b[0m\n\u001b[1;32m   1865\u001b[0m         \u001b[0;32melse\u001b[0m\u001b[0;34m:\u001b[0m\u001b[0;34m\u001b[0m\u001b[0;34m\u001b[0m\u001b[0m\n\u001b[1;32m   1866\u001b[0m             \u001b[0mX_chunk\u001b[0m \u001b[0;34m=\u001b[0m \u001b[0mX\u001b[0m\u001b[0;34m[\u001b[0m\u001b[0msl\u001b[0m\u001b[0;34m]\u001b[0m\u001b[0;34m\u001b[0m\u001b[0;34m\u001b[0m\u001b[0m\n\u001b[0;32m-> 1867\u001b[0;31m         \u001b[0mD_chunk\u001b[0m \u001b[0;34m=\u001b[0m \u001b[0mpairwise_distances\u001b[0m\u001b[0;34m(\u001b[0m\u001b[0mX_chunk\u001b[0m\u001b[0;34m,\u001b[0m \u001b[0mY\u001b[0m\u001b[0;34m,\u001b[0m \u001b[0mmetric\u001b[0m\u001b[0;34m=\u001b[0m\u001b[0mmetric\u001b[0m\u001b[0;34m,\u001b[0m \u001b[0mn_jobs\u001b[0m\u001b[0;34m=\u001b[0m\u001b[0mn_jobs\u001b[0m\u001b[0;34m,\u001b[0m \u001b[0;34m**\u001b[0m\u001b[0mkwds\u001b[0m\u001b[0;34m)\u001b[0m\u001b[0;34m\u001b[0m\u001b[0;34m\u001b[0m\u001b[0m\n\u001b[0m\u001b[1;32m   1868\u001b[0m         if (X is Y or Y is None) and PAIRWISE_DISTANCE_FUNCTIONS.get(\n\u001b[1;32m   1869\u001b[0m             \u001b[0mmetric\u001b[0m\u001b[0;34m,\u001b[0m \u001b[0;32mNone\u001b[0m\u001b[0;34m\u001b[0m\u001b[0;34m\u001b[0m\u001b[0m\n",
            "\u001b[0;32m/usr/local/lib/python3.9/dist-packages/sklearn/metrics/pairwise.py\u001b[0m in \u001b[0;36mpairwise_distances\u001b[0;34m(X, Y, metric, n_jobs, force_all_finite, **kwds)\u001b[0m\n\u001b[1;32m   2037\u001b[0m         \u001b[0mfunc\u001b[0m \u001b[0;34m=\u001b[0m \u001b[0mpartial\u001b[0m\u001b[0;34m(\u001b[0m\u001b[0mdistance\u001b[0m\u001b[0;34m.\u001b[0m\u001b[0mcdist\u001b[0m\u001b[0;34m,\u001b[0m \u001b[0mmetric\u001b[0m\u001b[0;34m=\u001b[0m\u001b[0mmetric\u001b[0m\u001b[0;34m,\u001b[0m \u001b[0;34m**\u001b[0m\u001b[0mkwds\u001b[0m\u001b[0;34m)\u001b[0m\u001b[0;34m\u001b[0m\u001b[0;34m\u001b[0m\u001b[0m\n\u001b[1;32m   2038\u001b[0m \u001b[0;34m\u001b[0m\u001b[0m\n\u001b[0;32m-> 2039\u001b[0;31m     \u001b[0;32mreturn\u001b[0m \u001b[0m_parallel_pairwise\u001b[0m\u001b[0;34m(\u001b[0m\u001b[0mX\u001b[0m\u001b[0;34m,\u001b[0m \u001b[0mY\u001b[0m\u001b[0;34m,\u001b[0m \u001b[0mfunc\u001b[0m\u001b[0;34m,\u001b[0m \u001b[0mn_jobs\u001b[0m\u001b[0;34m,\u001b[0m \u001b[0;34m**\u001b[0m\u001b[0mkwds\u001b[0m\u001b[0;34m)\u001b[0m\u001b[0;34m\u001b[0m\u001b[0;34m\u001b[0m\u001b[0m\n\u001b[0m\u001b[1;32m   2040\u001b[0m \u001b[0;34m\u001b[0m\u001b[0m\n\u001b[1;32m   2041\u001b[0m \u001b[0;34m\u001b[0m\u001b[0m\n",
            "\u001b[0;32m/usr/local/lib/python3.9/dist-packages/sklearn/metrics/pairwise.py\u001b[0m in \u001b[0;36m_parallel_pairwise\u001b[0;34m(X, Y, func, n_jobs, **kwds)\u001b[0m\n\u001b[1;32m   1577\u001b[0m \u001b[0;34m\u001b[0m\u001b[0m\n\u001b[1;32m   1578\u001b[0m     \u001b[0;32mif\u001b[0m \u001b[0meffective_n_jobs\u001b[0m\u001b[0;34m(\u001b[0m\u001b[0mn_jobs\u001b[0m\u001b[0;34m)\u001b[0m \u001b[0;34m==\u001b[0m \u001b[0;36m1\u001b[0m\u001b[0;34m:\u001b[0m\u001b[0;34m\u001b[0m\u001b[0;34m\u001b[0m\u001b[0m\n\u001b[0;32m-> 1579\u001b[0;31m         \u001b[0;32mreturn\u001b[0m \u001b[0mfunc\u001b[0m\u001b[0;34m(\u001b[0m\u001b[0mX\u001b[0m\u001b[0;34m,\u001b[0m \u001b[0mY\u001b[0m\u001b[0;34m,\u001b[0m \u001b[0;34m**\u001b[0m\u001b[0mkwds\u001b[0m\u001b[0;34m)\u001b[0m\u001b[0;34m\u001b[0m\u001b[0;34m\u001b[0m\u001b[0m\n\u001b[0m\u001b[1;32m   1580\u001b[0m \u001b[0;34m\u001b[0m\u001b[0m\n\u001b[1;32m   1581\u001b[0m     \u001b[0;31m# enforce a threading backend to prevent data communication overhead\u001b[0m\u001b[0;34m\u001b[0m\u001b[0;34m\u001b[0m\u001b[0m\n",
            "\u001b[0;32m/usr/local/lib/python3.9/dist-packages/sklearn/metrics/pairwise.py\u001b[0m in \u001b[0;36mmanhattan_distances\u001b[0;34m(X, Y, sum_over_features)\u001b[0m\n\u001b[1;32m    964\u001b[0m \u001b[0;34m\u001b[0m\u001b[0m\n\u001b[1;32m    965\u001b[0m     \u001b[0;32mif\u001b[0m \u001b[0msum_over_features\u001b[0m\u001b[0;34m:\u001b[0m\u001b[0;34m\u001b[0m\u001b[0;34m\u001b[0m\u001b[0m\n\u001b[0;32m--> 966\u001b[0;31m         \u001b[0;32mreturn\u001b[0m \u001b[0mdistance\u001b[0m\u001b[0;34m.\u001b[0m\u001b[0mcdist\u001b[0m\u001b[0;34m(\u001b[0m\u001b[0mX\u001b[0m\u001b[0;34m,\u001b[0m \u001b[0mY\u001b[0m\u001b[0;34m,\u001b[0m \u001b[0;34m\"cityblock\"\u001b[0m\u001b[0;34m)\u001b[0m\u001b[0;34m\u001b[0m\u001b[0;34m\u001b[0m\u001b[0m\n\u001b[0m\u001b[1;32m    967\u001b[0m \u001b[0;34m\u001b[0m\u001b[0m\n\u001b[1;32m    968\u001b[0m     \u001b[0mD\u001b[0m \u001b[0;34m=\u001b[0m \u001b[0mX\u001b[0m\u001b[0;34m[\u001b[0m\u001b[0;34m:\u001b[0m\u001b[0;34m,\u001b[0m \u001b[0mnp\u001b[0m\u001b[0;34m.\u001b[0m\u001b[0mnewaxis\u001b[0m\u001b[0;34m,\u001b[0m \u001b[0;34m:\u001b[0m\u001b[0;34m]\u001b[0m \u001b[0;34m-\u001b[0m \u001b[0mY\u001b[0m\u001b[0;34m[\u001b[0m\u001b[0mnp\u001b[0m\u001b[0;34m.\u001b[0m\u001b[0mnewaxis\u001b[0m\u001b[0;34m,\u001b[0m \u001b[0;34m:\u001b[0m\u001b[0;34m,\u001b[0m \u001b[0;34m:\u001b[0m\u001b[0;34m]\u001b[0m\u001b[0;34m\u001b[0m\u001b[0;34m\u001b[0m\u001b[0m\n",
            "\u001b[0;32m/usr/local/lib/python3.9/dist-packages/scipy/spatial/distance.py\u001b[0m in \u001b[0;36mcdist\u001b[0;34m(XA, XB, metric, out, **kwargs)\u001b[0m\n\u001b[1;32m   2937\u001b[0m         \u001b[0;32mif\u001b[0m \u001b[0mmetric_info\u001b[0m \u001b[0;32mis\u001b[0m \u001b[0;32mnot\u001b[0m \u001b[0;32mNone\u001b[0m\u001b[0;34m:\u001b[0m\u001b[0;34m\u001b[0m\u001b[0;34m\u001b[0m\u001b[0m\n\u001b[1;32m   2938\u001b[0m             \u001b[0mcdist_fn\u001b[0m \u001b[0;34m=\u001b[0m \u001b[0mmetric_info\u001b[0m\u001b[0;34m.\u001b[0m\u001b[0mcdist_func\u001b[0m\u001b[0;34m\u001b[0m\u001b[0;34m\u001b[0m\u001b[0m\n\u001b[0;32m-> 2939\u001b[0;31m             \u001b[0;32mreturn\u001b[0m \u001b[0mcdist_fn\u001b[0m\u001b[0;34m(\u001b[0m\u001b[0mXA\u001b[0m\u001b[0;34m,\u001b[0m \u001b[0mXB\u001b[0m\u001b[0;34m,\u001b[0m \u001b[0mout\u001b[0m\u001b[0;34m=\u001b[0m\u001b[0mout\u001b[0m\u001b[0;34m,\u001b[0m \u001b[0;34m**\u001b[0m\u001b[0mkwargs\u001b[0m\u001b[0;34m)\u001b[0m\u001b[0;34m\u001b[0m\u001b[0;34m\u001b[0m\u001b[0m\n\u001b[0m\u001b[1;32m   2940\u001b[0m         \u001b[0;32melif\u001b[0m \u001b[0mmstr\u001b[0m\u001b[0;34m.\u001b[0m\u001b[0mstartswith\u001b[0m\u001b[0;34m(\u001b[0m\u001b[0;34m\"test_\"\u001b[0m\u001b[0;34m)\u001b[0m\u001b[0;34m:\u001b[0m\u001b[0;34m\u001b[0m\u001b[0;34m\u001b[0m\u001b[0m\n\u001b[1;32m   2941\u001b[0m             \u001b[0mmetric_info\u001b[0m \u001b[0;34m=\u001b[0m \u001b[0m_TEST_METRICS\u001b[0m\u001b[0;34m.\u001b[0m\u001b[0mget\u001b[0m\u001b[0;34m(\u001b[0m\u001b[0mmstr\u001b[0m\u001b[0;34m,\u001b[0m \u001b[0;32mNone\u001b[0m\u001b[0;34m)\u001b[0m\u001b[0;34m\u001b[0m\u001b[0;34m\u001b[0m\u001b[0m\n",
            "\u001b[0;31mKeyboardInterrupt\u001b[0m: "
          ]
        }
      ],
      "source": [
        "from sklearn.model_selection import GridSearchCV\n",
        "from sklearn.neighbors import KNeighborsClassifier\n",
        "\n",
        "#First we make a dictionary containing all of the hyper-params as keys and the range of values as their keys\n",
        "param_grid = {\n",
        "    'n_neighbors': [5,7,9,11,13],\n",
        "    'weights': ['uniform', 'distance'],\n",
        "    'metric': ['euclidean','manhattan','wminkowski'],\n",
        "    'p': [1,2]\n",
        "}\n",
        "\n",
        "#now we call GridSearch with our defined param_grid\n",
        "#we will use the same KNN as we used above (knn_clf)\n",
        "grid_search = GridSearchCV(knn_clf,param_grid=param_grid, cv = 7)\n",
        "grid_search.fit(x_train, y_train)\n",
        "opt_params = grid_search.best_params_\n",
        "\n",
        "n_neighbors_opt = opt_params['n_neighbors']\n",
        "weights_opt = opt_params['weights']\n",
        "metric_opt = opt_params['metric']\n",
        "p_opt = opt_params['p']\n",
        "\n",
        "print(n_neighbors_opt)\n",
        "print(weights_opt)\n",
        "print(metric_opt)\n",
        "print(p_opt)\n",
        "\n"
      ]
    },
    {
      "cell_type": "code",
      "execution_count": null,
      "metadata": {
        "id": "jJB9_zqU7pwu",
        "outputId": "abce0232-1b16-4e58-8e1d-cbd30eefb9fc"
      },
      "outputs": [
        {
          "name": "stdout",
          "output_type": "stream",
          "text": [
            "the score for this grid search is  0.7745\n"
          ]
        }
      ],
      "source": [
        "score = grid_search.score(x_valid,y_valid)\n",
        "print('the score for this grid search is ',score)\n",
        "#best params are 13 neighbours, distance weighting, manhattan distance, and p = 1\n",
        "n_neighbors_opt = 13\n",
        "weights_opt = 'distance'\n",
        "metric_opt = 'manhattan'\n",
        "p_opt = 1 "
      ]
    },
    {
      "cell_type": "code",
      "execution_count": 21,
      "metadata": {
        "id": "tKrnSIJk7pwu",
        "outputId": "bde3bc3e-44c3-4bce-aa65-2369fe9931ea"
      },
      "outputs": [
        {
          "name": "stdout",
          "output_type": "stream",
          "text": [
            "0.7745\n"
          ]
        }
      ],
      "source": [
        "test_clf = KNeighborsClassifier(n_neighbors= 13, weights='distance', metric= 'manhattan', p=1)\n",
        "test_clf.fit(x_train, y_train)\n",
        "print(test_clf.score(x_valid, y_valid))\n",
        "\n"
      ]
    },
    {
      "cell_type": "code",
      "execution_count": 23,
      "metadata": {},
      "outputs": [],
      "source": [
        "#best params are 13 neighbours, distance weighting, manhattan distance, and p = 1\n",
        "n_neighbors_opt = 13\n",
        "weights_opt = 'distance'\n",
        "metric_opt = 'manhattan'\n",
        "p_opt = 1 "
      ]
    },
    {
      "cell_type": "markdown",
      "metadata": {
        "id": "rrkR4VFS7pwu"
      },
      "source": [
        "# Now run grid search with last two parameters - algorithm and leaf size"
      ]
    },
    {
      "cell_type": "code",
      "execution_count": 24,
      "metadata": {
        "id": "uwNyOi0y7pwu"
      },
      "outputs": [
        {
          "name": "stdout",
          "output_type": "stream",
          "text": [
            "20\n",
            "ball_tree\n"
          ]
        }
      ],
      "source": [
        "#define param grid with above optimised values, add value ranges for the leaf size and algorithm options\n",
        "param_grid_2 = {\n",
        "    'n_neighbors': [n_neighbors_opt],\n",
        "    'weights': [weights_opt],\n",
        "    'metric': [metric_opt],\n",
        "    'p': [p_opt],\n",
        "    'leaf_size': [20,21,22,23],\n",
        "    'algorithm': ['ball_tree', 'kd_tree','brute','auto']\n",
        "}\n",
        "\n",
        "grid_search_2 = GridSearchCV(test_clf, param_grid=param_grid_2, cv = 7)\n",
        "grid_search_2.fit(grayscale_training, ground_truths)\n",
        "opt_leaf_size = grid_search_2.best_params_['leaf_size']\n",
        "opt_algorithm = grid_search_2.best_params_['algorithm']\n",
        "print(opt_leaf_size)\n",
        "print(opt_algorithm)"
      ]
    },
    {
      "cell_type": "code",
      "execution_count": 48,
      "metadata": {},
      "outputs": [
        {
          "name": "stdout",
          "output_type": "stream",
          "text": [
            "15\n",
            "manhattan\n",
            "ball_tree\n",
            "20\n",
            "distance\n",
            "1\n"
          ]
        }
      ],
      "source": [
        "#At this point we have 'optimal' values for our KNN classifier\n",
        "print(optimal_neighbors)\n",
        "print(metric_opt)\n",
        "print(opt_algorithm)\n",
        "print(opt_leaf_size)\n",
        "print(weights_opt)\n",
        "print(p_opt)\n",
        "\n",
        "optimal_KNN = KNeighborsClassifier(n_neighbors= optimal_neighbors, metric = metric_opt, algorithm= opt_algorithm, leaf_size=opt_leaf_size, weights= weights_opt, p = p_opt)\n",
        "score = cross_val_score(optimal_KNN, grayscale_training, ground_truths, n_jobs = -1, cv=7 ).mean()\n",
        "\n",
        "\n"
      ]
    },
    {
      "cell_type": "code",
      "execution_count": 50,
      "metadata": {},
      "outputs": [
        {
          "name": "stdout",
          "output_type": "stream",
          "text": [
            "The final score for our KNN is  0.7814005938274541\n"
          ]
        }
      ],
      "source": [
        "print(\"The final score for our KNN is \", score)"
      ]
    },
    {
      "attachments": {},
      "cell_type": "markdown",
      "metadata": {},
      "source": [
        "# Results of KNN\n",
        "#### At this point we have optimised 6 of the hyperparameters for our KNN, and ended up with a total accuracy of 78% on the validation set"
      ]
    },
    {
      "cell_type": "markdown",
      "metadata": {
        "id": "4JhZjuds7pwu"
      },
      "source": [
        "# Alternative approach for hyper-parameter optimization - Bayesian Search\n",
        "It is useful to optimise multiple hyperparameters for two main reasons:\n",
        "1. Hyperparameters all interact together, an 'optimal' value for one might not be optimal when combined with a different hyperparameter. For this reason its a good idea to optimise hyperparameters simultaneously\n",
        "2. Less code for me to write\n",
        "\n",
        "Despite this, running bayesian optimisation can be rather computationally expensive"
      ]
    },
    {
      "cell_type": "code",
      "execution_count": null,
      "metadata": {
        "id": "-WfXhNtm7pwv"
      },
      "outputs": [],
      "source": [
        "#Use bayesian search to optimise multiple hyperparameters at once\n",
        "from sklearn.neighbors import KNeighborsClassifier\n",
        "from sklearn.model_selection import cross_val_score\n",
        "\n",
        "from skopt import BayesSearchCV\n",
        "from skopt.space import Real, Integer, Categorical\n",
        "\n",
        "\n",
        "#First define the different hyperparameters we want to optimise with a range of values for them\n",
        "#this is done in the format of a dictionary\n",
        "\n",
        "\n",
        "randomstate = np.random.RandomState(seed=42)\n",
        "\n",
        "\n",
        "n_neighbor_vals = [2,3,4,5,6,7,8,9,10,11]\n",
        "n_neighbor_probs = [0.05,0.05,0.05,0.05,0.1,0.1,0.1,0.1,0.2,0.2]\n",
        "n_neighbors = Categorical(categories= n_neighbor_vals, prior = n_neighbor_probs)\n",
        "\n",
        "weight_vals = ['uniform','distance']\n",
        "weight_probs = [0.2,0.8]\n",
        "weights = Categorical(categories=weight_vals, prior = weight_probs)\n",
        "\n",
        "search_spaces = {\n",
        "    'n_neighbors': Categorical(categories=[2,3,4,5,6,7,8,9,10,11], prior = [0.05,0.05,0.05,0.05,0.1,0.1,0.1,0.1,0.2,0.2]),\n",
        "    'weights': Categorical(categories=['uniform','distance'], prior = [0.2,0.8])\n",
        "}\n",
        "\n",
        "\n",
        "#define a KNN instance and perform a Bayesian Search on it with our hyperparam values to be optimized\n",
        "bayesianKNN = KNeighborsClassifier()\n",
        "\n",
        "bayes_optimize = BayesSearchCV(bayesianKNN, search_spaces,  cv = 7, random_state=randomstate)\n",
        "#we need to assign our assumption weightings to the object before fitting our data to it\n",
        "\n",
        "\n",
        "bayes_optimize.fit(x_train, y_train)\n",
        "score = bayes_optimize.score(x_valid,y_valid)\n",
        "\n",
        "\n",
        "\n",
        "\n",
        "print(f'Best score: {bayes_optimize.best_score_:.3f}')\n",
        "print(f'Best hyperparameters: {bayes_optimize.best_params_}')\n",
        "print(f'Test set score: {score:.3f}')\n",
        "#NEED TO FIX THE PRIOR_DISTRIBUTION NOT BEING ADDED PROPERLY\n"
      ]
    },
    {
      "cell_type": "markdown",
      "metadata": {
        "id": "iD05zUO77pwv"
      },
      "source": [
        "# GOOD PAIRS OF HYPERPARAMETERS TO RUN BAYESIAN SEARCH ON \n",
        "1. n_neighbours and weight\n",
        "2. p and metric\n",
        "3. algorithm and leaf size\n",
        "\n",
        "### In the above cell we ran Bayesian Search to find optimal values for the n_neighbors and weights parameters of our KNN model\n",
        "We can run Bayesian search with all of the hyperparameters for our KNN model, but this may be computationally expensive to do so.  <br />\n",
        "Instead we can run Bayesian Search multiple time, but with pairs of the hyperparameters (as listed above), I will do this below"
      ]
    },
    {
      "cell_type": "code",
      "execution_count": null,
      "metadata": {
        "id": "CsDZKvwj7pwv"
      },
      "outputs": [],
      "source": [
        "##Run bayesian search with p and metric parameters\n",
        "n_neighbors_opt = bayes_optimize.best_params_['n_neighbors']\n",
        "weights_opt = bayes_optimize.best_params_['weights']\n",
        "print(n_neighbors_opt)\n",
        "print(weights_opt)\n",
        "print('Best params so far are ',n_neighbors_opt, \"neighbours and '\",weights_opt,\"' value for weighting\")\n",
        "\n",
        "prior_distribution = {\n",
        "    'p': Integer(low = 1, high = 2 , prior = 'uniform'),\n",
        "    'metric': Categorical(categories=['manhattan', 'euclidean'], prior = [0.5,0.5]),\n",
        "    'n_neighbors': Categorical(categories = [n_neighbors_opt],  prior = [1]),\n",
        "    'weights': Categorical(categories=[weights_opt], prior = [1])\n",
        "\n",
        "}\n",
        "\n",
        "bayes_optimize2 = BayesSearchCV(bayesianKNN, prior_distribution, cv = 7, random_state = randomstate)\n",
        "\n",
        "bayes_optimize2.fit(x_train, y_train)\n",
        "score = bayes_optimize2.score(x_valid,y_valid)\n",
        "\n",
        "\n",
        "\n",
        "\n",
        "print(f'Best score: {bayes_optimize2.best_score_:.3f}')\n",
        "print(f'Best hyperparameters: {bayes_optimize2.best_params_}')\n",
        "print(f'Test set score: {score:.3f}')\n",
        "#NEED TO FIX THE PRIOR_DISTRIBUTION NOT BEING ADDED PROPERLY"
      ]
    },
    {
      "cell_type": "code",
      "execution_count": null,
      "metadata": {
        "id": "QGHsNATr7pwv"
      },
      "outputs": [],
      "source": [
        "#get optimal params from above\n",
        "p_opt = bayes_optimize2.best_params_['p']\n",
        "metric_opt = bayes_optimize2.best_params_['metric']\n",
        "\n"
      ]
    },
    {
      "attachments": {},
      "cell_type": "markdown",
      "metadata": {
        "id": "kbOS-d5N7pww"
      },
      "source": [
        "# Defining the model (CNN) <br />\n",
        "\n",
        "At this point we have tried using a KNN, optimising parameters with both GridSearch and BayesSearch. These optimisation methods have not yielded great results, and our models accuracy on validation data is not great.  <br />\n",
        "At this point I will move onto using a CNN (Convolutional Neural Network) <br />\n",
        "\n",
        "- We define a few of the hyperparameters such as learning rate, the optimizer we want to use and the loss function of choice\n",
        "- Once these are defined, we then declare out model with Keras.Sequential()\n",
        "- - Once we've done this we add various layers, generally in the order - convolutional -> pooling -> fully connected -> output layer\n",
        "\n",
        "\n"
      ]
    },
    {
      "cell_type": "code",
      "execution_count": 31,
      "metadata": {
        "id": "O_HcWzu_7pww"
      },
      "outputs": [],
      "source": [
        "#Importing all libraries that are relevant to the creation and training of models\n",
        "#Import relevant libraries\n",
        "from keras.layers import Rescaling\n",
        "from keras.models import Sequential\n",
        "from keras.layers import Dense, Conv2D, MaxPool2D, Flatten\n",
        "from "
      ]
    },
    {
      "cell_type": "markdown",
      "metadata": {
        "id": "cKoGJy9w7pww"
      },
      "source": [
        "# Before we use a CNN, we need to format our training data and labels \n",
        "- If we didn't do this then Keras would be unable to properly work on the data"
      ]
    },
    {
      "cell_type": "code",
      "execution_count": 82,
      "metadata": {
        "id": "3sgWeKgB7pww"
      },
      "outputs": [],
      "source": [
        "#Before we use a CNN, we need to encode our target values correctly\n",
        "from keras.utils import to_categorical\n",
        "\n",
        "#one hot encode the ground_truths to vectorise them into a shape of (sample_count, target_number)\n",
        "#ground_truths = to_categorical(ground_truths, num_classes=8)\n",
        "\n",
        "\n",
        "#We need to reformat the training data to be of shape (sample_count, H, W, Color channels)\n",
        "grayscale_training = grayscale_training.reshape(10000,28, 28 ,1)\n",
        "x_train, x_valid = x_train.reshape(-1, 28, 28, 1), x_valid.reshape(-1, 28, 28, 1)\n"
      ]
    },
    {
      "cell_type": "code",
      "execution_count": 83,
      "metadata": {},
      "outputs": [
        {
          "name": "stdout",
          "output_type": "stream",
          "text": [
            "(10000, 8)\n",
            "(10000, 28, 28, 1)\n",
            "(8000, 28, 28, 1)\n",
            "(2000, 28, 28, 1)\n",
            "(8000, 8)\n",
            "(2000, 8)\n"
          ]
        }
      ],
      "source": [
        "print(ground_truths.shape)\n",
        "print(grayscale_training.shape)\n",
        "print(x_train.shape)\n",
        "print(x_valid.shape)\n",
        "print(y_train.shape)\n",
        "print(y_valid.shape)\n"
      ]
    },
    {
      "cell_type": "code",
      "execution_count": 84,
      "metadata": {
        "id": "HLyUrjOC7pww"
      },
      "outputs": [
        {
          "name": "stdout",
          "output_type": "stream",
          "text": [
            "Epoch 1/5\n",
            "313/313 [==============================] - 46s 144ms/step - loss: 1.1154 - categorical_accuracy: 0.6178 - val_loss: 0.8111 - val_categorical_accuracy: 0.7500\n",
            "Epoch 2/5\n",
            "313/313 [==============================] - 30s 96ms/step - loss: 0.7656 - categorical_accuracy: 0.7361 - val_loss: 0.8170 - val_categorical_accuracy: 0.7030\n",
            "Epoch 3/5\n",
            "313/313 [==============================] - 31s 98ms/step - loss: 0.6995 - categorical_accuracy: 0.7609 - val_loss: 0.7129 - val_categorical_accuracy: 0.7510\n",
            "Epoch 4/5\n",
            "313/313 [==============================] - 33s 104ms/step - loss: 0.6627 - categorical_accuracy: 0.7692 - val_loss: 0.6090 - val_categorical_accuracy: 0.7945\n",
            "Epoch 5/5\n",
            "313/313 [==============================] - 33s 104ms/step - loss: 0.6237 - categorical_accuracy: 0.7795 - val_loss: 0.6144 - val_categorical_accuracy: 0.7965\n",
            "Training Loss: [1.115405797958374, 0.7656455039978027, 0.6994560360908508, 0.6627426743507385, 0.6237284541130066]\n",
            "Model: \"sequential_10\"\n",
            "_________________________________________________________________\n",
            " Layer (type)                Output Shape              Param #   \n",
            "=================================================================\n",
            " rescaling_10 (Rescaling)    (None, 28, 28, 1)         0         \n",
            "                                                                 \n",
            " conv2d_20 (Conv2D)          (None, 27, 27, 32)        160       \n",
            "                                                                 \n",
            " conv2d_21 (Conv2D)          (None, 24, 24, 64)        32832     \n",
            "                                                                 \n",
            " max_pooling2d_10 (MaxPoolin  (None, 12, 12, 64)       0         \n",
            " g2D)                                                            \n",
            "                                                                 \n",
            " flatten_10 (Flatten)        (None, 9216)              0         \n",
            "                                                                 \n",
            " dense_13 (Dense)            (None, 8)                 73736     \n",
            "                                                                 \n",
            "=================================================================\n",
            "Total params: 106,728\n",
            "Trainable params: 106,728\n",
            "Non-trainable params: 0\n",
            "_________________________________________________________________\n"
          ]
        }
      ],
      "source": [
        "\n",
        "learning_rate = 0.01\n",
        "optimizer = keras.optimizers.Adam(learning_rate=learning_rate)\n",
        "accuracy = keras.metrics.CategoricalAccuracy()\n",
        "crossentropy = keras.losses.CategoricalCrossentropy()\n",
        "\n",
        "\n",
        "model1 = keras.Sequential()\n",
        "model1.add(Rescaling(1./255))\n",
        "model1.add(Conv2D(32, kernel_size=(2,2), activation=\"relu\", input_shape=(28,28,1)))\n",
        "model1.add(Conv2D(64, kernel_size=(4,4), activation=\"relu\"))\n",
        "model1.add(MaxPool2D(pool_size=(2,2), strides=(2,2), padding=\"valid\"))\n",
        "model1.add(Flatten())\n",
        "#model1.add(Dense(32, activation=\"relu\"))\n",
        "model1.add(Dense(8, activation=\"softmax\"))\n",
        "\n",
        "model1.compile(optimizer=optimizer, metrics = [accuracy], loss = crossentropy)\n",
        "\n",
        "\n",
        "history = model1.fit(grayscale_training, ground_truths, validation_data = (x_valid, y_valid), epochs=5, batch_size=32)# Access training loss\n",
        "train_loss = history.history['loss']\n",
        "print('Training Loss:', train_loss)\n",
        "model1.summary()"
      ]
    },
    {
      "attachments": {},
      "cell_type": "markdown",
      "metadata": {
        "id": "RHlu9OoQ7pww"
      },
      "source": [
        "## The above model performs very badly, there are various reasons for this such as:\n",
        "= Low epoch number - Having too few epochs for the model can (and has above) resulted in severe underfitting. The model has not been able to learn the underlying patterns of the input images, and needs more iterations in order to do so. Out model is too simple and performs poorly on training and validation data, it would also perform badly on test data (although not shown above).\n",
        "- Generally unoptimised parameters - As this is the first iteration of our Neural network, the hyperparameters are inevitably unoptimised, and our model is performing much worse than it necessarily could.\n",
        "- There are numerous approached we can take in order to optimise the various hyperparameters in our model\n",
        "\n",
        "## One very obvious (and simple change) is to increase the number of epochs.\n",
        "Given the number of input images, and the spatial resolution of them, a good starting epoch number could be somewhere between 30-100, rather than the 10 used above\n",
        "### We will start with running the same model, just with 40 epochs rather than 5. This will result in a longer training time but will hopefully help our model to 'learn' the training data more effectively"
      ]
    },
    {
      "cell_type": "code",
      "execution_count": 85,
      "metadata": {
        "id": "1U__QvHT7pwx"
      },
      "outputs": [
        {
          "name": "stdout",
          "output_type": "stream",
          "text": [
            "Epoch 1/40\n",
            "250/250 [==============================] - 25s 98ms/step - loss: 1.7642 - categorical_accuracy: 0.3356 - val_loss: 1.3693 - val_categorical_accuracy: 0.5465\n",
            "Epoch 2/40\n",
            "250/250 [==============================] - 22s 88ms/step - loss: 1.1983 - categorical_accuracy: 0.5569 - val_loss: 1.1353 - val_categorical_accuracy: 0.6215\n",
            "Epoch 3/40\n",
            "250/250 [==============================] - 26s 105ms/step - loss: 1.0270 - categorical_accuracy: 0.6158 - val_loss: 0.9653 - val_categorical_accuracy: 0.6720\n",
            "Epoch 4/40\n",
            "250/250 [==============================] - 27s 109ms/step - loss: 0.9661 - categorical_accuracy: 0.6457 - val_loss: 1.0693 - val_categorical_accuracy: 0.6145\n",
            "Epoch 5/40\n",
            "250/250 [==============================] - 27s 107ms/step - loss: 0.9430 - categorical_accuracy: 0.6553 - val_loss: 0.9433 - val_categorical_accuracy: 0.6665\n",
            "Epoch 6/40\n",
            "250/250 [==============================] - 27s 108ms/step - loss: 0.9069 - categorical_accuracy: 0.6671 - val_loss: 0.9558 - val_categorical_accuracy: 0.6725\n",
            "Epoch 7/40\n",
            "250/250 [==============================] - 27s 106ms/step - loss: 0.8853 - categorical_accuracy: 0.6769 - val_loss: 1.0164 - val_categorical_accuracy: 0.6435\n",
            "Epoch 8/40\n",
            "250/250 [==============================] - 26s 106ms/step - loss: 0.8713 - categorical_accuracy: 0.6841 - val_loss: 0.9137 - val_categorical_accuracy: 0.6760\n",
            "Epoch 9/40\n",
            "250/250 [==============================] - 27s 108ms/step - loss: 0.8506 - categorical_accuracy: 0.6920 - val_loss: 0.9042 - val_categorical_accuracy: 0.6680\n",
            "Epoch 10/40\n",
            "250/250 [==============================] - 27s 110ms/step - loss: 0.8318 - categorical_accuracy: 0.7014 - val_loss: 0.8527 - val_categorical_accuracy: 0.7050\n",
            "Epoch 11/40\n",
            "250/250 [==============================] - 27s 108ms/step - loss: 0.8093 - categorical_accuracy: 0.7120 - val_loss: 0.8274 - val_categorical_accuracy: 0.7205\n",
            "Epoch 12/40\n",
            "250/250 [==============================] - 27s 107ms/step - loss: 0.8008 - categorical_accuracy: 0.7163 - val_loss: 0.8218 - val_categorical_accuracy: 0.7215\n",
            "Epoch 13/40\n",
            "250/250 [==============================] - 27s 108ms/step - loss: 0.7728 - categorical_accuracy: 0.7294 - val_loss: 0.8220 - val_categorical_accuracy: 0.7180\n",
            "Epoch 14/40\n",
            "250/250 [==============================] - 27s 107ms/step - loss: 0.7664 - categorical_accuracy: 0.7290 - val_loss: 0.7740 - val_categorical_accuracy: 0.7435\n",
            "Epoch 15/40\n",
            "250/250 [==============================] - 27s 107ms/step - loss: 0.7416 - categorical_accuracy: 0.7365 - val_loss: 0.7855 - val_categorical_accuracy: 0.7325\n",
            "Epoch 16/40\n",
            "250/250 [==============================] - 27s 108ms/step - loss: 0.7286 - categorical_accuracy: 0.7444 - val_loss: 0.7589 - val_categorical_accuracy: 0.7340\n",
            "Epoch 17/40\n",
            "250/250 [==============================] - 27s 109ms/step - loss: 0.7083 - categorical_accuracy: 0.7485 - val_loss: 0.7549 - val_categorical_accuracy: 0.7375\n",
            "Epoch 18/40\n",
            "250/250 [==============================] - 32s 129ms/step - loss: 0.6940 - categorical_accuracy: 0.7610 - val_loss: 0.7215 - val_categorical_accuracy: 0.7560\n",
            "Epoch 19/40\n",
            "250/250 [==============================] - 27s 109ms/step - loss: 0.6709 - categorical_accuracy: 0.7663 - val_loss: 0.7166 - val_categorical_accuracy: 0.7600\n",
            "Epoch 20/40\n",
            "250/250 [==============================] - 28s 113ms/step - loss: 0.6490 - categorical_accuracy: 0.7721 - val_loss: 0.7063 - val_categorical_accuracy: 0.7650\n",
            "Epoch 21/40\n",
            "250/250 [==============================] - 28s 111ms/step - loss: 0.6336 - categorical_accuracy: 0.7790 - val_loss: 0.6848 - val_categorical_accuracy: 0.7670\n",
            "Epoch 22/40\n",
            "250/250 [==============================] - 27s 110ms/step - loss: 0.6188 - categorical_accuracy: 0.7847 - val_loss: 0.6829 - val_categorical_accuracy: 0.7620\n",
            "Epoch 23/40\n",
            "250/250 [==============================] - 27s 109ms/step - loss: 0.6008 - categorical_accuracy: 0.7890 - val_loss: 0.6480 - val_categorical_accuracy: 0.7885\n",
            "Epoch 24/40\n",
            "250/250 [==============================] - 27s 110ms/step - loss: 0.5790 - categorical_accuracy: 0.8015 - val_loss: 0.6450 - val_categorical_accuracy: 0.7855\n",
            "Epoch 25/40\n",
            "250/250 [==============================] - 27s 109ms/step - loss: 0.5628 - categorical_accuracy: 0.8050 - val_loss: 0.6603 - val_categorical_accuracy: 0.7755\n",
            "Epoch 26/40\n",
            "250/250 [==============================] - 27s 109ms/step - loss: 0.5454 - categorical_accuracy: 0.8149 - val_loss: 0.5975 - val_categorical_accuracy: 0.8010\n",
            "Epoch 27/40\n",
            "250/250 [==============================] - 27s 108ms/step - loss: 0.5315 - categorical_accuracy: 0.8174 - val_loss: 0.6267 - val_categorical_accuracy: 0.7870\n",
            "Epoch 28/40\n",
            "250/250 [==============================] - 28s 110ms/step - loss: 0.5176 - categorical_accuracy: 0.8163 - val_loss: 0.6221 - val_categorical_accuracy: 0.7885\n",
            "Epoch 29/40\n",
            "250/250 [==============================] - 27s 109ms/step - loss: 0.5046 - categorical_accuracy: 0.8265 - val_loss: 0.5718 - val_categorical_accuracy: 0.8080\n",
            "Epoch 30/40\n",
            "250/250 [==============================] - 27s 109ms/step - loss: 0.4923 - categorical_accuracy: 0.8299 - val_loss: 0.5739 - val_categorical_accuracy: 0.8055\n",
            "Epoch 31/40\n",
            "250/250 [==============================] - 28s 113ms/step - loss: 0.4744 - categorical_accuracy: 0.8336 - val_loss: 0.5393 - val_categorical_accuracy: 0.8165\n",
            "Epoch 32/40\n",
            "250/250 [==============================] - 27s 109ms/step - loss: 0.4660 - categorical_accuracy: 0.8360 - val_loss: 0.5795 - val_categorical_accuracy: 0.7970\n",
            "Epoch 33/40\n",
            "250/250 [==============================] - 28s 111ms/step - loss: 0.4529 - categorical_accuracy: 0.8329 - val_loss: 0.6152 - val_categorical_accuracy: 0.7815\n",
            "Epoch 34/40\n",
            "250/250 [==============================] - 28s 112ms/step - loss: 0.4447 - categorical_accuracy: 0.8421 - val_loss: 0.6080 - val_categorical_accuracy: 0.7830\n",
            "Epoch 35/40\n",
            "250/250 [==============================] - 28s 113ms/step - loss: 0.4331 - categorical_accuracy: 0.8455 - val_loss: 0.5296 - val_categorical_accuracy: 0.8215\n",
            "Epoch 36/40\n",
            "250/250 [==============================] - 27s 109ms/step - loss: 0.4166 - categorical_accuracy: 0.8511 - val_loss: 0.5169 - val_categorical_accuracy: 0.8200\n",
            "Epoch 37/40\n",
            "250/250 [==============================] - 27s 107ms/step - loss: 0.4072 - categorical_accuracy: 0.8555 - val_loss: 0.5214 - val_categorical_accuracy: 0.8240\n",
            "Epoch 38/40\n",
            "250/250 [==============================] - 27s 107ms/step - loss: 0.3940 - categorical_accuracy: 0.8591 - val_loss: 0.5005 - val_categorical_accuracy: 0.8255\n",
            "Epoch 39/40\n",
            "250/250 [==============================] - 28s 111ms/step - loss: 0.3881 - categorical_accuracy: 0.8600 - val_loss: 0.5688 - val_categorical_accuracy: 0.8015\n",
            "Epoch 40/40\n",
            "250/250 [==============================] - 30s 120ms/step - loss: 0.3877 - categorical_accuracy: 0.8602 - val_loss: 0.4993 - val_categorical_accuracy: 0.8275\n",
            "Training Loss: [1.7641515731811523, 1.1982516050338745, 1.0269912481307983, 0.9661031365394592, 0.9430093765258789, 0.9068522453308105, 0.8853277564048767, 0.871316134929657, 0.8505822420120239, 0.8318434953689575, 0.8093034625053406, 0.8008359670639038, 0.7727527618408203, 0.766404390335083, 0.7415945529937744, 0.7285700440406799, 0.7082567811012268, 0.694011926651001, 0.6709399819374084, 0.6490185260772705, 0.6335901021957397, 0.6188116669654846, 0.6008309125900269, 0.578969419002533, 0.5627860426902771, 0.5454490184783936, 0.5315121412277222, 0.5175759792327881, 0.5045758485794067, 0.492288202047348, 0.47441530227661133, 0.46603962779045105, 0.4529153108596802, 0.44466227293014526, 0.4331079423427582, 0.41661274433135986, 0.4071884751319885, 0.3939977288246155, 0.38812029361724854, 0.38772961497306824]\n",
            "Model: \"sequential_11\"\n",
            "_________________________________________________________________\n",
            " Layer (type)                Output Shape              Param #   \n",
            "=================================================================\n",
            " rescaling_11 (Rescaling)    (None, 28, 28, 1)         0         \n",
            "                                                                 \n",
            " conv2d_22 (Conv2D)          (None, 27, 27, 32)        160       \n",
            "                                                                 \n",
            " conv2d_23 (Conv2D)          (None, 24, 24, 64)        32832     \n",
            "                                                                 \n",
            " max_pooling2d_11 (MaxPoolin  (None, 12, 12, 64)       0         \n",
            " g2D)                                                            \n",
            "                                                                 \n",
            " flatten_11 (Flatten)        (None, 9216)              0         \n",
            "                                                                 \n",
            " dense_14 (Dense)            (None, 32)                294944    \n",
            "                                                                 \n",
            " dense_15 (Dense)            (None, 8)                 264       \n",
            "                                                                 \n",
            "=================================================================\n",
            "Total params: 328,200\n",
            "Trainable params: 328,200\n",
            "Non-trainable params: 0\n",
            "_________________________________________________________________\n"
          ]
        }
      ],
      "source": [
        "\n",
        "learning_rate = 0.01\n",
        "optimizer = keras.optimizers.SGD(learning_rate=learning_rate)\n",
        "accuracy = keras.metrics.CategoricalAccuracy()\n",
        "crossentropy = keras.losses.CategoricalCrossentropy()\n",
        "\n",
        "\n",
        "model1 = keras.Sequential()\n",
        "model1.add(Rescaling(1./255))\n",
        "model1.add(Conv2D(32, kernel_size=(2,2), activation=\"relu\", input_shape=(28,28,1)))\n",
        "model1.add(Conv2D(64, kernel_size=(4,4), activation=\"relu\"))\n",
        "model1.add(MaxPool2D(pool_size=(2,2), strides=(2,2), padding=\"valid\"))\n",
        "model1.add(Flatten())\n",
        "model1.add(Dense(32, activation=\"relu\"))\n",
        "model1.add(Dense(8, activation=\"softmax\"))\n",
        "\n",
        "model1.compile(optimizer=optimizer, metrics = [accuracy], loss = crossentropy)\n",
        "\n",
        "\n",
        "history = model1.fit(grayscale_training, ground_truths, validation_split=0.2, epochs=40, batch_size=32)# Access training loss\n",
        "train_loss = history.history['loss']\n",
        "print('Training Loss:', train_loss)\n",
        "model1.summary()"
      ]
    },
    {
      "cell_type": "markdown",
      "metadata": {
        "id": "mjh_Xkpx7pwx"
      },
      "source": [
        "![image.png](attachment:image.png)\n"
      ]
    },
    {
      "attachments": {},
      "cell_type": "markdown",
      "metadata": {},
      "source": [
        "## Inprovement on first CNN model\n",
        "By just incresaing the epoch number from 5 to 40, the loss of our model has decreased significantly. This shows that by increasing # of epochs from something very small like 5 to a more reasonable 40, we get an immediate performance boost <br />\n",
        "1. If we run these models just on an old laptop CPU with no GPU, then it will take a large time as parallelisation is inherently limited. By running the epochs in parallel on a machine with a GPU, epochs will run much faster.\n"
      ]
    },
    {
      "attachments": {},
      "cell_type": "markdown",
      "metadata": {},
      "source": [
        "# Optimising the CNN \n",
        "Randomly changing the various hyper parameters is not going to work to optimise this. There are too many combinations of hyperparameters for this to be a good approach if we are trying to get an optimal set of hyperparams <br />\n",
        "Because of this we will need to use similar optimisation techniques to what we used with the KNN, such as GridSearch or BayesianSearch to find the optimal set of hyperparameters for our model. <br />\n",
        "We can also work on the layers in the network, as this also has a large impact on the performance of our model.\n"
      ]
    },
    {
      "cell_type": "markdown",
      "metadata": {},
      "source": []
    }
  ],
  "metadata": {
    "accelerator": "GPU",
    "colab": {
      "gpuType": "T4",
      "provenance": []
    },
    "gpuClass": "standard",
    "kernelspec": {
      "display_name": "Python 3",
      "language": "python",
      "name": "python3"
    },
    "language_info": {
      "codemirror_mode": {
        "name": "ipython",
        "version": 3
      },
      "file_extension": ".py",
      "mimetype": "text/x-python",
      "name": "python",
      "nbconvert_exporter": "python",
      "pygments_lexer": "ipython3",
      "version": "3.9.10"
    },
    "orig_nbformat": 4
  },
  "nbformat": 4,
  "nbformat_minor": 0
}
