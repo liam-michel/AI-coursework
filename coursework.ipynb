{
 "cells": [
  {
   "attachments": {},
   "cell_type": "markdown",
   "metadata": {},
   "source": [
    "# AI COM2028 COURSEWORK JUPYTER NOTEBOOK"
   ]
  },
  {
   "attachments": {},
   "cell_type": "markdown",
   "metadata": {},
   "source": [
    "#### Overview <br />\n",
    "This coursework concerns the automated classification of images through machine learning techniques. You will work on bloodcell image data, where training samples and their\n",
    "ground truth are provided. You will develop suitable classification techniques to classify\n",
    "unseen examples, a poster to introduce the problem. You will need to submit a Jupyter\n",
    "notebook containing your code for training and evaluation, your prediction outcome of the\n",
    "test dataset, and a poster by 4pm on Wednesday 10th May. Any of your experiment figures\n",
    "and/or tables included in your poster need to be reproducible in the Jupyter notebook that\n",
    "you submit."
   ]
  },
  {
   "attachments": {},
   "cell_type": "markdown",
   "metadata": {},
   "source": [
    "### Start by importing some relevant modules"
   ]
  },
  {
   "cell_type": "code",
   "execution_count": 88,
   "metadata": {},
   "outputs": [],
   "source": [
    "import pandas as pd\n",
    "import numpy as np\n",
    "\n",
    "import matplotlib.pyplot as plt\n",
    "import tensorflow as tf\n",
    "from tensorflow import keras\n",
    "from keras import layers\n",
    "from keras.utils import to_categorical\n"
   ]
  },
  {
   "attachments": {},
   "cell_type": "markdown",
   "metadata": {},
   "source": [
    "# Next load in the training data images (from local machine) <br />\n",
    "# IF USING COLAB, SKIP NEXT TWO CELLS AND USE ONES AFTER IT \n",
    "We can do this using skimage.io <br />\n",
    "We import the imread_collection and concatenate_images functions. <br />\n",
    "These alllow us to read in the images from a given path, and then the concatenate_images function allows us to convert that collection to a numpy array"
   ]
  },
  {
   "cell_type": "code",
   "execution_count": 2,
   "metadata": {},
   "outputs": [
    {
     "name": "stdout",
     "output_type": "stream",
     "text": [
      "<class 'numpy.ndarray'>\n"
     ]
    }
   ],
   "source": [
    "from skimage.io import imread\n",
    "from skimage.io import imread_collection, concatenate_images\n",
    "\n",
    "#set file path for local training images\n",
    "training_images_path = './COM2028_2023/train'\n",
    "\n",
    "#imread_collection allows us to load folder of images into an array\n",
    "training_images_collection = imread_collection(training_images_path + '/*.jpg')\n",
    "training_images = np.concatenate([image[np.newaxis] for image in training_images_collection])\n",
    "print(type(training_images))\n",
    "\n"
   ]
  },
  {
   "attachments": {},
   "cell_type": "markdown",
   "metadata": {},
   "source": [
    "# Now we load in the ground truths (from local machine)\n"
   ]
  },
  {
   "cell_type": "code",
   "execution_count": 89,
   "metadata": {},
   "outputs": [],
   "source": [
    "train_groundtruth_path = './COM2028_2023/train.txt'\n",
    "training_image_path_list = []\n",
    "\n",
    "#since we are loading in text (strings) we can use pythons regular file reading functionallity\n",
    "ground_truths = np.array([])\n",
    "\n",
    "def linereader(line):\n",
    "\tvalues = line.split(' ') #each line contains path, value seperated by a space\n",
    "\timage_path = values[0]  #path is 1st value [0]\n",
    "\ttruth = values[1]  #truth is 2nd value [1]\n",
    "\ttruth= truth.strip('\\n') #our value has a '\\n' appended to it for file formatting, we remove this\n",
    "\treturn truth, image_path\n",
    "\n",
    "\n",
    "with open(train_groundtruth_path, 'r') as file:\n",
    "\tfor line in file:\n",
    "\t\ttruth, image_path = linereader(line)\n",
    "\t\tground_truths = np.append(ground_truths, int(truth)) #we add the value to ground_truths array\n",
    "\t\ttraining_image_path_list.append(image_path)\n",
    "\n",
    "\tfile.close()\n",
    "\n",
    "#one hot encode the ground_truths to vectorise\n",
    "ground_truths = to_categorical(ground_truths, num_classes=8)"
   ]
  },
  {
   "attachments": {},
   "cell_type": "markdown",
   "metadata": {},
   "source": [
    "# ONLY RUN CELL BELOW IF USING COLAB \n",
    "# THIS CELL HANDLES LOADING OF TRAINING DATA AND ITS ASSOCIATED LABELS\n"
   ]
  },
  {
   "cell_type": "code",
   "execution_count": 90,
   "metadata": {},
   "outputs": [
    {
     "ename": "ModuleNotFoundError",
     "evalue": "No module named 'google.colab'",
     "output_type": "error",
     "traceback": [
      "\u001b[1;31m---------------------------------------------------------------------------\u001b[0m",
      "\u001b[1;31mModuleNotFoundError\u001b[0m                       Traceback (most recent call last)",
      "Cell \u001b[1;32mIn[90], line 2\u001b[0m\n\u001b[0;32m      1\u001b[0m \u001b[39m#ONLY USE IF USING COLAB\u001b[39;00m\n\u001b[1;32m----> 2\u001b[0m \u001b[39mfrom\u001b[39;00m \u001b[39mgoogle\u001b[39;00m\u001b[39m.\u001b[39;00m\u001b[39mcolab\u001b[39;00m \u001b[39mimport\u001b[39;00m drive\n\u001b[0;32m      3\u001b[0m drive\u001b[39m.\u001b[39mmount(\u001b[39m'\u001b[39m\u001b[39m/content/drive\u001b[39m\u001b[39m'\u001b[39m)\n\u001b[0;32m      4\u001b[0m get_ipython()\u001b[39m.\u001b[39msystem(\u001b[39m'\u001b[39m\u001b[39munzip \u001b[39m\u001b[39m\"\u001b[39m\u001b[39mdrive/MyDrive/COM2028-2023.zip\u001b[39m\u001b[39m\"\u001b[39m\u001b[39m -d \u001b[39m\u001b[39m\"\u001b[39m\u001b[39mdrive/MyDrive\u001b[39m\u001b[39m\"\u001b[39m\u001b[39m'\u001b[39m)\n",
      "\u001b[1;31mModuleNotFoundError\u001b[0m: No module named 'google.colab'"
     ]
    }
   ],
   "source": [
    "#ONLY USE IF USING COLAB\n",
    "from google.colab import drive\n",
    "drive.mount('/content/drive')\n",
    "!unzip \"drive/MyDrive/COM2028-2023.zip\" -d \"drive/MyDrive\"\n"
   ]
  },
  {
   "cell_type": "code",
   "execution_count": null,
   "metadata": {},
   "outputs": [],
   "source": [
    "from keras.preprocesing.image import ImageDataGenerator\n",
    "\n",
    "image_path = '/content/drive/MyDrive/COM2028-2023/'"
   ]
  },
  {
   "attachments": {},
   "cell_type": "markdown",
   "metadata": {},
   "source": [
    "# Print out some example images from training set"
   ]
  },
  {
   "cell_type": "code",
   "execution_count": null,
   "metadata": {},
   "outputs": [],
   "source": [
    "#print out some example training images\n",
    "#print out 16 example training images using subplots(4,4), giving us 4 rows of 4 columns\n",
    "\n",
    "for i in range(0,16):\n",
    "    plt.subplot(4,4, i+1)\n",
    "    plt.imshow(training_images[i])\n",
    "    \n",
    "\n"
   ]
  },
  {
   "attachments": {},
   "cell_type": "markdown",
   "metadata": {},
   "source": [
    "# Relevance of colors <br />\n",
    "The above images show three of the blood sample images. <br />\n",
    "Given that the colors of the samples in all images are the same, we can reason that color is potentially meaningless in the process of classifying the images. <br />\n",
    "We should instead focus on the 'shape' of the image, rather than the color. <br />\n",
    "Because of this, we can convert our images to grayscale format. We do this by calculating a weighted sum of the R,G,B values of the images for each image. <br />\n",
    "This is done below"
   ]
  },
  {
   "cell_type": "code",
   "execution_count": null,
   "metadata": {},
   "outputs": [],
   "source": [
    "#formula for converting images from RGB to grayscale\n",
    "#0.299 R + 0.587 G + 0.114 B\n",
    "\n",
    "#declare an empty numpy array of dimension (1000,28,28) - to store\n",
    "grayscale_training = np.empty((len(training_images),28,28), int)\n",
    "\n",
    "\n",
    "for i in range(0,len(training_images)):\n",
    "\n",
    "    image = training_images[i] \n",
    "    R = image[:,:,0] # [:] means all the points in that direction, in this case zero gets the 1st value (0) in\n",
    "                    #the 3rd dimension, the 2 colons does this for all 256x256 pixels in the image\n",
    "    G = image[:,:,1] #select green colors\n",
    "\n",
    "    B = image[:, :, 2]\n",
    "    gray = 0.299 * R +  0.587*G + 0.114*B\n",
    "\n",
    "    grayscale_training[i] = gray\n",
    "\n",
    "#now we print out grayscale images and their respective original versions\n",
    "\n",
    "\n",
    "for i in range(0,4):\n",
    "    if i<2:\n",
    "        plt.subplot(2, 2,i+1)\n",
    "        plt.imshow(grayscale_training[i], cmap = 'gray')\n",
    "    else:\n",
    "        plt.subplot(2,2, i+1)\n",
    "        plt.imshow(training_images[i-2], cmap = 'gray')\n",
    "\n",
    "grayscale_training = grayscale_training.reshape(10000,28, 28 ,1)\n",
    "\n"
   ]
  },
  {
   "cell_type": "code",
   "execution_count": 11,
   "metadata": {},
   "outputs": [
    {
     "name": "stdout",
     "output_type": "stream",
     "text": [
      "(10000, 28, 28, 1)\n"
     ]
    }
   ],
   "source": [
    "print(grayscale_training.shape)"
   ]
  },
  {
   "attachments": {},
   "cell_type": "markdown",
   "metadata": {},
   "source": [
    "# Splitting our training data into training and validation sets <br />\n",
    "Since our test set is seperate from our training set, we only have to split the data into training/validation split <br />\n",
    "We are not going to manually split up our dataset, and will instead use a parameter when calling model.fit() to split it for us automatically\n"
   ]
  },
  {
   "cell_type": "code",
   "execution_count": 81,
   "metadata": {},
   "outputs": [
    {
     "name": "stdout",
     "output_type": "stream",
     "text": [
      "(10000, 28, 28, 1)\n",
      "(10000, 8)\n"
     ]
    }
   ],
   "source": [
    "\n",
    "print(grayscale_training.shape)\n",
    "print(ground_truths.shape)\n"
   ]
  },
  {
   "attachments": {},
   "cell_type": "markdown",
   "metadata": {},
   "source": [
    "# Ground truth label values range from 0-7\n",
    "\n"
   ]
  },
  {
   "attachments": {},
   "cell_type": "markdown",
   "metadata": {},
   "source": [
    "# Type of classifier to use <br />\n",
    "Since each target can belong to one of 8 classes, we know we need to use a multiclass classifier for our model. <br /> Binary classifier is not suitable here since that only works for samples that can belong to one of two classes. <br />\n"
   ]
  },
  {
   "cell_type": "code",
   "execution_count": 20,
   "metadata": {},
   "outputs": [
    {
     "name": "stdout",
     "output_type": "stream",
     "text": [
      "(28, 28, 3)\n"
     ]
    },
    {
     "data": {
      "image/png": "[encoded data removed]",
      "text/plain": [
       "<Figure size 640x480 with 1 Axes>"
      ]
     },
     "metadata": {},
     "output_type": "display_data"
    },
    {
     "name": "stdout",
     "output_type": "stream",
     "text": [
      "[255 233 195]\n",
      "[ 86  46 143]\n"
     ]
    }
   ],
   "source": [
    "sample1 = training_images[0] #grabs the first training sample\n",
    "print(sample1.shape)\n",
    "\n",
    "plt.imshow(sample1)\n",
    "plt.show()\n",
    "#get top left pixel values\n",
    "topleft_pixels = sample1[0][0]\n",
    "print(topleft_pixels)\n",
    "#then get ~middle pixe values\n",
    "middle_pixels = sample1[14][14]\n",
    "print(middle_pixels)"
   ]
  },
  {
   "attachments": {},
   "cell_type": "markdown",
   "metadata": {},
   "source": [
    "# Defining the model <br />\n",
    "Now that we have gone over the shape of the data, and the relevance of the different pixel intensity values (RGB), we can actually define the model. <br />\n",
    "As stated before, we want to use a multiclass classification algorithm as each blood sample should belong to one of the 8 classes (0-7). <br /> \n",
    "We will define our model using Tensorflow and Keras <br />\n",
    "- We define a few of the hyperparameters such as learning rate, the optimizer we want to use and the loss function of choice\n",
    "- Once these are defined, we then declare out model with Keras.Sequential()\n",
    "- - Once we've done this we add various layers, generally in the order - convolutional -> pooling -> fully connected -> output layer\n",
    "\n",
    "\n"
   ]
  },
  {
   "cell_type": "code",
   "execution_count": 85,
   "metadata": {},
   "outputs": [],
   "source": [
    "#Importing all libraries that are relevant to the creation and training of models\n",
    "#Import relevant libraries\n",
    "from keras.layers import Rescaling\n",
    "from keras.models import Sequential\n",
    "from keras.layers import Dense, Conv2D, MaxPool2D, Flatten"
   ]
  },
  {
   "cell_type": "code",
   "execution_count": null,
   "metadata": {},
   "outputs": [],
   "source": [
    "\n",
    "learning_rate = 0.01\n",
    "optimizer = keras.optimizers.SGD(learning_rate=learning_rate)\n",
    "accuracy = keras.metrics.CategoricalAccuracy()\n",
    "crossentropy = keras.losses.CategoricalCrossentropy()\n",
    "\n",
    "\n",
    "model1 = keras.Sequential()\n",
    "model1.add(Rescaling(1./255))\n",
    "model1.add(Conv2D(32, kernel_size=(2,2), activation=\"relu\", input_shape=(28,28,1)))\n",
    "model1.add(Conv2D(64, kernel_size=(4,4), activation=\"relu\"))\n",
    "model1.add(MaxPool2D(pool_size=(2,2), strides=(2,2), padding=\"valid\"))\n",
    "model1.add(Flatten())\n",
    "model1.add(Dense(32, activation=\"relu\"))\n",
    "model1.add(Dense(8, activation=\"softmax\"))\n",
    "\n",
    "model1.compile(optimizer=optimizer, metrics = [accuracy], loss = crossentropy)\n",
    "\n",
    "\n",
    "history = model1.fit(grayscale_training, ground_truths, validation_split=0.2, epochs=10, batch_size=32)# Access training loss\n",
    "train_loss = history.history['loss']\n",
    "print('Training Loss:', train_loss)\n",
    "model1.summary()"
   ]
  },
  {
   "attachments": {},
   "cell_type": "markdown",
   "metadata": {},
   "source": [
    "## The above model performs very badly, there are various reasons for this such as:\n",
    "= Low epoch number - Having too few epochs for the model can (and has above) resulted in sever underfitting. The model has not been able to learn the underlying patterns of the input images, and needs more iterations in order to do so. Out model is too simple and performs poorly on training and validation data, it would also perform badly on test data (although not shown above).\n",
    "- Generally unoptimised parameters - As this is the first iteration of our Neural network, the hyperparameters are inevitably unoptimised, and our model is performing much worse than it necessarily could.\n",
    "- There are numerous approached we can take in order to optimise the various hyperparameters in our model\n",
    "\n",
    "## One very obvious (and simple change) is to increase the number of epochs.\n",
    "Given the number of input images, and the spatial resolution of them, a good starting epoch number could be somewhere between 30-100, rather than the 10 used above\n",
    "### We will start with running the same model, just with 40 epochs rather than 10. This will result in a longer training time but will hopefully help our model to 'learn' the training data more effectively"
   ]
  },
  {
   "cell_type": "code",
   "execution_count": 87,
   "metadata": {},
   "outputs": [
    {
     "name": "stdout",
     "output_type": "stream",
     "text": [
      "Epoch 1/40\n",
      "250/250 [==============================] - 29s 109ms/step - loss: 1.7618 - categorical_accuracy: 0.3453 - val_loss: 1.4659 - val_categorical_accuracy: 0.4485\n",
      "Epoch 2/40\n",
      "250/250 [==============================] - 26s 104ms/step - loss: 1.2190 - categorical_accuracy: 0.5531 - val_loss: 1.0939 - val_categorical_accuracy: 0.6205\n",
      "Epoch 3/40\n",
      "250/250 [==============================] - 26s 106ms/step - loss: 1.0608 - categorical_accuracy: 0.6110 - val_loss: 0.9878 - val_categorical_accuracy: 0.6740\n",
      "Epoch 4/40\n",
      "250/250 [==============================] - 26s 105ms/step - loss: 0.9985 - categorical_accuracy: 0.6366 - val_loss: 0.9529 - val_categorical_accuracy: 0.6885\n",
      "Epoch 5/40\n",
      "250/250 [==============================] - 26s 105ms/step - loss: 0.9496 - categorical_accuracy: 0.6604 - val_loss: 0.9381 - val_categorical_accuracy: 0.6865\n",
      "Epoch 6/40\n",
      "250/250 [==============================] - 26s 104ms/step - loss: 0.9344 - categorical_accuracy: 0.6647 - val_loss: 0.9158 - val_categorical_accuracy: 0.6970\n",
      "Epoch 7/40\n",
      "250/250 [==============================] - 26s 104ms/step - loss: 0.9041 - categorical_accuracy: 0.6722 - val_loss: 0.9000 - val_categorical_accuracy: 0.7040\n",
      "Epoch 8/40\n",
      "250/250 [==============================] - 29s 114ms/step - loss: 0.8843 - categorical_accuracy: 0.6885 - val_loss: 0.9350 - val_categorical_accuracy: 0.6650\n",
      "Epoch 9/40\n",
      "250/250 [==============================] - 28s 113ms/step - loss: 0.8613 - categorical_accuracy: 0.6910 - val_loss: 0.8983 - val_categorical_accuracy: 0.6960\n",
      "Epoch 10/40\n",
      "250/250 [==============================] - 30s 119ms/step - loss: 0.8400 - categorical_accuracy: 0.7015 - val_loss: 0.8680 - val_categorical_accuracy: 0.7065\n",
      "Epoch 11/40\n",
      "250/250 [==============================] - 28s 112ms/step - loss: 0.8261 - categorical_accuracy: 0.7066 - val_loss: 0.8372 - val_categorical_accuracy: 0.7180\n",
      "Epoch 12/40\n",
      "250/250 [==============================] - 28s 113ms/step - loss: 0.8077 - categorical_accuracy: 0.7117 - val_loss: 0.8821 - val_categorical_accuracy: 0.6940\n",
      "Epoch 13/40\n",
      "250/250 [==============================] - 29s 115ms/step - loss: 0.7928 - categorical_accuracy: 0.7143 - val_loss: 0.8700 - val_categorical_accuracy: 0.6970\n",
      "Epoch 14/40\n",
      "128/250 [==============>...............] - ETA: 13s - loss: 0.7742 - categorical_accuracy: 0.7239"
     ]
    },
    {
     "ename": "KeyboardInterrupt",
     "evalue": "",
     "output_type": "error",
     "traceback": [
      "\u001b[1;31m---------------------------------------------------------------------------\u001b[0m",
      "\u001b[1;31mKeyboardInterrupt\u001b[0m                         Traceback (most recent call last)",
      "Cell \u001b[1;32mIn[87], line 19\u001b[0m\n\u001b[0;32m     14\u001b[0m model1\u001b[39m.\u001b[39madd(Dense(\u001b[39m8\u001b[39m, activation\u001b[39m=\u001b[39m\u001b[39m\"\u001b[39m\u001b[39msoftmax\u001b[39m\u001b[39m\"\u001b[39m))\n\u001b[0;32m     16\u001b[0m model1\u001b[39m.\u001b[39mcompile(optimizer\u001b[39m=\u001b[39moptimizer, metrics \u001b[39m=\u001b[39m [accuracy], loss \u001b[39m=\u001b[39m crossentropy)\n\u001b[1;32m---> 19\u001b[0m history \u001b[39m=\u001b[39m model1\u001b[39m.\u001b[39;49mfit(grayscale_training, ground_truths, validation_split\u001b[39m=\u001b[39;49m\u001b[39m0.2\u001b[39;49m, epochs\u001b[39m=\u001b[39;49m\u001b[39m40\u001b[39;49m, batch_size\u001b[39m=\u001b[39;49m\u001b[39m32\u001b[39;49m)\u001b[39m# Access training loss\u001b[39;00m\n\u001b[0;32m     20\u001b[0m train_loss \u001b[39m=\u001b[39m history\u001b[39m.\u001b[39mhistory[\u001b[39m'\u001b[39m\u001b[39mloss\u001b[39m\u001b[39m'\u001b[39m]\n\u001b[0;32m     21\u001b[0m \u001b[39mprint\u001b[39m(\u001b[39m'\u001b[39m\u001b[39mTraining Loss:\u001b[39m\u001b[39m'\u001b[39m, train_loss)\n",
      "File \u001b[1;32mc:\\Users\\liam\\AppData\\Local\\Programs\\Python\\Python39\\lib\\site-packages\\keras\\utils\\traceback_utils.py:65\u001b[0m, in \u001b[0;36mfilter_traceback.<locals>.error_handler\u001b[1;34m(*args, **kwargs)\u001b[0m\n\u001b[0;32m     63\u001b[0m filtered_tb \u001b[39m=\u001b[39m \u001b[39mNone\u001b[39;00m\n\u001b[0;32m     64\u001b[0m \u001b[39mtry\u001b[39;00m:\n\u001b[1;32m---> 65\u001b[0m     \u001b[39mreturn\u001b[39;00m fn(\u001b[39m*\u001b[39margs, \u001b[39m*\u001b[39m\u001b[39m*\u001b[39mkwargs)\n\u001b[0;32m     66\u001b[0m \u001b[39mexcept\u001b[39;00m \u001b[39mException\u001b[39;00m \u001b[39mas\u001b[39;00m e:\n\u001b[0;32m     67\u001b[0m     filtered_tb \u001b[39m=\u001b[39m _process_traceback_frames(e\u001b[39m.\u001b[39m__traceback__)\n",
      "File \u001b[1;32mc:\\Users\\liam\\AppData\\Local\\Programs\\Python\\Python39\\lib\\site-packages\\keras\\engine\\training.py:1564\u001b[0m, in \u001b[0;36mModel.fit\u001b[1;34m(self, x, y, batch_size, epochs, verbose, callbacks, validation_split, validation_data, shuffle, class_weight, sample_weight, initial_epoch, steps_per_epoch, validation_steps, validation_batch_size, validation_freq, max_queue_size, workers, use_multiprocessing)\u001b[0m\n\u001b[0;32m   1556\u001b[0m \u001b[39mwith\u001b[39;00m tf\u001b[39m.\u001b[39mprofiler\u001b[39m.\u001b[39mexperimental\u001b[39m.\u001b[39mTrace(\n\u001b[0;32m   1557\u001b[0m     \u001b[39m\"\u001b[39m\u001b[39mtrain\u001b[39m\u001b[39m\"\u001b[39m,\n\u001b[0;32m   1558\u001b[0m     epoch_num\u001b[39m=\u001b[39mepoch,\n\u001b[1;32m   (...)\u001b[0m\n\u001b[0;32m   1561\u001b[0m     _r\u001b[39m=\u001b[39m\u001b[39m1\u001b[39m,\n\u001b[0;32m   1562\u001b[0m ):\n\u001b[0;32m   1563\u001b[0m     callbacks\u001b[39m.\u001b[39mon_train_batch_begin(step)\n\u001b[1;32m-> 1564\u001b[0m     tmp_logs \u001b[39m=\u001b[39m \u001b[39mself\u001b[39;49m\u001b[39m.\u001b[39;49mtrain_function(iterator)\n\u001b[0;32m   1565\u001b[0m     \u001b[39mif\u001b[39;00m data_handler\u001b[39m.\u001b[39mshould_sync:\n\u001b[0;32m   1566\u001b[0m         context\u001b[39m.\u001b[39masync_wait()\n",
      "File \u001b[1;32mc:\\Users\\liam\\AppData\\Local\\Programs\\Python\\Python39\\lib\\site-packages\\tensorflow\\python\\util\\traceback_utils.py:150\u001b[0m, in \u001b[0;36mfilter_traceback.<locals>.error_handler\u001b[1;34m(*args, **kwargs)\u001b[0m\n\u001b[0;32m    148\u001b[0m filtered_tb \u001b[39m=\u001b[39m \u001b[39mNone\u001b[39;00m\n\u001b[0;32m    149\u001b[0m \u001b[39mtry\u001b[39;00m:\n\u001b[1;32m--> 150\u001b[0m   \u001b[39mreturn\u001b[39;00m fn(\u001b[39m*\u001b[39margs, \u001b[39m*\u001b[39m\u001b[39m*\u001b[39mkwargs)\n\u001b[0;32m    151\u001b[0m \u001b[39mexcept\u001b[39;00m \u001b[39mException\u001b[39;00m \u001b[39mas\u001b[39;00m e:\n\u001b[0;32m    152\u001b[0m   filtered_tb \u001b[39m=\u001b[39m _process_traceback_frames(e\u001b[39m.\u001b[39m__traceback__)\n",
      "File \u001b[1;32mc:\\Users\\liam\\AppData\\Local\\Programs\\Python\\Python39\\lib\\site-packages\\tensorflow\\python\\eager\\def_function.py:915\u001b[0m, in \u001b[0;36mFunction.__call__\u001b[1;34m(self, *args, **kwds)\u001b[0m\n\u001b[0;32m    912\u001b[0m compiler \u001b[39m=\u001b[39m \u001b[39m\"\u001b[39m\u001b[39mxla\u001b[39m\u001b[39m\"\u001b[39m \u001b[39mif\u001b[39;00m \u001b[39mself\u001b[39m\u001b[39m.\u001b[39m_jit_compile \u001b[39melse\u001b[39;00m \u001b[39m\"\u001b[39m\u001b[39mnonXla\u001b[39m\u001b[39m\"\u001b[39m\n\u001b[0;32m    914\u001b[0m \u001b[39mwith\u001b[39;00m OptionalXlaContext(\u001b[39mself\u001b[39m\u001b[39m.\u001b[39m_jit_compile):\n\u001b[1;32m--> 915\u001b[0m   result \u001b[39m=\u001b[39m \u001b[39mself\u001b[39m\u001b[39m.\u001b[39m_call(\u001b[39m*\u001b[39margs, \u001b[39m*\u001b[39m\u001b[39m*\u001b[39mkwds)\n\u001b[0;32m    917\u001b[0m new_tracing_count \u001b[39m=\u001b[39m \u001b[39mself\u001b[39m\u001b[39m.\u001b[39mexperimental_get_tracing_count()\n\u001b[0;32m    918\u001b[0m without_tracing \u001b[39m=\u001b[39m (tracing_count \u001b[39m==\u001b[39m new_tracing_count)\n",
      "File \u001b[1;32mc:\\Users\\liam\\AppData\\Local\\Programs\\Python\\Python39\\lib\\site-packages\\tensorflow\\python\\eager\\def_function.py:947\u001b[0m, in \u001b[0;36mFunction._call\u001b[1;34m(self, *args, **kwds)\u001b[0m\n\u001b[0;32m    944\u001b[0m   \u001b[39mself\u001b[39m\u001b[39m.\u001b[39m_lock\u001b[39m.\u001b[39mrelease()\n\u001b[0;32m    945\u001b[0m   \u001b[39m# In this case we have created variables on the first call, so we run the\u001b[39;00m\n\u001b[0;32m    946\u001b[0m   \u001b[39m# defunned version which is guaranteed to never create variables.\u001b[39;00m\n\u001b[1;32m--> 947\u001b[0m   \u001b[39mreturn\u001b[39;00m \u001b[39mself\u001b[39m\u001b[39m.\u001b[39m_stateless_fn(\u001b[39m*\u001b[39margs, \u001b[39m*\u001b[39m\u001b[39m*\u001b[39mkwds)  \u001b[39m# pylint: disable=not-callable\u001b[39;00m\n\u001b[0;32m    948\u001b[0m \u001b[39melif\u001b[39;00m \u001b[39mself\u001b[39m\u001b[39m.\u001b[39m_stateful_fn \u001b[39mis\u001b[39;00m \u001b[39mnot\u001b[39;00m \u001b[39mNone\u001b[39;00m:\n\u001b[0;32m    949\u001b[0m   \u001b[39m# Release the lock early so that multiple threads can perform the call\u001b[39;00m\n\u001b[0;32m    950\u001b[0m   \u001b[39m# in parallel.\u001b[39;00m\n\u001b[0;32m    951\u001b[0m   \u001b[39mself\u001b[39m\u001b[39m.\u001b[39m_lock\u001b[39m.\u001b[39mrelease()\n",
      "File \u001b[1;32mc:\\Users\\liam\\AppData\\Local\\Programs\\Python\\Python39\\lib\\site-packages\\tensorflow\\python\\eager\\function.py:2496\u001b[0m, in \u001b[0;36mFunction.__call__\u001b[1;34m(self, *args, **kwargs)\u001b[0m\n\u001b[0;32m   2493\u001b[0m \u001b[39mwith\u001b[39;00m \u001b[39mself\u001b[39m\u001b[39m.\u001b[39m_lock:\n\u001b[0;32m   2494\u001b[0m   (graph_function,\n\u001b[0;32m   2495\u001b[0m    filtered_flat_args) \u001b[39m=\u001b[39m \u001b[39mself\u001b[39m\u001b[39m.\u001b[39m_maybe_define_function(args, kwargs)\n\u001b[1;32m-> 2496\u001b[0m \u001b[39mreturn\u001b[39;00m graph_function\u001b[39m.\u001b[39;49m_call_flat(\n\u001b[0;32m   2497\u001b[0m     filtered_flat_args, captured_inputs\u001b[39m=\u001b[39;49mgraph_function\u001b[39m.\u001b[39;49mcaptured_inputs)\n",
      "File \u001b[1;32mc:\\Users\\liam\\AppData\\Local\\Programs\\Python\\Python39\\lib\\site-packages\\tensorflow\\python\\eager\\function.py:1862\u001b[0m, in \u001b[0;36mConcreteFunction._call_flat\u001b[1;34m(self, args, captured_inputs, cancellation_manager)\u001b[0m\n\u001b[0;32m   1858\u001b[0m possible_gradient_type \u001b[39m=\u001b[39m gradients_util\u001b[39m.\u001b[39mPossibleTapeGradientTypes(args)\n\u001b[0;32m   1859\u001b[0m \u001b[39mif\u001b[39;00m (possible_gradient_type \u001b[39m==\u001b[39m gradients_util\u001b[39m.\u001b[39mPOSSIBLE_GRADIENT_TYPES_NONE\n\u001b[0;32m   1860\u001b[0m     \u001b[39mand\u001b[39;00m executing_eagerly):\n\u001b[0;32m   1861\u001b[0m   \u001b[39m# No tape is watching; skip to running the function.\u001b[39;00m\n\u001b[1;32m-> 1862\u001b[0m   \u001b[39mreturn\u001b[39;00m \u001b[39mself\u001b[39m\u001b[39m.\u001b[39m_build_call_outputs(\u001b[39mself\u001b[39;49m\u001b[39m.\u001b[39;49m_inference_function\u001b[39m.\u001b[39;49mcall(\n\u001b[0;32m   1863\u001b[0m       ctx, args, cancellation_manager\u001b[39m=\u001b[39;49mcancellation_manager))\n\u001b[0;32m   1864\u001b[0m forward_backward \u001b[39m=\u001b[39m \u001b[39mself\u001b[39m\u001b[39m.\u001b[39m_select_forward_and_backward_functions(\n\u001b[0;32m   1865\u001b[0m     args,\n\u001b[0;32m   1866\u001b[0m     possible_gradient_type,\n\u001b[0;32m   1867\u001b[0m     executing_eagerly)\n\u001b[0;32m   1868\u001b[0m forward_function, args_with_tangents \u001b[39m=\u001b[39m forward_backward\u001b[39m.\u001b[39mforward()\n",
      "File \u001b[1;32mc:\\Users\\liam\\AppData\\Local\\Programs\\Python\\Python39\\lib\\site-packages\\tensorflow\\python\\eager\\function.py:499\u001b[0m, in \u001b[0;36m_EagerDefinedFunction.call\u001b[1;34m(self, ctx, args, cancellation_manager)\u001b[0m\n\u001b[0;32m    497\u001b[0m \u001b[39mwith\u001b[39;00m _InterpolateFunctionError(\u001b[39mself\u001b[39m):\n\u001b[0;32m    498\u001b[0m   \u001b[39mif\u001b[39;00m cancellation_manager \u001b[39mis\u001b[39;00m \u001b[39mNone\u001b[39;00m:\n\u001b[1;32m--> 499\u001b[0m     outputs \u001b[39m=\u001b[39m execute\u001b[39m.\u001b[39;49mexecute(\n\u001b[0;32m    500\u001b[0m         \u001b[39mstr\u001b[39;49m(\u001b[39mself\u001b[39;49m\u001b[39m.\u001b[39;49msignature\u001b[39m.\u001b[39;49mname),\n\u001b[0;32m    501\u001b[0m         num_outputs\u001b[39m=\u001b[39;49m\u001b[39mself\u001b[39;49m\u001b[39m.\u001b[39;49m_num_outputs,\n\u001b[0;32m    502\u001b[0m         inputs\u001b[39m=\u001b[39;49margs,\n\u001b[0;32m    503\u001b[0m         attrs\u001b[39m=\u001b[39;49mattrs,\n\u001b[0;32m    504\u001b[0m         ctx\u001b[39m=\u001b[39;49mctx)\n\u001b[0;32m    505\u001b[0m   \u001b[39melse\u001b[39;00m:\n\u001b[0;32m    506\u001b[0m     outputs \u001b[39m=\u001b[39m execute\u001b[39m.\u001b[39mexecute_with_cancellation(\n\u001b[0;32m    507\u001b[0m         \u001b[39mstr\u001b[39m(\u001b[39mself\u001b[39m\u001b[39m.\u001b[39msignature\u001b[39m.\u001b[39mname),\n\u001b[0;32m    508\u001b[0m         num_outputs\u001b[39m=\u001b[39m\u001b[39mself\u001b[39m\u001b[39m.\u001b[39m_num_outputs,\n\u001b[1;32m   (...)\u001b[0m\n\u001b[0;32m    511\u001b[0m         ctx\u001b[39m=\u001b[39mctx,\n\u001b[0;32m    512\u001b[0m         cancellation_manager\u001b[39m=\u001b[39mcancellation_manager)\n",
      "File \u001b[1;32mc:\\Users\\liam\\AppData\\Local\\Programs\\Python\\Python39\\lib\\site-packages\\tensorflow\\python\\eager\\execute.py:54\u001b[0m, in \u001b[0;36mquick_execute\u001b[1;34m(op_name, num_outputs, inputs, attrs, ctx, name)\u001b[0m\n\u001b[0;32m     52\u001b[0m \u001b[39mtry\u001b[39;00m:\n\u001b[0;32m     53\u001b[0m   ctx\u001b[39m.\u001b[39mensure_initialized()\n\u001b[1;32m---> 54\u001b[0m   tensors \u001b[39m=\u001b[39m pywrap_tfe\u001b[39m.\u001b[39;49mTFE_Py_Execute(ctx\u001b[39m.\u001b[39;49m_handle, device_name, op_name,\n\u001b[0;32m     55\u001b[0m                                       inputs, attrs, num_outputs)\n\u001b[0;32m     56\u001b[0m \u001b[39mexcept\u001b[39;00m core\u001b[39m.\u001b[39m_NotOkStatusException \u001b[39mas\u001b[39;00m e:\n\u001b[0;32m     57\u001b[0m   \u001b[39mif\u001b[39;00m name \u001b[39mis\u001b[39;00m \u001b[39mnot\u001b[39;00m \u001b[39mNone\u001b[39;00m:\n",
      "\u001b[1;31mKeyboardInterrupt\u001b[0m: "
     ]
    }
   ],
   "source": [
    "\n",
    "learning_rate = 0.01\n",
    "optimizer = keras.optimizers.SGD(learning_rate=learning_rate)\n",
    "accuracy = keras.metrics.CategoricalAccuracy()\n",
    "crossentropy = keras.losses.CategoricalCrossentropy()\n",
    "\n",
    "\n",
    "model1 = keras.Sequential()\n",
    "model1.add(Rescaling(1./255))\n",
    "model1.add(Conv2D(32, kernel_size=(2,2), activation=\"relu\", input_shape=(28,28,1)))\n",
    "model1.add(Conv2D(64, kernel_size=(4,4), activation=\"relu\"))\n",
    "model1.add(MaxPool2D(pool_size=(2,2), strides=(2,2), padding=\"valid\"))\n",
    "model1.add(Flatten())\n",
    "model1.add(Dense(32, activation=\"relu\"))\n",
    "model1.add(Dense(8, activation=\"softmax\"))\n",
    "\n",
    "model1.compile(optimizer=optimizer, metrics = [accuracy], loss = crossentropy)\n",
    "\n",
    "\n",
    "history = model1.fit(grayscale_training, ground_truths, validation_split=0.2, epochs=40, batch_size=32)# Access training loss\n",
    "train_loss = history.history['loss']\n",
    "print('Training Loss:', train_loss)\n",
    "model1.summary()"
   ]
  },
  {
   "attachments": {
    "image.png": {
     "image/png": "[encoded data removed]"
    }
   },
   "cell_type": "markdown",
   "metadata": {},
   "source": [
    "![image.png](attachment:image.png)\n"
   ]
  }
 ],
 "metadata": {
  "kernelspec": {
   "display_name": "Python 3",
   "language": "python",
   "name": "python3"
  },
  "language_info": {
   "codemirror_mode": {
    "name": "ipython",
    "version": 3
   },
   "file_extension": ".py",
   "mimetype": "text/x-python",
   "name": "python",
   "nbconvert_exporter": "python",
   "pygments_lexer": "ipython3",
   "version": "3.9.10"
  },
  "orig_nbformat": 4
 },
 "nbformat": 4,
 "nbformat_minor": 2
}
