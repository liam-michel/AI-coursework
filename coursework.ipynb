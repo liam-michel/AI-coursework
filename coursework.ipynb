{
 "cells": [
  {
   "attachments": {},
   "cell_type": "markdown",
   "metadata": {},
   "source": [
    "# AI COM2028 COURSEWORK JUPYTER NOTEBOOK"
   ]
  },
  {
   "attachments": {},
   "cell_type": "markdown",
   "metadata": {},
   "source": [
    "#### Overview <br />\n",
    "This coursework concerns the automated classification of images through machine learning techniques. You will work on bloodcell image data, where training samples and their\n",
    "ground truth are provided. You will develop suitable classification techniques to classify\n",
    "unseen examples, a poster to introduce the problem. You will need to submit a Jupyter\n",
    "notebook containing your code for training and evaluation, your prediction outcome of the\n",
    "test dataset, and a poster by 4pm on Wednesday 10th May. Any of your experiment figures\n",
    "and/or tables included in your poster need to be reproducible in the Jupyter notebook that\n",
    "you submit."
   ]
  },
  {
   "attachments": {},
   "cell_type": "markdown",
   "metadata": {},
   "source": [
    "### Start by importing some relevant modules"
   ]
  },
  {
   "cell_type": "code",
   "execution_count": 14,
   "metadata": {},
   "outputs": [],
   "source": [
    "import pandas as pd\n",
    "import numpy as np\n",
    "\n",
    "import matplotlib.pyplot as plt\n",
    "import tensorflow as tf\n",
    "from tensorflow import keras\n",
    "from keras import layers\n"
   ]
  },
  {
   "attachments": {},
   "cell_type": "markdown",
   "metadata": {},
   "source": [
    "# Next load in the training data images <br />\n",
    "We can do this using skimage.io <br />\n",
    "We import the imread_collection and concatenate_images functions. <br />\n",
    "These alllow us to read in the images from a given path, and then the concatenate_images function allows us to convert that collection to a numpy array"
   ]
  },
  {
   "cell_type": "code",
   "execution_count": 15,
   "metadata": {},
   "outputs": [
    {
     "name": "stdout",
     "output_type": "stream",
     "text": [
      "<class 'numpy.ndarray'>\n"
     ]
    },
    {
     "data": {
      "image/png": "[encoded data removed]",
      "text/plain": [
       "<Figure size 640x480 with 3 Axes>"
      ]
     },
     "metadata": {},
     "output_type": "display_data"
    }
   ],
   "source": [
    "from skimage.io import imread\n",
    "from skimage.io import imread_collection, concatenate_images\n",
    "\n",
    "#set file path for local training images\n",
    "training_images_path = './COM2028_2023/train'\n",
    "\n",
    "#imread_collection allows us to load folder of images into an array\n",
    "training_images_collection = imread_collection(training_images_path + '/*.jpg')\n",
    "training_images = np.concatenate([image[np.newaxis] for image in training_images_collection])\n",
    "print(type(training_images))\n",
    "\n",
    "#print out 3 example images from the trianing set in a single row using subplot\n",
    "plt.subplot(1, 3, 1)\n",
    "plt.imshow(training_images[1])\n",
    "\n",
    "plt.subplot(1,3, 2)\n",
    "plt.imshow(training_images[1])\n",
    "\n",
    "plt.subplot(1,3,3,)\n",
    "plt.imshow(training_images[2])\n",
    "plt.show()"
   ]
  },
  {
   "cell_type": "code",
   "execution_count": 16,
   "metadata": {},
   "outputs": [
    {
     "name": "stdout",
     "output_type": "stream",
     "text": [
      "28\n"
     ]
    }
   ],
   "source": [
    "#test image collection\n",
    "print(len(training_images[0][0]))"
   ]
  },
  {
   "attachments": {},
   "cell_type": "markdown",
   "metadata": {},
   "source": [
    "## Next we need to load in the ground truths labels, these are the truth labels for the training data <br />\n",
    "### These are loaded in from '/COM2028_2023/train.txt\n"
   ]
  },
  {
   "cell_type": "code",
   "execution_count": 17,
   "metadata": {},
   "outputs": [
    {
     "name": "stdout",
     "output_type": "stream",
     "text": [
      "['3' '3' '7' '5' '1' '6' '2' '0' '1' '4']\n",
      "(10000,)\n",
      "0, 7\n"
     ]
    }
   ],
   "source": [
    "train_groundtruth_path = './COM2028_2023/train.txt'\n",
    "training_image_path_list = []\n",
    "\n",
    "#since we are loading in text (strings) we can use pythons regular file reading functionallity\n",
    "ground_truths = np.array([])\n",
    "\n",
    "\n",
    "with open(train_groundtruth_path, 'r') as file:\n",
    "\tfor line in file:\n",
    "\t\tvalues = line.split(' ') #each line contains path, value seperated by a space\n",
    "\t\timage_path = values[0]  #path is 1st value [0]\n",
    "\t\ttruth = values[1]  #truth is 2nd value [1]\n",
    "\t\ttruth= truth.strip('\\n') #our value has a '\\n' appended to it for file formatting, we remove this\n",
    "\t\tground_truths = np.append(ground_truths, truth) #we add the value to ground_truths array\n",
    "\t\ttraining_image_path_list.append(image_path)\n",
    "\n",
    "\tfile.close()\n",
    "\n",
    "print(ground_truths[0:10])\n",
    "print(ground_truths.shape)\n",
    "print(min(ground_truths) + ', ' + max(ground_truths))"
   ]
  },
  {
   "attachments": {},
   "cell_type": "markdown",
   "metadata": {},
   "source": [
    "# Splitting our training data into training and validation sets <br />\n",
    "Since our test set is seperate from our training set, we don't need to include this in our training/test split"
   ]
  },
  {
   "cell_type": "code",
   "execution_count": 25,
   "metadata": {},
   "outputs": [
    {
     "name": "stdout",
     "output_type": "stream",
     "text": [
      "10000\n",
      "(10000, 28, 28, 3)\n",
      "(28, 28, 3)\n"
     ]
    }
   ],
   "source": [
    "#Allocate 70% of the training data to training, use the other 30% for validation\n",
    "sample_count = len(training_images)\n",
    "print(sample_count)\n",
    "\n",
    "\n",
    "#convert class vectors  to binary class matrix\n",
    "ground_truths = keras.utils.to_categorical(ground_truths, 8)\n",
    "print(training_images.shape)\n",
    "print(training_images[0].shape)\n",
    "#split out training data into training and validation set (70/30 split)\n",
    "\n",
    "training_count = int(sample_count*0.7)\n",
    "x_train, x_valid = training_images[:training_count], training_images[training_count:]\n",
    "y_train, y_valid = ground_truths[:training_count], ground_truths[training_count:]\n",
    "\n",
    "\n",
    "\n"
   ]
  },
  {
   "cell_type": "code",
   "execution_count": null,
   "metadata": {},
   "outputs": [],
   "source": [
    "\n"
   ]
  },
  {
   "attachments": {},
   "cell_type": "markdown",
   "metadata": {},
   "source": [
    "# Ground truth label values range from 0-7\n",
    "\n"
   ]
  },
  {
   "cell_type": "code",
   "execution_count": 19,
   "metadata": {},
   "outputs": [
    {
     "name": "stdout",
     "output_type": "stream",
     "text": [
      "<class 'numpy.ndarray'>\n",
      "(28, 28, 3)\n"
     ]
    }
   ],
   "source": [
    "#Manipulate the individual images\n",
    "image1 = training_images[0]\n",
    "print(type(image1))\n",
    "print(image1.shape)\n",
    "\n"
   ]
  },
  {
   "attachments": {},
   "cell_type": "markdown",
   "metadata": {},
   "source": [
    "# Type of classifier to use <br />\n",
    "Since each target can belong to one of 8 classes, we know we need to use a multiclass classifier for our model. <br /> Binary classifier is not suitable here since that only works for samples that can belong to one of two classes. <br />\n"
   ]
  },
  {
   "attachments": {},
   "cell_type": "markdown",
   "metadata": {},
   "source": [
    "# The format of our data\n",
    "We are analysing images of blood samples. <br />\n",
    "These images are in the format 28x28x3. That is 28 pixels H by 28 pixels W, each pixel having three color channels for the different RGB color intensities. <br />\n",
    "## We will need to specify this data format when defining our model <br />\n",
    "Below is an example of the different RGB color values for one of the training samples <br />\n"
   ]
  },
  {
   "cell_type": "code",
   "execution_count": 20,
   "metadata": {},
   "outputs": [
    {
     "name": "stdout",
     "output_type": "stream",
     "text": [
      "(28, 28, 3)\n"
     ]
    },
    {
     "data": {
      "image/png": "[encoded data removed]",
      "text/plain": [
       "<Figure size 640x480 with 1 Axes>"
      ]
     },
     "metadata": {},
     "output_type": "display_data"
    },
    {
     "name": "stdout",
     "output_type": "stream",
     "text": [
      "[255 233 195]\n",
      "[ 86  46 143]\n"
     ]
    }
   ],
   "source": [
    "sample1 = training_images[0] #grabs the first training sample\n",
    "print(sample1.shape)\n",
    "\n",
    "plt.imshow(sample1)\n",
    "plt.show()\n",
    "#get top left pixel values\n",
    "topleft_pixels = sample1[0][0]\n",
    "print(topleft_pixels)\n",
    "#then get ~middle pixe values\n",
    "middle_pixels = sample1[14][14]\n",
    "print(middle_pixels)"
   ]
  },
  {
   "attachments": {},
   "cell_type": "markdown",
   "metadata": {},
   "source": [
    "# Lower color intensity values (~ 0) means closer to the color itself <br />\n",
    "i.e. In the red color index, a value of 0 means RED, a value of 128 would indiciate ~light red <br />\n",
    "The above example illustrates this well, with the top left pixel color values all being close to 255 (close to white). <br />\n",
    "Meanwhile the middle pixels (that result in purple coloring) have RGB values closer to 0 (less white)\n"
   ]
  },
  {
   "attachments": {},
   "cell_type": "markdown",
   "metadata": {},
   "source": [
    "# Defining the model <br />\n",
    "Now that we have gone over the shape of the data, and the relevance of the different pixel intensity values (RGB), we can actually define the model. <br />\n",
    "As stated before, we want to use a multiclass classification algorithm as each blood sample should belong to one of the 8 classes (0-7). <br /> \n",
    "We will define our model using Tensorflow and keras\n",
    "\n"
   ]
  },
  {
   "cell_type": "code",
   "execution_count": 28,
   "metadata": {},
   "outputs": [
    {
     "name": "stdout",
     "output_type": "stream",
     "text": [
      "Model: \"sequential_3\"\n",
      "_________________________________________________________________\n",
      " Layer (type)                Output Shape              Param #   \n",
      "=================================================================\n",
      " hidden1 (Dense)             (None, 128)               301184    \n",
      "                                                                 \n",
      " hidden2 (Dense)             (None, 64)                8256      \n",
      "                                                                 \n",
      " dense_3 (Dense)             (None, 8)                 520       \n",
      "                                                                 \n",
      "=================================================================\n",
      "Total params: 309,960\n",
      "Trainable params: 309,960\n",
      "Non-trainable params: 0\n",
      "_________________________________________________________________\n"
     ]
    }
   ],
   "source": [
    "#Import relevant libraries\n",
    "\n",
    "\n",
    "#Before defining the model (using keras) we need to define a few hyperparameters for our model\n",
    "#This includes input shape, hidden layer counts, epoch counts (number of times we want to train the model on our data), \n",
    "#, as well the output shape\n",
    "\n",
    "n_inputs = (28*28*3) #This is the number of 'inputs' per sample that our model will have to analyse\n",
    "n_hidden1 = 128 #These are the number of neurons in our hidden layer 'n'\n",
    "n_hidden2 = 64\n",
    "n_outputs = 8 #This is the number of different classes that our model can take\n",
    "\n",
    "\n",
    "#Define a multiclass classification model using keras\n",
    "\n",
    "model1 = keras.Sequential(\n",
    "    [\n",
    "        keras.Input(shape = (28*28*3)),\n",
    "        layers.Dense(n_hidden1, name = 'hidden1', activation = 'relu'),\n",
    "        layers.Dense(n_hidden2, name ='hidden2', activation = 'relu'),\n",
    "        layers.Dense(n_outputs, activation = \"softmax\")\n",
    "    ]\n",
    ")\n",
    "\n",
    "#Print a summyar of our above model\n",
    "model1.summary()\n",
    "\n"
   ]
  },
  {
   "cell_type": "code",
   "execution_count": 29,
   "metadata": {},
   "outputs": [],
   "source": [
    "#Our above model uses softmax as the activation function\n",
    "\n",
    "#We need to define a cost function for our model\n",
    "#This is the function our model will use to train our network with our training samples\n",
    "#We will use CategoricalCrossEntropy for this 1st model.\n",
    "\n",
    "crossentropy = keras.losses.CategoricalCrossentropy()\n",
    "\n",
    "#We also need an optimization function for our model. This will be used to tune the hyperparameters\n",
    "#We will start off using the Adam function\n",
    "learning_rate = 0.01\n",
    "optimizer = keras.optimizers.Adam(learning_rate=learning_rate)\n",
    "accuracy = keras.metrics.CategoricalAccuracy()\n",
    "\n",
    "\n"
   ]
  },
  {
   "attachments": {},
   "cell_type": "markdown",
   "metadata": {},
   "source": [
    "## Now that we have the model and all of the needed parameters defined, we can train the model with our training data <br />"
   ]
  },
  {
   "cell_type": "code",
   "execution_count": 30,
   "metadata": {},
   "outputs": [
    {
     "name": "stdout",
     "output_type": "stream",
     "text": [
      "(28, 28, 3)\n",
      "Epoch 1/10\n"
     ]
    },
    {
     "ename": "ValueError",
     "evalue": "in user code:\n\n    File \"c:\\Users\\liam\\AppData\\Local\\Programs\\Python\\Python39\\lib\\site-packages\\keras\\engine\\training.py\", line 1160, in train_function  *\n        return step_function(self, iterator)\n    File \"c:\\Users\\liam\\AppData\\Local\\Programs\\Python\\Python39\\lib\\site-packages\\keras\\engine\\training.py\", line 1146, in step_function  **\n        outputs = model.distribute_strategy.run(run_step, args=(data,))\n    File \"c:\\Users\\liam\\AppData\\Local\\Programs\\Python\\Python39\\lib\\site-packages\\keras\\engine\\training.py\", line 1135, in run_step  **\n        outputs = model.train_step(data)\n    File \"c:\\Users\\liam\\AppData\\Local\\Programs\\Python\\Python39\\lib\\site-packages\\keras\\engine\\training.py\", line 993, in train_step\n        y_pred = self(x, training=True)\n    File \"c:\\Users\\liam\\AppData\\Local\\Programs\\Python\\Python39\\lib\\site-packages\\keras\\utils\\traceback_utils.py\", line 70, in error_handler\n        raise e.with_traceback(filtered_tb) from None\n    File \"c:\\Users\\liam\\AppData\\Local\\Programs\\Python\\Python39\\lib\\site-packages\\keras\\engine\\input_spec.py\", line 295, in assert_input_compatibility\n        raise ValueError(\n\n    ValueError: Input 0 of layer \"sequential_3\" is incompatible with the layer: expected shape=(None, 2352), found shape=(None, 28, 28, 3)\n",
     "output_type": "error",
     "traceback": [
      "\u001b[1;31m---------------------------------------------------------------------------\u001b[0m",
      "\u001b[1;31mValueError\u001b[0m                                Traceback (most recent call last)",
      "Cell \u001b[1;32mIn[30], line 5\u001b[0m\n\u001b[0;32m      3\u001b[0m \u001b[39m#Fit our training data to the model. We also pass in the validation data\u001b[39;00m\n\u001b[0;32m      4\u001b[0m \u001b[39mprint\u001b[39m(training_images[\u001b[39m0\u001b[39m]\u001b[39m.\u001b[39mshape)\n\u001b[1;32m----> 5\u001b[0m model1\u001b[39m.\u001b[39;49mfit(x_train, y_train, batch_size\u001b[39m=\u001b[39;49m\u001b[39m128\u001b[39;49m, epochs\u001b[39m=\u001b[39;49m\u001b[39m10\u001b[39;49m, validation_data \u001b[39m=\u001b[39;49m (x_valid, y_valid ), shuffle\u001b[39m=\u001b[39;49m\u001b[39mTrue\u001b[39;49;00m)\n",
      "File \u001b[1;32mc:\\Users\\liam\\AppData\\Local\\Programs\\Python\\Python39\\lib\\site-packages\\keras\\utils\\traceback_utils.py:70\u001b[0m, in \u001b[0;36mfilter_traceback.<locals>.error_handler\u001b[1;34m(*args, **kwargs)\u001b[0m\n\u001b[0;32m     67\u001b[0m     filtered_tb \u001b[39m=\u001b[39m _process_traceback_frames(e\u001b[39m.\u001b[39m__traceback__)\n\u001b[0;32m     68\u001b[0m     \u001b[39m# To get the full stack trace, call:\u001b[39;00m\n\u001b[0;32m     69\u001b[0m     \u001b[39m# `tf.debugging.disable_traceback_filtering()`\u001b[39;00m\n\u001b[1;32m---> 70\u001b[0m     \u001b[39mraise\u001b[39;00m e\u001b[39m.\u001b[39mwith_traceback(filtered_tb) \u001b[39mfrom\u001b[39;00m \u001b[39mNone\u001b[39m\n\u001b[0;32m     71\u001b[0m \u001b[39mfinally\u001b[39;00m:\n\u001b[0;32m     72\u001b[0m     \u001b[39mdel\u001b[39;00m filtered_tb\n",
      "File \u001b[1;32m~\\AppData\\Local\\Temp\\__autograph_generated_filewfayz0pf.py:15\u001b[0m, in \u001b[0;36mouter_factory.<locals>.inner_factory.<locals>.tf__train_function\u001b[1;34m(iterator)\u001b[0m\n\u001b[0;32m     13\u001b[0m \u001b[39mtry\u001b[39;00m:\n\u001b[0;32m     14\u001b[0m     do_return \u001b[39m=\u001b[39m \u001b[39mTrue\u001b[39;00m\n\u001b[1;32m---> 15\u001b[0m     retval_ \u001b[39m=\u001b[39m ag__\u001b[39m.\u001b[39mconverted_call(ag__\u001b[39m.\u001b[39mld(step_function), (ag__\u001b[39m.\u001b[39mld(\u001b[39mself\u001b[39m), ag__\u001b[39m.\u001b[39mld(iterator)), \u001b[39mNone\u001b[39;00m, fscope)\n\u001b[0;32m     16\u001b[0m \u001b[39mexcept\u001b[39;00m:\n\u001b[0;32m     17\u001b[0m     do_return \u001b[39m=\u001b[39m \u001b[39mFalse\u001b[39;00m\n",
      "\u001b[1;31mValueError\u001b[0m: in user code:\n\n    File \"c:\\Users\\liam\\AppData\\Local\\Programs\\Python\\Python39\\lib\\site-packages\\keras\\engine\\training.py\", line 1160, in train_function  *\n        return step_function(self, iterator)\n    File \"c:\\Users\\liam\\AppData\\Local\\Programs\\Python\\Python39\\lib\\site-packages\\keras\\engine\\training.py\", line 1146, in step_function  **\n        outputs = model.distribute_strategy.run(run_step, args=(data,))\n    File \"c:\\Users\\liam\\AppData\\Local\\Programs\\Python\\Python39\\lib\\site-packages\\keras\\engine\\training.py\", line 1135, in run_step  **\n        outputs = model.train_step(data)\n    File \"c:\\Users\\liam\\AppData\\Local\\Programs\\Python\\Python39\\lib\\site-packages\\keras\\engine\\training.py\", line 993, in train_step\n        y_pred = self(x, training=True)\n    File \"c:\\Users\\liam\\AppData\\Local\\Programs\\Python\\Python39\\lib\\site-packages\\keras\\utils\\traceback_utils.py\", line 70, in error_handler\n        raise e.with_traceback(filtered_tb) from None\n    File \"c:\\Users\\liam\\AppData\\Local\\Programs\\Python\\Python39\\lib\\site-packages\\keras\\engine\\input_spec.py\", line 295, in assert_input_compatibility\n        raise ValueError(\n\n    ValueError: Input 0 of layer \"sequential_3\" is incompatible with the layer: expected shape=(None, 2352), found shape=(None, 28, 28, 3)\n"
     ]
    }
   ],
   "source": [
    "#compile the model with above defined parameters\n",
    "model1.compile(loss = crossentropy, optimizer = optimizer, metrics = [accuracy])\n",
    "#Fit our training data to the model. We also pass in the validation data\n",
    "print(training_images[0].shape)\n",
    "model1.fit(x_train, y_train, batch_size=128, epochs=10, validation_data = (x_valid, y_valid ), shuffle=True)\n"
   ]
  },
  {
   "cell_type": "markdown",
   "metadata": {},
   "source": []
  }
 ],
 "metadata": {
  "kernelspec": {
   "display_name": "Python 3",
   "language": "python",
   "name": "python3"
  },
  "language_info": {
   "codemirror_mode": {
    "name": "ipython",
    "version": 3
   },
   "file_extension": ".py",
   "mimetype": "text/x-python",
   "name": "python",
   "nbconvert_exporter": "python",
   "pygments_lexer": "ipython3",
   "version": "3.9.10"
  },
  "orig_nbformat": 4
 },
 "nbformat": 4,
 "nbformat_minor": 2
}
