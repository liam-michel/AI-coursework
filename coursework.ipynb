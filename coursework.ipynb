{
 "cells": [
  {
   "attachments": {},
   "cell_type": "markdown",
   "metadata": {},
   "source": [
    "# AI COM2028 COURSEWORK JUPYTER NOTEBOOK"
   ]
  },
  {
   "attachments": {},
   "cell_type": "markdown",
   "metadata": {},
   "source": [
    "#### Overview <br />\n",
    "This coursework concerns the automated classification of images through machine learning techniques. You will work on bloodcell image data, where training samples and their\n",
    "ground truth are provided. You will develop suitable classification techniques to classify\n",
    "unseen examples, a poster to introduce the problem. You will need to submit a Jupyter\n",
    "notebook containing your code for training and evaluation, your prediction outcome of the\n",
    "test dataset, and a poster by 4pm on Wednesday 10th May. Any of your experiment figures\n",
    "and/or tables included in your poster need to be reproducible in the Jupyter notebook that\n",
    "you submit."
   ]
  },
  {
   "attachments": {},
   "cell_type": "markdown",
   "metadata": {},
   "source": [
    "### Start by importing some relevant modules"
   ]
  },
  {
   "cell_type": "code",
   "execution_count": 6,
   "metadata": {},
   "outputs": [],
   "source": [
    "import pandas as pd\n",
    "import numpy as np\n",
    "\n",
    "import matplotlib.pyplot as plt"
   ]
  },
  {
   "attachments": {},
   "cell_type": "markdown",
   "metadata": {},
   "source": [
    "# Next load in the training data images <br />\n",
    "We can do this using skimage.io"
   ]
  },
  {
   "cell_type": "code",
   "execution_count": 16,
   "metadata": {},
   "outputs": [
    {
     "data": {
      "image/png": "[encoded data removed]",
      "text/plain": [
       "<Figure size 432x288 with 3 Axes>"
      ]
     },
     "metadata": {
      "needs_background": "light"
     },
     "output_type": "display_data"
    }
   ],
   "source": [
    "from skimage.io import imread\n",
    "from skimage.io import imread_collection\n",
    "\n",
    "#set file path for local training images\n",
    "training_images_path = './COM2028_2023/train'\n",
    "\n",
    "#imread_collection allows us to load folder of images into an array\n",
    "training_images = imread_collection(training_images_path + '/*.jpg')\n",
    "\n",
    "\n",
    "#print out 3 example images from the trianing set in a single row using subplot\n",
    "plt.subplot(1, 3, 1)\n",
    "plt.imshow(training_images[1])\n",
    "\n",
    "plt.subplot(1,3, 2)\n",
    "plt.imshow(training_images[1])\n",
    "\n",
    "plt.subplot(1,3,3,)\n",
    "plt.imshow(training_images[2])\n",
    "plt.show()"
   ]
  },
  {
   "attachments": {},
   "cell_type": "markdown",
   "metadata": {},
   "source": [
    "## Next we need to load in the ground truths labels, these are the truth labels for the training data <br />\n",
    "### These are loaded in from '/COM2028_2023/train.txt\n"
   ]
  },
  {
   "cell_type": "code",
   "execution_count": 28,
   "metadata": {},
   "outputs": [
    {
     "name": "stdout",
     "output_type": "stream",
     "text": [
      "['3' '3' '7' '5' '1' '6' '2' '0' '1' '4']\n",
      "(10000,)\n",
      "0, 7\n"
     ]
    }
   ],
   "source": [
    "train_groundtruth_path = './COM2028_2023/train.txt'\n",
    "training_image_path_list = []\n",
    "\n",
    "#since we are loading in text (strings) we can use pythons regular file reading functionallity\n",
    "ground_truths = np.array([])\n",
    "\n",
    "\n",
    "with open(train_groundtruth_path, 'r') as file:\n",
    "\tfor line in file:\n",
    "\t\tvalues = line.split(' ') #each line contains path, value seperated by a space\n",
    "\t\timage_path = values[0]  #path is 1st value [0]\n",
    "\t\ttruth = values[1]  #truth is 2nd value [1]\n",
    "\t\ttruth= truth.strip('\\n') #our value has a '\\n' appended to it for file formatting, we remove this\n",
    "\t\tground_truths = np.append(ground_truths, value) #we add the value to ground_truths array\n",
    "\t\ttraining_image_path_list.append(image_path)\n",
    "\n",
    "\tfile.close()\n",
    "\n",
    "print(ground_truths[0:10])\n",
    "print(ground_truths.shape)\n",
    "print(min(ground_truths) + ', ' + max(ground_truths))"
   ]
  },
  {
   "attachments": {},
   "cell_type": "markdown",
   "metadata": {},
   "source": [
    "# Ground truth label values range from 0-7\n",
    "\n"
   ]
  },
  {
   "cell_type": "code",
   "execution_count": 30,
   "metadata": {},
   "outputs": [
    {
     "name": "stdout",
     "output_type": "stream",
     "text": [
      "(28, 28, 3)\n"
     ]
    }
   ],
   "source": [
    "#Manipulate the individual images\n",
    "image1 = training_images[0]\n",
    "print(image1.shape)\n",
    "\n"
   ]
  }
 ],
 "metadata": {
  "kernelspec": {
   "display_name": "Python 3",
   "language": "python",
   "name": "python3"
  },
  "language_info": {
   "codemirror_mode": {
    "name": "ipython",
    "version": 3
   },
   "file_extension": ".py",
   "mimetype": "text/x-python",
   "name": "python",
   "nbconvert_exporter": "python",
   "pygments_lexer": "ipython3",
   "version": "3.9.6"
  },
  "orig_nbformat": 4
 },
 "nbformat": 4,
 "nbformat_minor": 2
}
