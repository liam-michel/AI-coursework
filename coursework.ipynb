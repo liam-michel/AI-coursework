{
 "cells": [
  {
   "attachments": {},
   "cell_type": "markdown",
   "metadata": {},
   "source": [
    "# AI COM2028 COURSEWORK JUPYTER NOTEBOOK"
   ]
  },
  {
   "attachments": {},
   "cell_type": "markdown",
   "metadata": {},
   "source": [
    "#### Overview <br />\n",
    "This coursework concerns the automated classification of images through machine learning techniques. You will work on bloodcell image data, where training samples and their\n",
    "ground truth are provided. You will develop suitable classification techniques to classify\n",
    "unseen examples, a poster to introduce the problem. You will need to submit a Jupyter\n",
    "notebook containing your code for training and evaluation, your prediction outcome of the\n",
    "test dataset, and a poster by 4pm on Wednesday 10th May. Any of your experiment figures\n",
    "and/or tables included in your poster need to be reproducible in the Jupyter notebook that\n",
    "you submit."
   ]
  },
  {
   "attachments": {},
   "cell_type": "markdown",
   "metadata": {},
   "source": [
    "### Start by importing some relevant modules"
   ]
  },
  {
   "cell_type": "code",
   "execution_count": 1,
   "metadata": {},
   "outputs": [],
   "source": [
    "import pandas as pd\n",
    "import numpy as np\n",
    "\n",
    "import matplotlib.pyplot as plt"
   ]
  },
  {
   "attachments": {},
   "cell_type": "markdown",
   "metadata": {},
   "source": [
    "# Next load in the training data images <br />\n",
    "We can do this using skimage.io"
   ]
  },
  {
   "cell_type": "code",
   "execution_count": 2,
   "metadata": {},
   "outputs": [
    {
     "data": {
      "image/png": "[encoded data removed]",
      "text/plain": [
       "<Figure size 640x480 with 3 Axes>"
      ]
     },
     "metadata": {},
     "output_type": "display_data"
    }
   ],
   "source": [
    "from skimage.io import imread\n",
    "from skimage.io import imread_collection\n",
    "\n",
    "#set file path for local training images\n",
    "training_images_path = './COM2028_2023/train'\n",
    "\n",
    "#imread_collection allows us to load folder of images into an array\n",
    "training_images = imread_collection(training_images_path + '/*.jpg')\n",
    "\n",
    "\n",
    "#print out 3 example images from the trianing set in a single row using subplot\n",
    "plt.subplot(1, 3, 1)\n",
    "plt.imshow(training_images[1])\n",
    "\n",
    "plt.subplot(1,3, 2)\n",
    "plt.imshow(training_images[1])\n",
    "\n",
    "plt.subplot(1,3,3,)\n",
    "plt.imshow(training_images[2])\n",
    "plt.show()"
   ]
  },
  {
   "attachments": {},
   "cell_type": "markdown",
   "metadata": {},
   "source": [
    "## Next we need to load in the ground truths labels, these are the truth labels for the training data <br />\n",
    "### These are loaded in from '/COM2028_2023/train.txt\n"
   ]
  },
  {
   "cell_type": "code",
   "execution_count": 3,
   "metadata": {},
   "outputs": [
    {
     "ename": "NameError",
     "evalue": "name 'value' is not defined",
     "output_type": "error",
     "traceback": [
      "\u001b[1;31m---------------------------------------------------------------------------\u001b[0m",
      "\u001b[1;31mNameError\u001b[0m                                 Traceback (most recent call last)",
      "Cell \u001b[1;32mIn[3], line 14\u001b[0m\n\u001b[0;32m     12\u001b[0m \ttruth \u001b[39m=\u001b[39m values[\u001b[39m1\u001b[39m]  \u001b[39m#truth is 2nd value [1]\u001b[39;00m\n\u001b[0;32m     13\u001b[0m \ttruth\u001b[39m=\u001b[39m truth\u001b[39m.\u001b[39mstrip(\u001b[39m'\u001b[39m\u001b[39m\\n\u001b[39;00m\u001b[39m'\u001b[39m) \u001b[39m#our value has a '\\n' appended to it for file formatting, we remove this\u001b[39;00m\n\u001b[1;32m---> 14\u001b[0m \tground_truths \u001b[39m=\u001b[39m np\u001b[39m.\u001b[39mappend(ground_truths, value) \u001b[39m#we add the value to ground_truths array\u001b[39;00m\n\u001b[0;32m     15\u001b[0m \ttraining_image_path_list\u001b[39m.\u001b[39mappend(image_path)\n\u001b[0;32m     17\u001b[0m file\u001b[39m.\u001b[39mclose()\n",
      "\u001b[1;31mNameError\u001b[0m: name 'value' is not defined"
     ]
    }
   ],
   "source": [
    "train_groundtruth_path = './COM2028_2023/train.txt'\n",
    "training_image_path_list = []\n",
    "\n",
    "#since we are loading in text (strings) we can use pythons regular file reading functionallity\n",
    "ground_truths = np.array([])\n",
    "\n",
    "\n",
    "with open(train_groundtruth_path, 'r') as file:\n",
    "\tfor line in file:\n",
    "\t\tvalues = line.split(' ') #each line contains path, value seperated by a space\n",
    "\t\timage_path = values[0]  #path is 1st value [0]\n",
    "\t\ttruth = values[1]  #truth is 2nd value [1]\n",
    "\t\ttruth= truth.strip('\\n') #our value has a '\\n' appended to it for file formatting, we remove this\n",
    "\t\tground_truths = np.append(ground_truths, truth) #we add the value to ground_truths array\n",
    "\t\ttraining_image_path_list.append(image_path)\n",
    "\n",
    "\tfile.close()\n",
    "\n",
    "print(ground_truths[0:10])\n",
    "print(ground_truths.shape)\n",
    "print(min(ground_truths) + ', ' + max(ground_truths))"
   ]
  },
  {
   "attachments": {},
   "cell_type": "markdown",
   "metadata": {},
   "source": [
    "# Ground truth label values range from 0-7\n",
    "\n"
   ]
  },
  {
   "cell_type": "code",
   "execution_count": null,
   "metadata": {},
   "outputs": [
    {
     "name": "stdout",
     "output_type": "stream",
     "text": [
      "(28, 28, 3)\n"
     ]
    }
   ],
   "source": [
    "#Manipulate the individual images\n",
    "image1 = training_images[0]\n",
    "print(image1.shape)\n",
    "\n"
   ]
  }
 ],
 "metadata": {
  "kernelspec": {
   "display_name": "Python 3",
   "language": "python",
   "name": "python3"
  },
  "language_info": {
   "codemirror_mode": {
    "name": "ipython",
    "version": 3
   },
   "file_extension": ".py",
   "mimetype": "text/x-python",
   "name": "python",
   "nbconvert_exporter": "python",
   "pygments_lexer": "ipython3",
   "version": "3.9.10"
  },
  "orig_nbformat": 4
 },
 "nbformat": 4,
 "nbformat_minor": 2
}
