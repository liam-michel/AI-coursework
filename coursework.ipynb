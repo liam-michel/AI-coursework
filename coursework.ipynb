{
  "cells": [
    {
      "cell_type": "markdown",
      "metadata": {
        "id": "-zsRK_xS7pwe"
      },
      "source": [
        "# AI COM2028 COURSEWORK JUPYTER NOTEBOOK"
      ]
    },
    {
      "cell_type": "markdown",
      "metadata": {
        "id": "aGseJkM_7pwg"
      },
      "source": [
        "#### Overview <br />\n",
        "This coursework concerns the automated classification of images through machine learning techniques. You will work on bloodcell image data, where training samples and their\n",
        "ground truth are provided. You will develop suitable classification techniques to classify\n",
        "unseen examples, a poster to introduce the problem. You will need to submit a Jupyter\n",
        "notebook containing your code for training and evaluation, your prediction outcome of the\n",
        "test dataset, and a poster by 4pm on Wednesday 10th May. Any of your experiment figures\n",
        "and/or tables included in your poster need to be reproducible in the Jupyter notebook that\n",
        "you submit."
      ]
    },
    {
      "cell_type": "markdown",
      "metadata": {
        "id": "q89KE6lF7pwh"
      },
      "source": [
        "### Start by importing some relevant modules"
      ]
    },
    {
      "cell_type": "code",
      "execution_count": 1,
      "metadata": {
        "id": "Gm48l4Ij7pwh"
      },
      "outputs": [],
      "source": [
        "import pandas as pd\n",
        "import numpy as np\n",
        "\n",
        "import matplotlib.pyplot as plt\n",
        "import tensorflow as tf\n",
        "from tensorflow import keras\n",
        "from keras import layers\n",
        "\n"
      ]
    },
    {
      "cell_type": "markdown",
      "metadata": {
        "id": "oMfK3RKi7pwi"
      },
      "source": [
        "# Next load in the training data images (from local machine) <br />\n",
        "# IF USING COLAB, SKIP NEXT TWO CELLS AND USE ONES AFTER IT \n",
        "We can do this using skimage.io <br />\n",
        "We import the imread_collection and concatenate_images functions. <br />\n",
        "These alllow us to read in the images from a given path, and then the concatenate_images function allows us to convert that collection to a numpy array"
      ]
    },
    {
      "cell_type": "code",
      "execution_count": null,
      "metadata": {
        "colab": {
          "base_uri": "https://localhost:8080/",
          "height": 269
        },
        "id": "AFEqqfoY7pwi",
        "outputId": "eec09e7b-1644-47cc-c509-0fe472290cf8"
      },
      "outputs": [
        {
          "name": "stdout",
          "output_type": "stream",
          "text": [
            "<class 'numpy.ndarray'>\n"
          ]
        }
      ],
      "source": [
        "from skimage.io import imread\n",
        "from skimage.io import imread_collection, concatenate_images\n",
        "\n",
        "#set file path for local training images\n",
        "training_images_path = './COM2028_2023/train'\n",
        "\n",
        "#imread_collection allows us to load folder of images into an array\n",
        "training_images_collection = imread_collection(training_images_path + '/*.jpg')\n",
        "training_images = np.concatenate([image[np.newaxis] for image in training_images_collection])\n",
        "print(type(training_images))\n",
        "\n"
      ]
    },
    {
      "cell_type": "markdown",
      "metadata": {
        "id": "kFZZ-exw7pwk"
      },
      "source": [
        "# Now we load in the ground truths (labels) (from local machine)\n"
      ]
    },
    {
      "cell_type": "code",
      "execution_count": 40,
      "metadata": {
        "id": "JJ2OUOC97pwk",
        "colab": {
          "base_uri": "https://localhost:8080/",
          "height": 235
        },
        "outputId": "850ce947-5fb2-4097-b78a-c470d00b0dcd"
      },
      "outputs": [
        {
          "output_type": "error",
          "ename": "FileNotFoundError",
          "evalue": "ignored",
          "traceback": [
            "\u001b[0;31m---------------------------------------------------------------------------\u001b[0m",
            "\u001b[0;31mFileNotFoundError\u001b[0m                         Traceback (most recent call last)",
            "\u001b[0;32m<ipython-input-40-5ebc3d5b7845>\u001b[0m in \u001b[0;36m<cell line: 15>\u001b[0;34m()\u001b[0m\n\u001b[1;32m     13\u001b[0m \u001b[0;34m\u001b[0m\u001b[0m\n\u001b[1;32m     14\u001b[0m \u001b[0;34m\u001b[0m\u001b[0m\n\u001b[0;32m---> 15\u001b[0;31m \u001b[0;32mwith\u001b[0m \u001b[0mopen\u001b[0m\u001b[0;34m(\u001b[0m\u001b[0mtrain_groundtruth_path\u001b[0m\u001b[0;34m,\u001b[0m \u001b[0;34m'r'\u001b[0m\u001b[0;34m)\u001b[0m \u001b[0;32mas\u001b[0m \u001b[0mfile\u001b[0m\u001b[0;34m:\u001b[0m\u001b[0;34m\u001b[0m\u001b[0;34m\u001b[0m\u001b[0m\n\u001b[0m\u001b[1;32m     16\u001b[0m         \u001b[0;32mfor\u001b[0m \u001b[0mline\u001b[0m \u001b[0;32min\u001b[0m \u001b[0mfile\u001b[0m\u001b[0;34m:\u001b[0m\u001b[0;34m\u001b[0m\u001b[0;34m\u001b[0m\u001b[0m\n\u001b[1;32m     17\u001b[0m                 \u001b[0mtruth\u001b[0m\u001b[0;34m,\u001b[0m \u001b[0mimage_path\u001b[0m \u001b[0;34m=\u001b[0m \u001b[0mlinereader\u001b[0m\u001b[0;34m(\u001b[0m\u001b[0mline\u001b[0m\u001b[0;34m)\u001b[0m\u001b[0;34m\u001b[0m\u001b[0;34m\u001b[0m\u001b[0m\n",
            "\u001b[0;31mFileNotFoundError\u001b[0m: [Errno 2] No such file or directory: './COM2028_2023/train.txt'"
          ]
        }
      ],
      "source": [
        "train_groundtruth_path = './COM2028_2023/train.txt'\n",
        "training_image_path_list = []\n",
        "\n",
        "#since we are loading in text (strings) we can use pythons regular file reading functionallity\n",
        "ground_truths = np.array([])\n",
        "\n",
        "def linereader(line):\n",
        "\tvalues = line.split(' ') #each line contains path, value seperated by a space\n",
        "\timage_path = values[0]  #path is 1st value [0]\n",
        "\ttruth = values[1]  #truth is 2nd value [1]\n",
        "\ttruth= truth.strip('\\n') #our value has a '\\n' appended to it for file formatting, we remove this\n",
        "\treturn truth, image_path\n",
        "\n",
        "\n",
        "with open(train_groundtruth_path, 'r') as file:\n",
        "\tfor line in file:\n",
        "\t\ttruth, image_path = linereader(line)\n",
        "\t\tground_truths = np.append(ground_truths, int(truth)) #we add the value to ground_truths array\n",
        "\t\ttraining_image_path_list.append(image_path)\n",
        "\n",
        "\tfile.close()\n"
      ]
    },
    {
      "cell_type": "markdown",
      "metadata": {
        "id": "9uqPWVZ87pwl"
      },
      "source": [
        "# ONLY RUN CELL BELOW IF USING COLAB \n",
        "# THIS CELL HANDLES LOADING OF TRAINING DATA AND ITS ASSOCIATED LABELS\n"
      ]
    },
    {
      "cell_type": "code",
      "execution_count": 2,
      "metadata": {
        "colab": {
          "base_uri": "https://localhost:8080/"
        },
        "id": "MXm9iFO37pwl",
        "outputId": "ecc11794-7e7c-4c23-e79c-645a5528fe08"
      },
      "outputs": [
        {
          "output_type": "stream",
          "name": "stdout",
          "text": [
            "Mounted at /content/drive\n"
          ]
        }
      ],
      "source": [
        "#ONLY USE IF USING COLAB\n",
        "from google.colab import drive\n",
        "drive.mount('/content/drive')\n",
        "#!unzip \"drive/MyDrive/COM2028_2023.zip\" -d \"drive/MyDrive\"\n",
        "#DONE\n"
      ]
    },
    {
      "cell_type": "code",
      "execution_count": 3,
      "metadata": {
        "colab": {
          "base_uri": "https://localhost:8080/"
        },
        "id": "uaIiKvw4C0g9",
        "outputId": "b5c1b865-d2e3-4923-9437-6b7eee32a5a3"
      },
      "outputs": [
        {
          "output_type": "stream",
          "name": "stdout",
          "text": [
            "List of physical GPUs: [PhysicalDevice(name='/physical_device:GPU:0', device_type='GPU')]\n",
            "Num GPUs Available:  1\n"
          ]
        }
      ],
      "source": [
        "#check how many GPUs you have on the device\n",
        "gpus = tf.config.list_physical_devices('GPU')\n",
        "print(\"List of physical GPUs:\", gpus)\n",
        "print(\"Num GPUs Available: \", len(gpus))\n",
        "if gpus:\n",
        "# Use the first GPU\n",
        "  try:\n",
        "    tf.config.set_visible_devices(gpus[0], 'GPU')\n",
        "  except:\n",
        "    print('no gpu')\n",
        "    pass\n"
      ]
    },
    {
      "cell_type": "code",
      "execution_count": 4,
      "metadata": {
        "colab": {
          "base_uri": "https://localhost:8080/"
        },
        "id": "5TIdXfBN7pwl",
        "outputId": "3f788c7f-2d0a-43c2-c484-f2055282f490"
      },
      "outputs": [
        {
          "output_type": "stream",
          "name": "stdout",
          "text": [
            "<class 'numpy.ndarray'>\n"
          ]
        }
      ],
      "source": [
        "from skimage.io import imread\n",
        "from skimage.io import imread_collection, concatenate_images\n",
        "\n",
        "#set file path for local training images\n",
        "training_images_path = 'drive/MyDrive/COM2028_2023/train'\n",
        "\n",
        "#imread_collection allows us to load folder of images into an array\n",
        "training_images_collection = imread_collection(training_images_path + '/*.jpg')\n",
        "training_images = np.concatenate([image[np.newaxis] for image in training_images_collection])\n",
        "print(type(training_images))\n",
        "\n"
      ]
    },
    {
      "cell_type": "code",
      "execution_count": 41,
      "metadata": {
        "id": "XPyNBqZ_-6o1"
      },
      "outputs": [],
      "source": [
        "#CELL FOR LOADING TARGET VALUES WITH COLAB\n",
        "train_groundtruth_path = 'drive/MyDrive/COM2028_2023/train.txt'\n",
        "training_image_path_list = []\n",
        "\n",
        "#since we are loading in text (strings) we can use pythons regular file reading functionallity\n",
        "ground_truths = np.array([])\n",
        "\n",
        "def linereader(line):\n",
        "\tvalues = line.split(' ') #each line contains path, value seperated by a space\n",
        "\timage_path = values[0]  #path is 1st value [0]\n",
        "\ttruth = values[1]  #truth is 2nd value [1]\n",
        "\ttruth= truth.strip('\\n') #our value has a '\\n' appended to it for file formatting, we remove this\n",
        "\treturn truth, image_path\n",
        "\n",
        "\n",
        "with open(train_groundtruth_path, 'r') as file:\n",
        "\tfor line in file:\n",
        "\t\ttruth, image_path = linereader(line)\n",
        "\t\tground_truths = np.append(ground_truths, int(truth)) #we add the value to ground_truths array\n",
        "\t\ttraining_image_path_list.append(image_path)\n",
        "\n",
        "\tfile.close()\n",
        "\n"
      ]
    },
    {
      "cell_type": "markdown",
      "metadata": {
        "id": "hxXuByg37pwm"
      },
      "source": [
        "# Print out some example images from training set"
      ]
    },
    {
      "cell_type": "code",
      "execution_count": null,
      "metadata": {
        "id": "fqW8oVUB7pwm"
      },
      "outputs": [],
      "source": [
        "#print out some example training images\n",
        "#print out 16 example training images using subplots(4,4), giving us 4 rows of 4 columns\n",
        "\n",
        "for i in range(0,16):\n",
        "    plt.subplot(4,4, i+1)\n",
        "    plt.imshow(training_images[i])\n",
        "    \n",
        "\n"
      ]
    },
    {
      "cell_type": "markdown",
      "metadata": {
        "id": "Uy07y-AA7pwm"
      },
      "source": [
        "# Relevance of colors <br />\n",
        "The above images show three of the blood sample images. <br />\n",
        "Given that the colors of the samples in all images are the same, we can reason that color is potentially meaningless in the process of classifying the images. <br />\n",
        "We should instead focus on the 'shape' of the image, rather than the color. <br />\n",
        "Because of this, we can convert our images to grayscale format. We do this by calculating a weighted sum of the R,G,B values of the images for each image. <br />\n",
        "This is done below"
      ]
    },
    {
      "cell_type": "code",
      "execution_count": 115,
      "metadata": {
        "colab": {
          "base_uri": "https://localhost:8080/",
          "height": 432
        },
        "id": "q2Q03J417pwm",
        "outputId": "eb127dc0-1a9a-4e7a-90d5-f73d13c5c0ef"
      },
      "outputs": [
        {
          "output_type": "display_data",
          "data": {
            "text/plain": [
              "<Figure size 640x480 with 4 Axes>"
            ],
            "image/png": "[encoded data removed]"
          },
          "metadata": {}
        }
      ],
      "source": [
        "#formula for converting images from RGB to grayscale\n",
        "#0.299 R + 0.587 G + 0.114 B\n",
        "\n",
        "def RGBtoGrayscale(image_list):\n",
        "    #declare an empty numpy array of dimension (1000,28,28) - to store\n",
        "  grayscale_training = np.empty((len(image_list),28,28), int)\n",
        "\n",
        "\n",
        "  for i in range(0,len(image_list)):\n",
        "\n",
        "      image = image_list[i] \n",
        "      R = image[:,:,0] # [:] means all the points in that direction, in this case zero gets the 1st value (0) in\n",
        "                      #the 3rd dimension, the 2 colons does this for all 256x256 pixels in the image\n",
        "      G = image[:,:,1] #select green colors\n",
        "\n",
        "      B = image[:, :, 2]\n",
        "      gray = 0.299 * R +  0.587*G + 0.114*B\n",
        "\n",
        "      grayscale_training[i] = gray\n",
        "\n",
        "  return grayscale_training\n",
        "\n",
        "grayscale_training = RGBtoGrayscale(training_images)\n",
        "grayscale_training = np.expand_dims(grayscale_training, axis=-1)\n",
        "\n",
        "\n",
        "for i in range(0,4):\n",
        "    if i<2:\n",
        "        plt.subplot(2, 2,i+1)\n",
        "        plt.imshow(grayscale_training[i], cmap = 'gray')\n",
        "    else:\n",
        "        plt.subplot(2,2, i+1)\n",
        "        plt.imshow(training_images[i-2], cmap = 'gray')\n",
        "\n",
        "\n"
      ]
    },
    {
      "cell_type": "code",
      "execution_count": 116,
      "metadata": {
        "colab": {
          "base_uri": "https://localhost:8080/"
        },
        "id": "Vlt5FJ_07pwn",
        "outputId": "a93d721a-330f-4f21-fb60-724407024bd5"
      },
      "outputs": [
        {
          "output_type": "stream",
          "name": "stdout",
          "text": [
            "(10000, 28, 28, 1)\n"
          ]
        }
      ],
      "source": [
        "print(grayscale_training.shape)"
      ]
    },
    {
      "cell_type": "markdown",
      "metadata": {
        "id": "pBXfaME77pwn"
      },
      "source": [
        "# Ground truth label values range from 0-7\n",
        "\n"
      ]
    },
    {
      "cell_type": "markdown",
      "metadata": {
        "id": "j93J2OP57pwo"
      },
      "source": [
        "# Type of classifier to use <br />\n",
        "Since each target can belong to one of 8 classes, we know we need to use a multiclass classifier for our model. <br /> Binary classifier is not suitable here since that only works for samples that can belong to one of two classes. <br />\n"
      ]
    },
    {
      "cell_type": "code",
      "execution_count": null,
      "metadata": {
        "id": "RN8vhxID7pwo"
      },
      "outputs": [],
      "source": [
        "sample1 = training_images[0] #grabs the first training sample\n",
        "print(sample1.shape)\n",
        "\n",
        "plt.imshow(sample1)\n",
        "plt.show()\n",
        "#get top left pixel values\n",
        "topleft_pixels = sample1[0][0]\n",
        "print(topleft_pixels)\n",
        "#then get ~middle pixe values\n",
        "middle_pixels = sample1[14][14]\n",
        "print(middle_pixels)"
      ]
    },
    {
      "cell_type": "markdown",
      "metadata": {
        "id": "CD0VaW6f7pwo"
      },
      "source": [
        "# First model - Multiclass KNN Classifier\n",
        "For the first attempt I am going to use a KNN with the scikit-learn module <br />\n",
        "KNN's are useful for multiclass classification as they allow us to classify images based on similarity to other ones. <br />\n",
        " Despite this, there are a few potential problems with using KNN for this problem\n",
        "1. We have only used KNN with MNIST so far, the dataset for this problem is much larger and the KNN will therefore be more computationally expensive <br />\n",
        "2. KNN can struggle with more complex images, blood sample images are arguably more complex than drawings of images (images for this are 28x28 whereas MNIST has images of size 8x8)\n",
        "\n",
        "For the sake of analysis and testing, I am going to attempt to use a KNN for this classification task."
      ]
    },
    {
      "cell_type": "markdown",
      "metadata": {
        "id": "8EAEvW5p7pwp"
      },
      "source": [
        "# Defining the KNN Classifier\n",
        "### Before we define the KNN, we need to reshape some of our data\n",
        "- For the input (training data), KNNs can only handle a 2d input (n_samples, sample)\n",
        "- Because of this we need to reformat our input from (8000,28,28) to (8000, 28*28)\n"
      ]
    },
    {
      "cell_type": "markdown",
      "metadata": {
        "id": "VJ8avfa97pwp"
      },
      "source": [
        "# Splitting our training data into training and validation sets <br />\n",
        "Since our test set is seperate from our training set, we only have to split the data into training/validation split <br />\n",
        "We will now split the grayscale images into training and validation splits of size 80:20"
      ]
    },
    {
      "cell_type": "code",
      "execution_count": 11,
      "metadata": {
        "colab": {
          "base_uri": "https://localhost:8080/"
        },
        "id": "8I5WEdv67pwp",
        "outputId": "302b5de6-9296-4bd5-ddb0-779c0e906440"
      },
      "outputs": [
        {
          "output_type": "stream",
          "name": "stdout",
          "text": [
            "(8000, 784)\n",
            "(2000, 784)\n",
            "(8000, 784)\n",
            "(2000, 784)\n",
            "(10000, 784)\n",
            "<class 'numpy.float64'>\n"
          ]
        }
      ],
      "source": [
        "grayscale_training = grayscale_training.reshape(-1, 28*28)\n",
        "sample_size = len(grayscale_training)\n",
        "x_train = grayscale_training[:round(.8*sample_size)]\n",
        "y_train = ground_truths[:round(.8*sample_size)]\n",
        "x_valid = grayscale_training[round(.8*sample_size):]\n",
        "y_valid = ground_truths[round(.8*sample_size):]\n",
        "print(x_train.shape)\n",
        "print(x_valid.shape)\n",
        "\n",
        "\n",
        "print(x_train.shape)\n",
        "print(x_valid.shape)\n",
        "print(grayscale_training.shape)\n",
        "\n",
        "print(type(ground_truths[0]))"
      ]
    },
    {
      "cell_type": "code",
      "execution_count": null,
      "metadata": {
        "id": "9hBHyVej7pwq"
      },
      "outputs": [],
      "source": [
        "\n",
        "total = 0 \n",
        "for i in range(0,8):\n",
        "    array=[]\n",
        "    for x in ground_truths: \n",
        "        if x == i :\n",
        "            array.append(x)\n",
        "            total += 1 \n",
        "    print(len(array))\n",
        "    print(total)\n",
        "    \n",
        "    "
      ]
    },
    {
      "cell_type": "code",
      "execution_count": null,
      "metadata": {
        "colab": {
          "base_uri": "https://localhost:8080/",
          "height": 74
        },
        "id": "E_yKlGp17pwq",
        "outputId": "82fb94a7-b133-457a-f5d0-3a856509ef47"
      },
      "outputs": [
        {
          "data": {
            "text/html": [
              "<style>#sk-container-id-1 {color: black;background-color: white;}#sk-container-id-1 pre{padding: 0;}#sk-container-id-1 div.sk-toggleable {background-color: white;}#sk-container-id-1 label.sk-toggleable__label {cursor: pointer;display: block;width: 100%;margin-bottom: 0;padding: 0.3em;box-sizing: border-box;text-align: center;}#sk-container-id-1 label.sk-toggleable__label-arrow:before {content: \"▸\";float: left;margin-right: 0.25em;color: #696969;}#sk-container-id-1 label.sk-toggleable__label-arrow:hover:before {color: black;}#sk-container-id-1 div.sk-estimator:hover label.sk-toggleable__label-arrow:before {color: black;}#sk-container-id-1 div.sk-toggleable__content {max-height: 0;max-width: 0;overflow: hidden;text-align: left;background-color: #f0f8ff;}#sk-container-id-1 div.sk-toggleable__content pre {margin: 0.2em;color: black;border-radius: 0.25em;background-color: #f0f8ff;}#sk-container-id-1 input.sk-toggleable__control:checked~div.sk-toggleable__content {max-height: 200px;max-width: 100%;overflow: auto;}#sk-container-id-1 input.sk-toggleable__control:checked~label.sk-toggleable__label-arrow:before {content: \"▾\";}#sk-container-id-1 div.sk-estimator input.sk-toggleable__control:checked~label.sk-toggleable__label {background-color: #d4ebff;}#sk-container-id-1 div.sk-label input.sk-toggleable__control:checked~label.sk-toggleable__label {background-color: #d4ebff;}#sk-container-id-1 input.sk-hidden--visually {border: 0;clip: rect(1px 1px 1px 1px);clip: rect(1px, 1px, 1px, 1px);height: 1px;margin: -1px;overflow: hidden;padding: 0;position: absolute;width: 1px;}#sk-container-id-1 div.sk-estimator {font-family: monospace;background-color: #f0f8ff;border: 1px dotted black;border-radius: 0.25em;box-sizing: border-box;margin-bottom: 0.5em;}#sk-container-id-1 div.sk-estimator:hover {background-color: #d4ebff;}#sk-container-id-1 div.sk-parallel-item::after {content: \"\";width: 100%;border-bottom: 1px solid gray;flex-grow: 1;}#sk-container-id-1 div.sk-label:hover label.sk-toggleable__label {background-color: #d4ebff;}#sk-container-id-1 div.sk-serial::before {content: \"\";position: absolute;border-left: 1px solid gray;box-sizing: border-box;top: 0;bottom: 0;left: 50%;z-index: 0;}#sk-container-id-1 div.sk-serial {display: flex;flex-direction: column;align-items: center;background-color: white;padding-right: 0.2em;padding-left: 0.2em;position: relative;}#sk-container-id-1 div.sk-item {position: relative;z-index: 1;}#sk-container-id-1 div.sk-parallel {display: flex;align-items: stretch;justify-content: center;background-color: white;position: relative;}#sk-container-id-1 div.sk-item::before, #sk-container-id-1 div.sk-parallel-item::before {content: \"\";position: absolute;border-left: 1px solid gray;box-sizing: border-box;top: 0;bottom: 0;left: 50%;z-index: -1;}#sk-container-id-1 div.sk-parallel-item {display: flex;flex-direction: column;z-index: 1;position: relative;background-color: white;}#sk-container-id-1 div.sk-parallel-item:first-child::after {align-self: flex-end;width: 50%;}#sk-container-id-1 div.sk-parallel-item:last-child::after {align-self: flex-start;width: 50%;}#sk-container-id-1 div.sk-parallel-item:only-child::after {width: 0;}#sk-container-id-1 div.sk-dashed-wrapped {border: 1px dashed gray;margin: 0 0.4em 0.5em 0.4em;box-sizing: border-box;padding-bottom: 0.4em;background-color: white;}#sk-container-id-1 div.sk-label label {font-family: monospace;font-weight: bold;display: inline-block;line-height: 1.2em;}#sk-container-id-1 div.sk-label-container {text-align: center;}#sk-container-id-1 div.sk-container {/* jupyter's `normalize.less` sets `[hidden] { display: none; }` but bootstrap.min.css set `[hidden] { display: none !important; }` so we also need the `!important` here to be able to override the default hidden behavior on the sphinx rendered scikit-learn.org. See: https://github.com/scikit-learn/scikit-learn/issues/21755 */display: inline-block !important;position: relative;}#sk-container-id-1 div.sk-text-repr-fallback {display: none;}</style><div id=\"sk-container-id-1\" class=\"sk-top-container\"><div class=\"sk-text-repr-fallback\"><pre>KNeighborsClassifier(metric=&#x27;euclidean&#x27;, n_jobs=-1, weights=&#x27;distance&#x27;)</pre><b>In a Jupyter environment, please rerun this cell to show the HTML representation or trust the notebook. <br />On GitHub, the HTML representation is unable to render, please try loading this page with nbviewer.org.</b></div><div class=\"sk-container\" hidden><div class=\"sk-item\"><div class=\"sk-estimator sk-toggleable\"><input class=\"sk-toggleable__control sk-hidden--visually\" id=\"sk-estimator-id-1\" type=\"checkbox\" checked><label for=\"sk-estimator-id-1\" class=\"sk-toggleable__label sk-toggleable__label-arrow\">KNeighborsClassifier</label><div class=\"sk-toggleable__content\"><pre>KNeighborsClassifier(metric=&#x27;euclidean&#x27;, n_jobs=-1, weights=&#x27;distance&#x27;)</pre></div></div></div></div></div>"
            ],
            "text/plain": [
              "KNeighborsClassifier(metric='euclidean', n_jobs=-1, weights='distance')"
            ]
          },
          "execution_count": 9,
          "metadata": {},
          "output_type": "execute_result"
        }
      ],
      "source": [
        "from sklearn.neighbors import KNeighborsClassifier\n",
        "from sklearn.metrics import accuracy_score\n",
        "# to make this notebook's output stable across runs\n",
        "np.random.seed(42)\n",
        "\n",
        "\n",
        "#we first define the KNN classifier - we start off with N = 4 for nearest neighbours\n",
        "knn_clf = KNeighborsClassifier(n_jobs = -1, weights = 'distance', n_neighbors = 5, metric = 'euclidean')\n",
        "\n",
        "#We then fit out trainig data to the KNN\n",
        "knn_clf.fit(x_train, y_train)"
      ]
    },
    {
      "cell_type": "code",
      "execution_count": null,
      "metadata": {
        "id": "aB_6xXkQ7pwq",
        "outputId": "545dd4f7-1480-4709-cfed-fb4d193d514b"
      },
      "outputs": [
        {
          "name": "stdout",
          "output_type": "stream",
          "text": [
            "0.69\n"
          ]
        }
      ],
      "source": [
        "#Now that we've fit our data to the model \n",
        "#We now need to run predictions with our validation data\n",
        "\n",
        "\n",
        "y_knn_pred_valid = knn_clf.predict(x_valid)\n",
        "print(accuracy_score(y_knn_pred_valid, y_valid))"
      ]
    },
    {
      "cell_type": "markdown",
      "metadata": {
        "id": "gRYuq38P7pwq"
      },
      "source": [
        "# The initial accuracy score (68.5%) with our validation is not ideal\n",
        "68.5% accuracy against the validation set is not high enough to make the model usable, there are various ways that we can go about addressing this issue.\n",
        "One common way is to tune the hyperparameters of the model - this includes:\n",
        "1. number of n_neighbours - this is the number of neighbours considered when making a prediction\n",
        "2. algorithm - algorithm used when computing the nearest neighbours of a sample\n",
        "3. metric - the distance metric that we use to compute distance between points, this includes Euclidian (straight line), Manhttan (absolute distance) and others\n",
        "\n",
        "## Another thing that we can try is using Cross Validation on our model. \n",
        "Cross validation splits our data into N folds, each time one fold is used for validation and the others are used for training. KNN is prone to overfitting on training data, meaning it performs on unseen (testing) data. Using N fold Cross validation can help to mitigate this issue\n"
      ]
    },
    {
      "cell_type": "markdown",
      "metadata": {
        "id": "yFfU_5ts7pwr"
      },
      "source": [
        "# IMPORTANT THING TO REMEMBER WITH CROSS VALIDATION\n",
        "WHEN USING SKLEARN CROSS VALIDATION - WE CAN PLUG IN ENTIRE TRAINING AND LABEL SET, SKLEARN AUTOMATICALLLY SPLITS IT INTO TRAINING AND VALIDATION SETS"
      ]
    },
    {
      "cell_type": "code",
      "execution_count": null,
      "metadata": {
        "colab": {
          "base_uri": "https://localhost:8080/"
        },
        "id": "radPXJ2s7pwr",
        "outputId": "17ab3308-050e-44b9-949f-4d39f4e12751"
      },
      "outputs": [
        {
          "ename": "KeyboardInterrupt",
          "evalue": "",
          "output_type": "error",
          "traceback": [
            "\u001b[1;31m---------------------------------------------------------------------------\u001b[0m",
            "\u001b[1;31mKeyboardInterrupt\u001b[0m                         Traceback (most recent call last)",
            "Cell \u001b[1;32mIn[10], line 11\u001b[0m\n\u001b[0;32m      9\u001b[0m scores \u001b[39m=\u001b[39m []\n\u001b[0;32m     10\u001b[0m \u001b[39mfor\u001b[39;00m i \u001b[39min\u001b[39;00m \u001b[39mrange\u001b[39m(\u001b[39m2\u001b[39m,\u001b[39m10\u001b[39m):\n\u001b[1;32m---> 11\u001b[0m     score \u001b[39m=\u001b[39m cross_val_score(knn_clf, grayscale_training, ground_truths, cv \u001b[39m=\u001b[39;49m i, n_jobs \u001b[39m=\u001b[39;49m \u001b[39m-\u001b[39;49m\u001b[39m1\u001b[39;49m)\n\u001b[0;32m     12\u001b[0m     score \u001b[39m=\u001b[39m score\u001b[39m.\u001b[39mmean() \u001b[39m# take the mean of the cross_val_scores to estimate average performance across the folds\u001b[39;00m\n\u001b[0;32m     13\u001b[0m     scores\u001b[39m.\u001b[39mappend(score)\n",
            "File \u001b[1;32mc:\\Users\\liam\\AppData\\Local\\Programs\\Python\\Python39\\lib\\site-packages\\sklearn\\model_selection\\_validation.py:515\u001b[0m, in \u001b[0;36mcross_val_score\u001b[1;34m(estimator, X, y, groups, scoring, cv, n_jobs, verbose, fit_params, pre_dispatch, error_score)\u001b[0m\n\u001b[0;32m    512\u001b[0m \u001b[39m# To ensure multimetric format is not supported\u001b[39;00m\n\u001b[0;32m    513\u001b[0m scorer \u001b[39m=\u001b[39m check_scoring(estimator, scoring\u001b[39m=\u001b[39mscoring)\n\u001b[1;32m--> 515\u001b[0m cv_results \u001b[39m=\u001b[39m cross_validate(\n\u001b[0;32m    516\u001b[0m     estimator\u001b[39m=\u001b[39;49mestimator,\n\u001b[0;32m    517\u001b[0m     X\u001b[39m=\u001b[39;49mX,\n\u001b[0;32m    518\u001b[0m     y\u001b[39m=\u001b[39;49my,\n\u001b[0;32m    519\u001b[0m     groups\u001b[39m=\u001b[39;49mgroups,\n\u001b[0;32m    520\u001b[0m     scoring\u001b[39m=\u001b[39;49m{\u001b[39m\"\u001b[39;49m\u001b[39mscore\u001b[39;49m\u001b[39m\"\u001b[39;49m: scorer},\n\u001b[0;32m    521\u001b[0m     cv\u001b[39m=\u001b[39;49mcv,\n\u001b[0;32m    522\u001b[0m     n_jobs\u001b[39m=\u001b[39;49mn_jobs,\n\u001b[0;32m    523\u001b[0m     verbose\u001b[39m=\u001b[39;49mverbose,\n\u001b[0;32m    524\u001b[0m     fit_params\u001b[39m=\u001b[39;49mfit_params,\n\u001b[0;32m    525\u001b[0m     pre_dispatch\u001b[39m=\u001b[39;49mpre_dispatch,\n\u001b[0;32m    526\u001b[0m     error_score\u001b[39m=\u001b[39;49merror_score,\n\u001b[0;32m    527\u001b[0m )\n\u001b[0;32m    528\u001b[0m \u001b[39mreturn\u001b[39;00m cv_results[\u001b[39m\"\u001b[39m\u001b[39mtest_score\u001b[39m\u001b[39m\"\u001b[39m]\n",
            "File \u001b[1;32mc:\\Users\\liam\\AppData\\Local\\Programs\\Python\\Python39\\lib\\site-packages\\sklearn\\model_selection\\_validation.py:266\u001b[0m, in \u001b[0;36mcross_validate\u001b[1;34m(estimator, X, y, groups, scoring, cv, n_jobs, verbose, fit_params, pre_dispatch, return_train_score, return_estimator, error_score)\u001b[0m\n\u001b[0;32m    263\u001b[0m \u001b[39m# We clone the estimator to make sure that all the folds are\u001b[39;00m\n\u001b[0;32m    264\u001b[0m \u001b[39m# independent, and that it is pickle-able.\u001b[39;00m\n\u001b[0;32m    265\u001b[0m parallel \u001b[39m=\u001b[39m Parallel(n_jobs\u001b[39m=\u001b[39mn_jobs, verbose\u001b[39m=\u001b[39mverbose, pre_dispatch\u001b[39m=\u001b[39mpre_dispatch)\n\u001b[1;32m--> 266\u001b[0m results \u001b[39m=\u001b[39m parallel(\n\u001b[0;32m    267\u001b[0m     delayed(_fit_and_score)(\n\u001b[0;32m    268\u001b[0m         clone(estimator),\n\u001b[0;32m    269\u001b[0m         X,\n\u001b[0;32m    270\u001b[0m         y,\n\u001b[0;32m    271\u001b[0m         scorers,\n\u001b[0;32m    272\u001b[0m         train,\n\u001b[0;32m    273\u001b[0m         test,\n\u001b[0;32m    274\u001b[0m         verbose,\n\u001b[0;32m    275\u001b[0m         \u001b[39mNone\u001b[39;49;00m,\n\u001b[0;32m    276\u001b[0m         fit_params,\n\u001b[0;32m    277\u001b[0m         return_train_score\u001b[39m=\u001b[39;49mreturn_train_score,\n\u001b[0;32m    278\u001b[0m         return_times\u001b[39m=\u001b[39;49m\u001b[39mTrue\u001b[39;49;00m,\n\u001b[0;32m    279\u001b[0m         return_estimator\u001b[39m=\u001b[39;49mreturn_estimator,\n\u001b[0;32m    280\u001b[0m         error_score\u001b[39m=\u001b[39;49merror_score,\n\u001b[0;32m    281\u001b[0m     )\n\u001b[0;32m    282\u001b[0m     \u001b[39mfor\u001b[39;49;00m train, test \u001b[39min\u001b[39;49;00m cv\u001b[39m.\u001b[39;49msplit(X, y, groups)\n\u001b[0;32m    283\u001b[0m )\n\u001b[0;32m    285\u001b[0m _warn_or_raise_about_fit_failures(results, error_score)\n\u001b[0;32m    287\u001b[0m \u001b[39m# For callabe scoring, the return type is only know after calling. If the\u001b[39;00m\n\u001b[0;32m    288\u001b[0m \u001b[39m# return type is a dictionary, the error scores can now be inserted with\u001b[39;00m\n\u001b[0;32m    289\u001b[0m \u001b[39m# the correct key.\u001b[39;00m\n",
            "File \u001b[1;32mc:\\Users\\liam\\AppData\\Local\\Programs\\Python\\Python39\\lib\\site-packages\\sklearn\\utils\\parallel.py:63\u001b[0m, in \u001b[0;36mParallel.__call__\u001b[1;34m(self, iterable)\u001b[0m\n\u001b[0;32m     58\u001b[0m config \u001b[39m=\u001b[39m get_config()\n\u001b[0;32m     59\u001b[0m iterable_with_config \u001b[39m=\u001b[39m (\n\u001b[0;32m     60\u001b[0m     (_with_config(delayed_func, config), args, kwargs)\n\u001b[0;32m     61\u001b[0m     \u001b[39mfor\u001b[39;00m delayed_func, args, kwargs \u001b[39min\u001b[39;00m iterable\n\u001b[0;32m     62\u001b[0m )\n\u001b[1;32m---> 63\u001b[0m \u001b[39mreturn\u001b[39;00m \u001b[39msuper\u001b[39;49m()\u001b[39m.\u001b[39;49m\u001b[39m__call__\u001b[39;49m(iterable_with_config)\n",
            "File \u001b[1;32mc:\\Users\\liam\\AppData\\Local\\Programs\\Python\\Python39\\lib\\site-packages\\joblib\\parallel.py:1098\u001b[0m, in \u001b[0;36mParallel.__call__\u001b[1;34m(self, iterable)\u001b[0m\n\u001b[0;32m   1095\u001b[0m     \u001b[39mself\u001b[39m\u001b[39m.\u001b[39m_iterating \u001b[39m=\u001b[39m \u001b[39mFalse\u001b[39;00m\n\u001b[0;32m   1097\u001b[0m \u001b[39mwith\u001b[39;00m \u001b[39mself\u001b[39m\u001b[39m.\u001b[39m_backend\u001b[39m.\u001b[39mretrieval_context():\n\u001b[1;32m-> 1098\u001b[0m     \u001b[39mself\u001b[39;49m\u001b[39m.\u001b[39;49mretrieve()\n\u001b[0;32m   1099\u001b[0m \u001b[39m# Make sure that we get a last message telling us we are done\u001b[39;00m\n\u001b[0;32m   1100\u001b[0m elapsed_time \u001b[39m=\u001b[39m time\u001b[39m.\u001b[39mtime() \u001b[39m-\u001b[39m \u001b[39mself\u001b[39m\u001b[39m.\u001b[39m_start_time\n",
            "File \u001b[1;32mc:\\Users\\liam\\AppData\\Local\\Programs\\Python\\Python39\\lib\\site-packages\\joblib\\parallel.py:975\u001b[0m, in \u001b[0;36mParallel.retrieve\u001b[1;34m(self)\u001b[0m\n\u001b[0;32m    973\u001b[0m \u001b[39mtry\u001b[39;00m:\n\u001b[0;32m    974\u001b[0m     \u001b[39mif\u001b[39;00m \u001b[39mgetattr\u001b[39m(\u001b[39mself\u001b[39m\u001b[39m.\u001b[39m_backend, \u001b[39m'\u001b[39m\u001b[39msupports_timeout\u001b[39m\u001b[39m'\u001b[39m, \u001b[39mFalse\u001b[39;00m):\n\u001b[1;32m--> 975\u001b[0m         \u001b[39mself\u001b[39m\u001b[39m.\u001b[39m_output\u001b[39m.\u001b[39mextend(job\u001b[39m.\u001b[39;49mget(timeout\u001b[39m=\u001b[39;49m\u001b[39mself\u001b[39;49m\u001b[39m.\u001b[39;49mtimeout))\n\u001b[0;32m    976\u001b[0m     \u001b[39melse\u001b[39;00m:\n\u001b[0;32m    977\u001b[0m         \u001b[39mself\u001b[39m\u001b[39m.\u001b[39m_output\u001b[39m.\u001b[39mextend(job\u001b[39m.\u001b[39mget())\n",
            "File \u001b[1;32mc:\\Users\\liam\\AppData\\Local\\Programs\\Python\\Python39\\lib\\site-packages\\joblib\\_parallel_backends.py:567\u001b[0m, in \u001b[0;36mLokyBackend.wrap_future_result\u001b[1;34m(future, timeout)\u001b[0m\n\u001b[0;32m    564\u001b[0m \u001b[39m\u001b[39m\u001b[39m\"\"\"Wrapper for Future.result to implement the same behaviour as\u001b[39;00m\n\u001b[0;32m    565\u001b[0m \u001b[39mAsyncResults.get from multiprocessing.\"\"\"\u001b[39;00m\n\u001b[0;32m    566\u001b[0m \u001b[39mtry\u001b[39;00m:\n\u001b[1;32m--> 567\u001b[0m     \u001b[39mreturn\u001b[39;00m future\u001b[39m.\u001b[39;49mresult(timeout\u001b[39m=\u001b[39;49mtimeout)\n\u001b[0;32m    568\u001b[0m \u001b[39mexcept\u001b[39;00m CfTimeoutError \u001b[39mas\u001b[39;00m e:\n\u001b[0;32m    569\u001b[0m     \u001b[39mraise\u001b[39;00m \u001b[39mTimeoutError\u001b[39;00m \u001b[39mfrom\u001b[39;00m \u001b[39me\u001b[39;00m\n",
            "File \u001b[1;32mc:\\Users\\liam\\AppData\\Local\\Programs\\Python\\Python39\\lib\\concurrent\\futures\\_base.py:441\u001b[0m, in \u001b[0;36mFuture.result\u001b[1;34m(self, timeout)\u001b[0m\n\u001b[0;32m    438\u001b[0m \u001b[39melif\u001b[39;00m \u001b[39mself\u001b[39m\u001b[39m.\u001b[39m_state \u001b[39m==\u001b[39m FINISHED:\n\u001b[0;32m    439\u001b[0m     \u001b[39mreturn\u001b[39;00m \u001b[39mself\u001b[39m\u001b[39m.\u001b[39m__get_result()\n\u001b[1;32m--> 441\u001b[0m \u001b[39mself\u001b[39;49m\u001b[39m.\u001b[39;49m_condition\u001b[39m.\u001b[39;49mwait(timeout)\n\u001b[0;32m    443\u001b[0m \u001b[39mif\u001b[39;00m \u001b[39mself\u001b[39m\u001b[39m.\u001b[39m_state \u001b[39min\u001b[39;00m [CANCELLED, CANCELLED_AND_NOTIFIED]:\n\u001b[0;32m    444\u001b[0m     \u001b[39mraise\u001b[39;00m CancelledError()\n",
            "File \u001b[1;32mc:\\Users\\liam\\AppData\\Local\\Programs\\Python\\Python39\\lib\\threading.py:312\u001b[0m, in \u001b[0;36mCondition.wait\u001b[1;34m(self, timeout)\u001b[0m\n\u001b[0;32m    310\u001b[0m \u001b[39mtry\u001b[39;00m:    \u001b[39m# restore state no matter what (e.g., KeyboardInterrupt)\u001b[39;00m\n\u001b[0;32m    311\u001b[0m     \u001b[39mif\u001b[39;00m timeout \u001b[39mis\u001b[39;00m \u001b[39mNone\u001b[39;00m:\n\u001b[1;32m--> 312\u001b[0m         waiter\u001b[39m.\u001b[39;49macquire()\n\u001b[0;32m    313\u001b[0m         gotit \u001b[39m=\u001b[39m \u001b[39mTrue\u001b[39;00m\n\u001b[0;32m    314\u001b[0m     \u001b[39melse\u001b[39;00m:\n",
            "\u001b[1;31mKeyboardInterrupt\u001b[0m: "
          ]
        }
      ],
      "source": [
        "from sklearn.model_selection import cross_val_predict\n",
        "from sklearn.model_selection import cross_val_score\n",
        "from sklearn.metrics import confusion_matrix\n",
        "\n",
        "#Do cross validation with different number of folds\n",
        "#we will try to find the optimal number of folds for cross validation\n",
        "#we will try it with between 2-10 folds\n",
        "\n",
        "scores = []\n",
        "for i in range(2,10):\n",
        "    score = cross_val_score(knn_clf, grayscale_training, ground_truths, cv = i, n_jobs = -1)\n",
        "    score = score.mean() # take the mean of the cross_val_scores to estimate average performance across the folds\n",
        "    scores.append(score)\n",
        "\n",
        "max_val = max(scores)\n",
        "print(max_val)\n",
        "index_val = scores.index(max_val) + 2\n",
        "\n",
        "print(\"Best value for folds: \", index_val)\n",
        "\n",
        "\n"
      ]
    },
    {
      "cell_type": "markdown",
      "metadata": {
        "id": "Utk6tP7x7pwr"
      },
      "source": [
        "## Plot number of folds against cross_val_score"
      ]
    },
    {
      "cell_type": "code",
      "execution_count": null,
      "metadata": {
        "colab": {
          "base_uri": "https://localhost:8080/",
          "height": 453
        },
        "id": "UVsC0b7h7pwr",
        "outputId": "ddca8e33-cffe-4279-f7fe-10a2546a9696"
      },
      "outputs": [
        {
          "data": {
            "image/png": "[encoded data removed]",
            "text/plain": [
              "<Figure size 640x480 with 1 Axes>"
            ]
          },
          "metadata": {},
          "output_type": "display_data"
        }
      ],
      "source": [
        "xplt_values = [i for i in range(2, 10)]\n",
        "y_values = scores\n",
        "\n",
        "plt.plot(xplt_values, y_values, 'r-')\n",
        "plt.xlabel(\"Number of folds in CV\")\n",
        "plt.ylabel(\"Cross validation average score\")\n",
        "plt.show()"
      ]
    },
    {
      "cell_type": "markdown",
      "metadata": {
        "id": "dcJs_Z8q7pws"
      },
      "source": [
        "# From the above graph\n",
        "We can see that there is minimal change in the cross_val_score when using folds between 5 and 9 , with the score peaking with 7 folds <br />\n",
        "For this reason we will choose 7 as a good number of folds to use and then go with this to tune the other hyperparameters"
      ]
    },
    {
      "cell_type": "code",
      "execution_count": null,
      "metadata": {
        "colab": {
          "base_uri": "https://localhost:8080/"
        },
        "id": "UoFivuAb7pws",
        "outputId": "cbee1bfa-39ef-45b3-acd2-3189150f5fa6"
      },
      "outputs": [
        {
          "name": "stdout",
          "output_type": "stream",
          "text": [
            "0.6954004134893986\n"
          ]
        }
      ],
      "source": [
        "from sklearn.model_selection import cross_val_score\n",
        "knn_clf = KNeighborsClassifier()\n",
        "score = cross_val_score(knn_clf, grayscale_training, ground_truths, n_jobs = -1, cv=7 ).mean()\n",
        "print(score)"
      ]
    },
    {
      "cell_type": "markdown",
      "metadata": {
        "id": "c4bjJRlw7pws"
      },
      "source": [
        "## Now we want to find optimal number of n_neighbours\n",
        "This is the number of neighbours each sample considers when being classified as a given target <br />\n",
        "We can do this using GridSearch\n"
      ]
    },
    {
      "cell_type": "code",
      "execution_count": null,
      "metadata": {
        "id": "p_u2qRYA7pws"
      },
      "outputs": [],
      "source": [
        "from sklearn.neighbors import KNeighborsClassifier\n",
        "from sklearn.model_selection import GridSearchCV\n",
        "\n",
        "hyperparameters = {'n_neighbors': [3,5,7,9,11,13,15]}"
      ]
    },
    {
      "cell_type": "code",
      "execution_count": null,
      "metadata": {
        "id": "uzn3vnbm-B8E",
        "outputId": "4cb6ebdd-eb64-4c5e-94c3-e7b3637a85f0"
      },
      "outputs": [
        {
          "ename": "ModuleNotFoundError",
          "evalue": "No module named 'pyspark'",
          "output_type": "error",
          "traceback": [
            "\u001b[1;31m---------------------------------------------------------------------------\u001b[0m",
            "\u001b[1;31mModuleNotFoundError\u001b[0m                       Traceback (most recent call last)",
            "Cell \u001b[1;32mIn[17], line 8\u001b[0m\n\u001b[0;32m      6\u001b[0m \u001b[39mfrom\u001b[39;00m \u001b[39msklearn\u001b[39;00m\u001b[39m.\u001b[39;00m\u001b[39mmodel_selection\u001b[39;00m \u001b[39mimport\u001b[39;00m cross_val_score\n\u001b[0;32m      7\u001b[0m \u001b[39mfrom\u001b[39;00m \u001b[39msklearn\u001b[39;00m\u001b[39m.\u001b[39;00m\u001b[39mneighbors\u001b[39;00m \u001b[39mimport\u001b[39;00m KNeighborsClassifier\n\u001b[1;32m----> 8\u001b[0m \u001b[39mfrom\u001b[39;00m \u001b[39mpyspark\u001b[39;00m\u001b[39m.\u001b[39;00m\u001b[39msql\u001b[39;00m \u001b[39mimport\u001b[39;00m SparkSession\n\u001b[0;32m      9\u001b[0m \u001b[39mfrom\u001b[39;00m \u001b[39mskopt\u001b[39;00m\u001b[39m.\u001b[39;00m\u001b[39mspark\u001b[39;00m \u001b[39mimport\u001b[39;00m SparkTrials\n\u001b[0;32m     10\u001b[0m \u001b[39mimport\u001b[39;00m \u001b[39mnumpy\u001b[39;00m \u001b[39mas\u001b[39;00m \u001b[39mnp\u001b[39;00m\n",
            "\u001b[1;31mModuleNotFoundError\u001b[0m: No module named 'pyspark'"
          ]
        }
      ],
      "source": [
        "#TESTING SHIT\n",
        "from skopt import gp_minimize\n",
        "from skopt.space import Real, Integer\n",
        "from skopt.utils import use_named_args\n",
        "from sklearn.datasets import make_classification\n",
        "from sklearn.model_selection import cross_val_score\n",
        "from sklearn.neighbors import KNeighborsClassifier\n",
        "from pyspark.sql import SparkSession\n",
        "from skopt.spark import SparkTrials\n",
        "import numpy as np"
      ]
    },
    {
      "cell_type": "code",
      "execution_count": null,
      "metadata": {
        "colab": {
          "base_uri": "https://localhost:8080/",
          "height": 117
        },
        "id": "sr6hxvDn7pws",
        "outputId": "08422c49-2e57-4197-f3ee-588bfe9eb850"
      },
      "outputs": [
        {
          "data": {
            "text/html": [
              "<style>#sk-container-id-2 {color: black;background-color: white;}#sk-container-id-2 pre{padding: 0;}#sk-container-id-2 div.sk-toggleable {background-color: white;}#sk-container-id-2 label.sk-toggleable__label {cursor: pointer;display: block;width: 100%;margin-bottom: 0;padding: 0.3em;box-sizing: border-box;text-align: center;}#sk-container-id-2 label.sk-toggleable__label-arrow:before {content: \"▸\";float: left;margin-right: 0.25em;color: #696969;}#sk-container-id-2 label.sk-toggleable__label-arrow:hover:before {color: black;}#sk-container-id-2 div.sk-estimator:hover label.sk-toggleable__label-arrow:before {color: black;}#sk-container-id-2 div.sk-toggleable__content {max-height: 0;max-width: 0;overflow: hidden;text-align: left;background-color: #f0f8ff;}#sk-container-id-2 div.sk-toggleable__content pre {margin: 0.2em;color: black;border-radius: 0.25em;background-color: #f0f8ff;}#sk-container-id-2 input.sk-toggleable__control:checked~div.sk-toggleable__content {max-height: 200px;max-width: 100%;overflow: auto;}#sk-container-id-2 input.sk-toggleable__control:checked~label.sk-toggleable__label-arrow:before {content: \"▾\";}#sk-container-id-2 div.sk-estimator input.sk-toggleable__control:checked~label.sk-toggleable__label {background-color: #d4ebff;}#sk-container-id-2 div.sk-label input.sk-toggleable__control:checked~label.sk-toggleable__label {background-color: #d4ebff;}#sk-container-id-2 input.sk-hidden--visually {border: 0;clip: rect(1px 1px 1px 1px);clip: rect(1px, 1px, 1px, 1px);height: 1px;margin: -1px;overflow: hidden;padding: 0;position: absolute;width: 1px;}#sk-container-id-2 div.sk-estimator {font-family: monospace;background-color: #f0f8ff;border: 1px dotted black;border-radius: 0.25em;box-sizing: border-box;margin-bottom: 0.5em;}#sk-container-id-2 div.sk-estimator:hover {background-color: #d4ebff;}#sk-container-id-2 div.sk-parallel-item::after {content: \"\";width: 100%;border-bottom: 1px solid gray;flex-grow: 1;}#sk-container-id-2 div.sk-label:hover label.sk-toggleable__label {background-color: #d4ebff;}#sk-container-id-2 div.sk-serial::before {content: \"\";position: absolute;border-left: 1px solid gray;box-sizing: border-box;top: 0;bottom: 0;left: 50%;z-index: 0;}#sk-container-id-2 div.sk-serial {display: flex;flex-direction: column;align-items: center;background-color: white;padding-right: 0.2em;padding-left: 0.2em;position: relative;}#sk-container-id-2 div.sk-item {position: relative;z-index: 1;}#sk-container-id-2 div.sk-parallel {display: flex;align-items: stretch;justify-content: center;background-color: white;position: relative;}#sk-container-id-2 div.sk-item::before, #sk-container-id-2 div.sk-parallel-item::before {content: \"\";position: absolute;border-left: 1px solid gray;box-sizing: border-box;top: 0;bottom: 0;left: 50%;z-index: -1;}#sk-container-id-2 div.sk-parallel-item {display: flex;flex-direction: column;z-index: 1;position: relative;background-color: white;}#sk-container-id-2 div.sk-parallel-item:first-child::after {align-self: flex-end;width: 50%;}#sk-container-id-2 div.sk-parallel-item:last-child::after {align-self: flex-start;width: 50%;}#sk-container-id-2 div.sk-parallel-item:only-child::after {width: 0;}#sk-container-id-2 div.sk-dashed-wrapped {border: 1px dashed gray;margin: 0 0.4em 0.5em 0.4em;box-sizing: border-box;padding-bottom: 0.4em;background-color: white;}#sk-container-id-2 div.sk-label label {font-family: monospace;font-weight: bold;display: inline-block;line-height: 1.2em;}#sk-container-id-2 div.sk-label-container {text-align: center;}#sk-container-id-2 div.sk-container {/* jupyter's `normalize.less` sets `[hidden] { display: none; }` but bootstrap.min.css set `[hidden] { display: none !important; }` so we also need the `!important` here to be able to override the default hidden behavior on the sphinx rendered scikit-learn.org. See: https://github.com/scikit-learn/scikit-learn/issues/21755 */display: inline-block !important;position: relative;}#sk-container-id-2 div.sk-text-repr-fallback {display: none;}</style><div id=\"sk-container-id-2\" class=\"sk-top-container\"><div class=\"sk-text-repr-fallback\"><pre>GridSearchCV(cv=7, estimator=KNeighborsClassifier(),\n",
              "             param_grid={&#x27;n_neighbors&#x27;: [3, 5, 7, 9, 11, 13, 15]})</pre><b>In a Jupyter environment, please rerun this cell to show the HTML representation or trust the notebook. <br />On GitHub, the HTML representation is unable to render, please try loading this page with nbviewer.org.</b></div><div class=\"sk-container\" hidden><div class=\"sk-item sk-dashed-wrapped\"><div class=\"sk-label-container\"><div class=\"sk-label sk-toggleable\"><input class=\"sk-toggleable__control sk-hidden--visually\" id=\"sk-estimator-id-2\" type=\"checkbox\" ><label for=\"sk-estimator-id-2\" class=\"sk-toggleable__label sk-toggleable__label-arrow\">GridSearchCV</label><div class=\"sk-toggleable__content\"><pre>GridSearchCV(cv=7, estimator=KNeighborsClassifier(),\n",
              "             param_grid={&#x27;n_neighbors&#x27;: [3, 5, 7, 9, 11, 13, 15]})</pre></div></div></div><div class=\"sk-parallel\"><div class=\"sk-parallel-item\"><div class=\"sk-item\"><div class=\"sk-label-container\"><div class=\"sk-label sk-toggleable\"><input class=\"sk-toggleable__control sk-hidden--visually\" id=\"sk-estimator-id-3\" type=\"checkbox\" ><label for=\"sk-estimator-id-3\" class=\"sk-toggleable__label sk-toggleable__label-arrow\">estimator: KNeighborsClassifier</label><div class=\"sk-toggleable__content\"><pre>KNeighborsClassifier()</pre></div></div></div><div class=\"sk-serial\"><div class=\"sk-item\"><div class=\"sk-estimator sk-toggleable\"><input class=\"sk-toggleable__control sk-hidden--visually\" id=\"sk-estimator-id-4\" type=\"checkbox\" ><label for=\"sk-estimator-id-4\" class=\"sk-toggleable__label sk-toggleable__label-arrow\">KNeighborsClassifier</label><div class=\"sk-toggleable__content\"><pre>KNeighborsClassifier()</pre></div></div></div></div></div></div></div></div></div></div>"
            ],
            "text/plain": [
              "GridSearchCV(cv=7, estimator=KNeighborsClassifier(),\n",
              "             param_grid={'n_neighbors': [3, 5, 7, 9, 11, 13, 15]})"
            ]
          },
          "execution_count": 18,
          "metadata": {},
          "output_type": "execute_result"
        }
      ],
      "source": [
        "#Now we run GridSearch to find optimal value for nearest neighbours\n",
        "\n",
        "\n",
        "grid_search = GridSearchCV(knn_clf, hyperparameters, cv = 7)\n",
        "grid_search.fit(grayscale_training, ground_truths)"
      ]
    },
    {
      "cell_type": "code",
      "execution_count": null,
      "metadata": {
        "colab": {
          "base_uri": "https://localhost:8080/"
        },
        "id": "t05rUdPq7pwt",
        "outputId": "bc553a9d-a738-43fc-c98a-165b6d8eac74"
      },
      "outputs": [
        {
          "name": "stdout",
          "output_type": "stream",
          "text": [
            "Accuracy of this model with  15 is  0.7249012971178674\n"
          ]
        }
      ],
      "source": [
        "#Once we have run that, we have *optimal values for n_neighbours and fold count (cv)\n",
        "optimal_neighbors = grid_search.best_params_['n_neighbors']\n",
        "knn_optimal = KNeighborsClassifier(n_neighbors=optimal_neighbors, weights = 'distance')\n",
        "score = cross_val_score(knn_optimal, grayscale_training, ground_truths, cv = 7).mean()\n",
        "\n",
        "\n",
        "print(\"Accuracy of this model with \",optimal_neighbors, \"is \", score)\n",
        "\n"
      ]
    },
    {
      "cell_type": "markdown",
      "metadata": {
        "id": "86t8jzF07pwt"
      },
      "source": [
        "# Progress up to this point\n",
        "So far we have determined an appropriate value for CV folds and N nearest neighbours <br />\n",
        "We have done this using Euclidian (straight line) distance between points for classification <br />\n",
        "Up to this point our model has a validation accuracy of 72%, not great, not terrible"
      ]
    },
    {
      "cell_type": "markdown",
      "metadata": {
        "id": "ew3jGIgH7pwt"
      },
      "source": [
        "# Running Grid Search with multiple hyperparameters\n",
        "## Our KNN classifier has multiple hyperparameters\n",
        "- Given that each of our hyperparameters has a relatively small range of values, its worth running grid search with all of the hyperparameter options.\n",
        "- By doing this we are guaranteed to find the optimal set of hyperparameters within the defined ranges.\n"
      ]
    },
    {
      "cell_type": "code",
      "execution_count": null,
      "metadata": {
        "colab": {
          "base_uri": "https://localhost:8080/",
          "height": 380
        },
        "id": "a7St6kU57pwt",
        "outputId": "43aca1cd-f307-448d-9e4c-614265951822"
      },
      "outputs": [
        {
          "ename": "KeyboardInterrupt",
          "evalue": "ignored",
          "output_type": "error",
          "traceback": [
            "\u001b[0;31m---------------------------------------------------------------------------\u001b[0m",
            "\u001b[0;31mKeyboardInterrupt\u001b[0m                         Traceback (most recent call last)",
            "\u001b[0;32m<ipython-input-18-ff056a1cce15>\u001b[0m in \u001b[0;36m<cell line: 15>\u001b[0;34m()\u001b[0m\n\u001b[1;32m     13\u001b[0m \u001b[0;31m#we will use the same KNN as we used above (knn_clf)\u001b[0m\u001b[0;34m\u001b[0m\u001b[0;34m\u001b[0m\u001b[0m\n\u001b[1;32m     14\u001b[0m \u001b[0mgrid_search\u001b[0m \u001b[0;34m=\u001b[0m \u001b[0mGridSearchCV\u001b[0m\u001b[0;34m(\u001b[0m\u001b[0mknn_clf\u001b[0m\u001b[0;34m,\u001b[0m\u001b[0mparam_grid\u001b[0m\u001b[0;34m=\u001b[0m\u001b[0mparam_grid\u001b[0m\u001b[0;34m,\u001b[0m \u001b[0mcv\u001b[0m \u001b[0;34m=\u001b[0m \u001b[0;36m7\u001b[0m\u001b[0;34m)\u001b[0m\u001b[0;34m\u001b[0m\u001b[0;34m\u001b[0m\u001b[0m\n\u001b[0;32m---> 15\u001b[0;31m \u001b[0mgrid_search\u001b[0m\u001b[0;34m.\u001b[0m\u001b[0mfit\u001b[0m\u001b[0;34m(\u001b[0m\u001b[0mx_train\u001b[0m\u001b[0;34m,\u001b[0m \u001b[0my_train\u001b[0m\u001b[0;34m)\u001b[0m\u001b[0;34m\u001b[0m\u001b[0;34m\u001b[0m\u001b[0m\n\u001b[0m\u001b[1;32m     16\u001b[0m \u001b[0mopt_params\u001b[0m \u001b[0;34m=\u001b[0m \u001b[0mgrid_search\u001b[0m\u001b[0;34m.\u001b[0m\u001b[0mbest_params_\u001b[0m\u001b[0;34m\u001b[0m\u001b[0;34m\u001b[0m\u001b[0m\n\u001b[1;32m     17\u001b[0m \u001b[0;34m\u001b[0m\u001b[0m\n",
            "\u001b[0;32m/usr/local/lib/python3.9/dist-packages/sklearn/model_selection/_search.py\u001b[0m in \u001b[0;36mfit\u001b[0;34m(self, X, y, groups, **fit_params)\u001b[0m\n\u001b[1;32m    872\u001b[0m                 \u001b[0;32mreturn\u001b[0m \u001b[0mresults\u001b[0m\u001b[0;34m\u001b[0m\u001b[0;34m\u001b[0m\u001b[0m\n\u001b[1;32m    873\u001b[0m \u001b[0;34m\u001b[0m\u001b[0m\n\u001b[0;32m--> 874\u001b[0;31m             \u001b[0mself\u001b[0m\u001b[0;34m.\u001b[0m\u001b[0m_run_search\u001b[0m\u001b[0;34m(\u001b[0m\u001b[0mevaluate_candidates\u001b[0m\u001b[0;34m)\u001b[0m\u001b[0;34m\u001b[0m\u001b[0;34m\u001b[0m\u001b[0m\n\u001b[0m\u001b[1;32m    875\u001b[0m \u001b[0;34m\u001b[0m\u001b[0m\n\u001b[1;32m    876\u001b[0m             \u001b[0;31m# multimetric is determined here because in the case of a callable\u001b[0m\u001b[0;34m\u001b[0m\u001b[0;34m\u001b[0m\u001b[0m\n",
            "\u001b[0;32m/usr/local/lib/python3.9/dist-packages/sklearn/model_selection/_search.py\u001b[0m in \u001b[0;36m_run_search\u001b[0;34m(self, evaluate_candidates)\u001b[0m\n\u001b[1;32m   1386\u001b[0m     \u001b[0;32mdef\u001b[0m \u001b[0m_run_search\u001b[0m\u001b[0;34m(\u001b[0m\u001b[0mself\u001b[0m\u001b[0;34m,\u001b[0m \u001b[0mevaluate_candidates\u001b[0m\u001b[0;34m)\u001b[0m\u001b[0;34m:\u001b[0m\u001b[0;34m\u001b[0m\u001b[0;34m\u001b[0m\u001b[0m\n\u001b[1;32m   1387\u001b[0m         \u001b[0;34m\"\"\"Search all candidates in param_grid\"\"\"\u001b[0m\u001b[0;34m\u001b[0m\u001b[0;34m\u001b[0m\u001b[0m\n\u001b[0;32m-> 1388\u001b[0;31m         \u001b[0mevaluate_candidates\u001b[0m\u001b[0;34m(\u001b[0m\u001b[0mParameterGrid\u001b[0m\u001b[0;34m(\u001b[0m\u001b[0mself\u001b[0m\u001b[0;34m.\u001b[0m\u001b[0mparam_grid\u001b[0m\u001b[0;34m)\u001b[0m\u001b[0;34m)\u001b[0m\u001b[0;34m\u001b[0m\u001b[0;34m\u001b[0m\u001b[0m\n\u001b[0m\u001b[1;32m   1389\u001b[0m \u001b[0;34m\u001b[0m\u001b[0m\n\u001b[1;32m   1390\u001b[0m \u001b[0;34m\u001b[0m\u001b[0m\n",
            "\u001b[0;32m/usr/local/lib/python3.9/dist-packages/sklearn/model_selection/_search.py\u001b[0m in \u001b[0;36mevaluate_candidates\u001b[0;34m(candidate_params, cv, more_results)\u001b[0m\n\u001b[1;32m    819\u001b[0m                     )\n\u001b[1;32m    820\u001b[0m \u001b[0;34m\u001b[0m\u001b[0m\n\u001b[0;32m--> 821\u001b[0;31m                 out = parallel(\n\u001b[0m\u001b[1;32m    822\u001b[0m                     delayed(_fit_and_score)(\n\u001b[1;32m    823\u001b[0m                         \u001b[0mclone\u001b[0m\u001b[0;34m(\u001b[0m\u001b[0mbase_estimator\u001b[0m\u001b[0;34m)\u001b[0m\u001b[0;34m,\u001b[0m\u001b[0;34m\u001b[0m\u001b[0;34m\u001b[0m\u001b[0m\n",
            "\u001b[0;32m/usr/local/lib/python3.9/dist-packages/sklearn/utils/parallel.py\u001b[0m in \u001b[0;36m__call__\u001b[0;34m(self, iterable)\u001b[0m\n\u001b[1;32m     61\u001b[0m             \u001b[0;32mfor\u001b[0m \u001b[0mdelayed_func\u001b[0m\u001b[0;34m,\u001b[0m \u001b[0margs\u001b[0m\u001b[0;34m,\u001b[0m \u001b[0mkwargs\u001b[0m \u001b[0;32min\u001b[0m \u001b[0miterable\u001b[0m\u001b[0;34m\u001b[0m\u001b[0;34m\u001b[0m\u001b[0m\n\u001b[1;32m     62\u001b[0m         )\n\u001b[0;32m---> 63\u001b[0;31m         \u001b[0;32mreturn\u001b[0m \u001b[0msuper\u001b[0m\u001b[0;34m(\u001b[0m\u001b[0;34m)\u001b[0m\u001b[0;34m.\u001b[0m\u001b[0m__call__\u001b[0m\u001b[0;34m(\u001b[0m\u001b[0miterable_with_config\u001b[0m\u001b[0;34m)\u001b[0m\u001b[0;34m\u001b[0m\u001b[0;34m\u001b[0m\u001b[0m\n\u001b[0m\u001b[1;32m     64\u001b[0m \u001b[0;34m\u001b[0m\u001b[0m\n\u001b[1;32m     65\u001b[0m \u001b[0;34m\u001b[0m\u001b[0m\n",
            "\u001b[0;32m/usr/local/lib/python3.9/dist-packages/joblib/parallel.py\u001b[0m in \u001b[0;36m__call__\u001b[0;34m(self, iterable)\u001b[0m\n\u001b[1;32m   1086\u001b[0m                 \u001b[0mself\u001b[0m\u001b[0;34m.\u001b[0m\u001b[0m_iterating\u001b[0m \u001b[0;34m=\u001b[0m \u001b[0mself\u001b[0m\u001b[0;34m.\u001b[0m\u001b[0m_original_iterator\u001b[0m \u001b[0;32mis\u001b[0m \u001b[0;32mnot\u001b[0m \u001b[0;32mNone\u001b[0m\u001b[0;34m\u001b[0m\u001b[0;34m\u001b[0m\u001b[0m\n\u001b[1;32m   1087\u001b[0m \u001b[0;34m\u001b[0m\u001b[0m\n\u001b[0;32m-> 1088\u001b[0;31m             \u001b[0;32mwhile\u001b[0m \u001b[0mself\u001b[0m\u001b[0;34m.\u001b[0m\u001b[0mdispatch_one_batch\u001b[0m\u001b[0;34m(\u001b[0m\u001b[0miterator\u001b[0m\u001b[0;34m)\u001b[0m\u001b[0;34m:\u001b[0m\u001b[0;34m\u001b[0m\u001b[0;34m\u001b[0m\u001b[0m\n\u001b[0m\u001b[1;32m   1089\u001b[0m                 \u001b[0;32mpass\u001b[0m\u001b[0;34m\u001b[0m\u001b[0;34m\u001b[0m\u001b[0m\n\u001b[1;32m   1090\u001b[0m \u001b[0;34m\u001b[0m\u001b[0m\n",
            "\u001b[0;32m/usr/local/lib/python3.9/dist-packages/joblib/parallel.py\u001b[0m in \u001b[0;36mdispatch_one_batch\u001b[0;34m(self, iterator)\u001b[0m\n\u001b[1;32m    899\u001b[0m                 \u001b[0;32mreturn\u001b[0m \u001b[0;32mFalse\u001b[0m\u001b[0;34m\u001b[0m\u001b[0;34m\u001b[0m\u001b[0m\n\u001b[1;32m    900\u001b[0m             \u001b[0;32melse\u001b[0m\u001b[0;34m:\u001b[0m\u001b[0;34m\u001b[0m\u001b[0;34m\u001b[0m\u001b[0m\n\u001b[0;32m--> 901\u001b[0;31m                 \u001b[0mself\u001b[0m\u001b[0;34m.\u001b[0m\u001b[0m_dispatch\u001b[0m\u001b[0;34m(\u001b[0m\u001b[0mtasks\u001b[0m\u001b[0;34m)\u001b[0m\u001b[0;34m\u001b[0m\u001b[0;34m\u001b[0m\u001b[0m\n\u001b[0m\u001b[1;32m    902\u001b[0m                 \u001b[0;32mreturn\u001b[0m \u001b[0;32mTrue\u001b[0m\u001b[0;34m\u001b[0m\u001b[0;34m\u001b[0m\u001b[0m\n\u001b[1;32m    903\u001b[0m \u001b[0;34m\u001b[0m\u001b[0m\n",
            "\u001b[0;32m/usr/local/lib/python3.9/dist-packages/joblib/parallel.py\u001b[0m in \u001b[0;36m_dispatch\u001b[0;34m(self, batch)\u001b[0m\n\u001b[1;32m    817\u001b[0m         \u001b[0;32mwith\u001b[0m \u001b[0mself\u001b[0m\u001b[0;34m.\u001b[0m\u001b[0m_lock\u001b[0m\u001b[0;34m:\u001b[0m\u001b[0;34m\u001b[0m\u001b[0;34m\u001b[0m\u001b[0m\n\u001b[1;32m    818\u001b[0m             \u001b[0mjob_idx\u001b[0m \u001b[0;34m=\u001b[0m \u001b[0mlen\u001b[0m\u001b[0;34m(\u001b[0m\u001b[0mself\u001b[0m\u001b[0;34m.\u001b[0m\u001b[0m_jobs\u001b[0m\u001b[0;34m)\u001b[0m\u001b[0;34m\u001b[0m\u001b[0;34m\u001b[0m\u001b[0m\n\u001b[0;32m--> 819\u001b[0;31m             \u001b[0mjob\u001b[0m \u001b[0;34m=\u001b[0m \u001b[0mself\u001b[0m\u001b[0;34m.\u001b[0m\u001b[0m_backend\u001b[0m\u001b[0;34m.\u001b[0m\u001b[0mapply_async\u001b[0m\u001b[0;34m(\u001b[0m\u001b[0mbatch\u001b[0m\u001b[0;34m,\u001b[0m \u001b[0mcallback\u001b[0m\u001b[0;34m=\u001b[0m\u001b[0mcb\u001b[0m\u001b[0;34m)\u001b[0m\u001b[0;34m\u001b[0m\u001b[0;34m\u001b[0m\u001b[0m\n\u001b[0m\u001b[1;32m    820\u001b[0m             \u001b[0;31m# A job can complete so quickly than its callback is\u001b[0m\u001b[0;34m\u001b[0m\u001b[0;34m\u001b[0m\u001b[0m\n\u001b[1;32m    821\u001b[0m             \u001b[0;31m# called before we get here, causing self._jobs to\u001b[0m\u001b[0;34m\u001b[0m\u001b[0;34m\u001b[0m\u001b[0m\n",
            "\u001b[0;32m/usr/local/lib/python3.9/dist-packages/joblib/_parallel_backends.py\u001b[0m in \u001b[0;36mapply_async\u001b[0;34m(self, func, callback)\u001b[0m\n\u001b[1;32m    206\u001b[0m     \u001b[0;32mdef\u001b[0m \u001b[0mapply_async\u001b[0m\u001b[0;34m(\u001b[0m\u001b[0mself\u001b[0m\u001b[0;34m,\u001b[0m \u001b[0mfunc\u001b[0m\u001b[0;34m,\u001b[0m \u001b[0mcallback\u001b[0m\u001b[0;34m=\u001b[0m\u001b[0;32mNone\u001b[0m\u001b[0;34m)\u001b[0m\u001b[0;34m:\u001b[0m\u001b[0;34m\u001b[0m\u001b[0;34m\u001b[0m\u001b[0m\n\u001b[1;32m    207\u001b[0m         \u001b[0;34m\"\"\"Schedule a func to be run\"\"\"\u001b[0m\u001b[0;34m\u001b[0m\u001b[0;34m\u001b[0m\u001b[0m\n\u001b[0;32m--> 208\u001b[0;31m         \u001b[0mresult\u001b[0m \u001b[0;34m=\u001b[0m \u001b[0mImmediateResult\u001b[0m\u001b[0;34m(\u001b[0m\u001b[0mfunc\u001b[0m\u001b[0;34m)\u001b[0m\u001b[0;34m\u001b[0m\u001b[0;34m\u001b[0m\u001b[0m\n\u001b[0m\u001b[1;32m    209\u001b[0m         \u001b[0;32mif\u001b[0m \u001b[0mcallback\u001b[0m\u001b[0;34m:\u001b[0m\u001b[0;34m\u001b[0m\u001b[0;34m\u001b[0m\u001b[0m\n\u001b[1;32m    210\u001b[0m             \u001b[0mcallback\u001b[0m\u001b[0;34m(\u001b[0m\u001b[0mresult\u001b[0m\u001b[0;34m)\u001b[0m\u001b[0;34m\u001b[0m\u001b[0;34m\u001b[0m\u001b[0m\n",
            "\u001b[0;32m/usr/local/lib/python3.9/dist-packages/joblib/_parallel_backends.py\u001b[0m in \u001b[0;36m__init__\u001b[0;34m(self, batch)\u001b[0m\n\u001b[1;32m    595\u001b[0m         \u001b[0;31m# Don't delay the application, to avoid keeping the input\u001b[0m\u001b[0;34m\u001b[0m\u001b[0;34m\u001b[0m\u001b[0m\n\u001b[1;32m    596\u001b[0m         \u001b[0;31m# arguments in memory\u001b[0m\u001b[0;34m\u001b[0m\u001b[0;34m\u001b[0m\u001b[0m\n\u001b[0;32m--> 597\u001b[0;31m         \u001b[0mself\u001b[0m\u001b[0;34m.\u001b[0m\u001b[0mresults\u001b[0m \u001b[0;34m=\u001b[0m \u001b[0mbatch\u001b[0m\u001b[0;34m(\u001b[0m\u001b[0;34m)\u001b[0m\u001b[0;34m\u001b[0m\u001b[0;34m\u001b[0m\u001b[0m\n\u001b[0m\u001b[1;32m    598\u001b[0m \u001b[0;34m\u001b[0m\u001b[0m\n\u001b[1;32m    599\u001b[0m     \u001b[0;32mdef\u001b[0m \u001b[0mget\u001b[0m\u001b[0;34m(\u001b[0m\u001b[0mself\u001b[0m\u001b[0;34m)\u001b[0m\u001b[0;34m:\u001b[0m\u001b[0;34m\u001b[0m\u001b[0;34m\u001b[0m\u001b[0m\n",
            "\u001b[0;32m/usr/local/lib/python3.9/dist-packages/joblib/parallel.py\u001b[0m in \u001b[0;36m__call__\u001b[0;34m(self)\u001b[0m\n\u001b[1;32m    286\u001b[0m         \u001b[0;31m# change the default number of processes to -1\u001b[0m\u001b[0;34m\u001b[0m\u001b[0;34m\u001b[0m\u001b[0m\n\u001b[1;32m    287\u001b[0m         \u001b[0;32mwith\u001b[0m \u001b[0mparallel_backend\u001b[0m\u001b[0;34m(\u001b[0m\u001b[0mself\u001b[0m\u001b[0;34m.\u001b[0m\u001b[0m_backend\u001b[0m\u001b[0;34m,\u001b[0m \u001b[0mn_jobs\u001b[0m\u001b[0;34m=\u001b[0m\u001b[0mself\u001b[0m\u001b[0;34m.\u001b[0m\u001b[0m_n_jobs\u001b[0m\u001b[0;34m)\u001b[0m\u001b[0;34m:\u001b[0m\u001b[0;34m\u001b[0m\u001b[0;34m\u001b[0m\u001b[0m\n\u001b[0;32m--> 288\u001b[0;31m             return [func(*args, **kwargs)\n\u001b[0m\u001b[1;32m    289\u001b[0m                     for func, args, kwargs in self.items]\n\u001b[1;32m    290\u001b[0m \u001b[0;34m\u001b[0m\u001b[0m\n",
            "\u001b[0;32m/usr/local/lib/python3.9/dist-packages/joblib/parallel.py\u001b[0m in \u001b[0;36m<listcomp>\u001b[0;34m(.0)\u001b[0m\n\u001b[1;32m    286\u001b[0m         \u001b[0;31m# change the default number of processes to -1\u001b[0m\u001b[0;34m\u001b[0m\u001b[0;34m\u001b[0m\u001b[0m\n\u001b[1;32m    287\u001b[0m         \u001b[0;32mwith\u001b[0m \u001b[0mparallel_backend\u001b[0m\u001b[0;34m(\u001b[0m\u001b[0mself\u001b[0m\u001b[0;34m.\u001b[0m\u001b[0m_backend\u001b[0m\u001b[0;34m,\u001b[0m \u001b[0mn_jobs\u001b[0m\u001b[0;34m=\u001b[0m\u001b[0mself\u001b[0m\u001b[0;34m.\u001b[0m\u001b[0m_n_jobs\u001b[0m\u001b[0;34m)\u001b[0m\u001b[0;34m:\u001b[0m\u001b[0;34m\u001b[0m\u001b[0;34m\u001b[0m\u001b[0m\n\u001b[0;32m--> 288\u001b[0;31m             return [func(*args, **kwargs)\n\u001b[0m\u001b[1;32m    289\u001b[0m                     for func, args, kwargs in self.items]\n\u001b[1;32m    290\u001b[0m \u001b[0;34m\u001b[0m\u001b[0m\n",
            "\u001b[0;32m/usr/local/lib/python3.9/dist-packages/sklearn/utils/parallel.py\u001b[0m in \u001b[0;36m__call__\u001b[0;34m(self, *args, **kwargs)\u001b[0m\n\u001b[1;32m    121\u001b[0m             \u001b[0mconfig\u001b[0m \u001b[0;34m=\u001b[0m \u001b[0;34m{\u001b[0m\u001b[0;34m}\u001b[0m\u001b[0;34m\u001b[0m\u001b[0;34m\u001b[0m\u001b[0m\n\u001b[1;32m    122\u001b[0m         \u001b[0;32mwith\u001b[0m \u001b[0mconfig_context\u001b[0m\u001b[0;34m(\u001b[0m\u001b[0;34m**\u001b[0m\u001b[0mconfig\u001b[0m\u001b[0;34m)\u001b[0m\u001b[0;34m:\u001b[0m\u001b[0;34m\u001b[0m\u001b[0;34m\u001b[0m\u001b[0m\n\u001b[0;32m--> 123\u001b[0;31m             \u001b[0;32mreturn\u001b[0m \u001b[0mself\u001b[0m\u001b[0;34m.\u001b[0m\u001b[0mfunction\u001b[0m\u001b[0;34m(\u001b[0m\u001b[0;34m*\u001b[0m\u001b[0margs\u001b[0m\u001b[0;34m,\u001b[0m \u001b[0;34m**\u001b[0m\u001b[0mkwargs\u001b[0m\u001b[0;34m)\u001b[0m\u001b[0;34m\u001b[0m\u001b[0;34m\u001b[0m\u001b[0m\n\u001b[0m",
            "\u001b[0;32m/usr/local/lib/python3.9/dist-packages/sklearn/model_selection/_validation.py\u001b[0m in \u001b[0;36m_fit_and_score\u001b[0;34m(estimator, X, y, scorer, train, test, verbose, parameters, fit_params, return_train_score, return_parameters, return_n_test_samples, return_times, return_estimator, split_progress, candidate_progress, error_score)\u001b[0m\n\u001b[1;32m    706\u001b[0m \u001b[0;34m\u001b[0m\u001b[0m\n\u001b[1;32m    707\u001b[0m         \u001b[0mfit_time\u001b[0m \u001b[0;34m=\u001b[0m \u001b[0mtime\u001b[0m\u001b[0;34m.\u001b[0m\u001b[0mtime\u001b[0m\u001b[0;34m(\u001b[0m\u001b[0;34m)\u001b[0m \u001b[0;34m-\u001b[0m \u001b[0mstart_time\u001b[0m\u001b[0;34m\u001b[0m\u001b[0;34m\u001b[0m\u001b[0m\n\u001b[0;32m--> 708\u001b[0;31m         \u001b[0mtest_scores\u001b[0m \u001b[0;34m=\u001b[0m \u001b[0m_score\u001b[0m\u001b[0;34m(\u001b[0m\u001b[0mestimator\u001b[0m\u001b[0;34m,\u001b[0m \u001b[0mX_test\u001b[0m\u001b[0;34m,\u001b[0m \u001b[0my_test\u001b[0m\u001b[0;34m,\u001b[0m \u001b[0mscorer\u001b[0m\u001b[0;34m,\u001b[0m \u001b[0merror_score\u001b[0m\u001b[0;34m)\u001b[0m\u001b[0;34m\u001b[0m\u001b[0;34m\u001b[0m\u001b[0m\n\u001b[0m\u001b[1;32m    709\u001b[0m         \u001b[0mscore_time\u001b[0m \u001b[0;34m=\u001b[0m \u001b[0mtime\u001b[0m\u001b[0;34m.\u001b[0m\u001b[0mtime\u001b[0m\u001b[0;34m(\u001b[0m\u001b[0;34m)\u001b[0m \u001b[0;34m-\u001b[0m \u001b[0mstart_time\u001b[0m \u001b[0;34m-\u001b[0m \u001b[0mfit_time\u001b[0m\u001b[0;34m\u001b[0m\u001b[0;34m\u001b[0m\u001b[0m\n\u001b[1;32m    710\u001b[0m         \u001b[0;32mif\u001b[0m \u001b[0mreturn_train_score\u001b[0m\u001b[0;34m:\u001b[0m\u001b[0;34m\u001b[0m\u001b[0;34m\u001b[0m\u001b[0m\n",
            "\u001b[0;32m/usr/local/lib/python3.9/dist-packages/sklearn/model_selection/_validation.py\u001b[0m in \u001b[0;36m_score\u001b[0;34m(estimator, X_test, y_test, scorer, error_score)\u001b[0m\n\u001b[1;32m    765\u001b[0m             \u001b[0mscores\u001b[0m \u001b[0;34m=\u001b[0m \u001b[0mscorer\u001b[0m\u001b[0;34m(\u001b[0m\u001b[0mestimator\u001b[0m\u001b[0;34m,\u001b[0m \u001b[0mX_test\u001b[0m\u001b[0;34m)\u001b[0m\u001b[0;34m\u001b[0m\u001b[0;34m\u001b[0m\u001b[0m\n\u001b[1;32m    766\u001b[0m         \u001b[0;32melse\u001b[0m\u001b[0;34m:\u001b[0m\u001b[0;34m\u001b[0m\u001b[0;34m\u001b[0m\u001b[0m\n\u001b[0;32m--> 767\u001b[0;31m             \u001b[0mscores\u001b[0m \u001b[0;34m=\u001b[0m \u001b[0mscorer\u001b[0m\u001b[0;34m(\u001b[0m\u001b[0mestimator\u001b[0m\u001b[0;34m,\u001b[0m \u001b[0mX_test\u001b[0m\u001b[0;34m,\u001b[0m \u001b[0my_test\u001b[0m\u001b[0;34m)\u001b[0m\u001b[0;34m\u001b[0m\u001b[0;34m\u001b[0m\u001b[0m\n\u001b[0m\u001b[1;32m    768\u001b[0m     \u001b[0;32mexcept\u001b[0m \u001b[0mException\u001b[0m\u001b[0;34m:\u001b[0m\u001b[0;34m\u001b[0m\u001b[0;34m\u001b[0m\u001b[0m\n\u001b[1;32m    769\u001b[0m         \u001b[0;32mif\u001b[0m \u001b[0misinstance\u001b[0m\u001b[0;34m(\u001b[0m\u001b[0mscorer\u001b[0m\u001b[0;34m,\u001b[0m \u001b[0m_MultimetricScorer\u001b[0m\u001b[0;34m)\u001b[0m\u001b[0;34m:\u001b[0m\u001b[0;34m\u001b[0m\u001b[0;34m\u001b[0m\u001b[0m\n",
            "\u001b[0;32m/usr/local/lib/python3.9/dist-packages/sklearn/metrics/_scorer.py\u001b[0m in \u001b[0;36m_passthrough_scorer\u001b[0;34m(estimator, *args, **kwargs)\u001b[0m\n\u001b[1;32m    442\u001b[0m \u001b[0;32mdef\u001b[0m \u001b[0m_passthrough_scorer\u001b[0m\u001b[0;34m(\u001b[0m\u001b[0mestimator\u001b[0m\u001b[0;34m,\u001b[0m \u001b[0;34m*\u001b[0m\u001b[0margs\u001b[0m\u001b[0;34m,\u001b[0m \u001b[0;34m**\u001b[0m\u001b[0mkwargs\u001b[0m\u001b[0;34m)\u001b[0m\u001b[0;34m:\u001b[0m\u001b[0;34m\u001b[0m\u001b[0;34m\u001b[0m\u001b[0m\n\u001b[1;32m    443\u001b[0m     \u001b[0;34m\"\"\"Function that wraps estimator.score\"\"\"\u001b[0m\u001b[0;34m\u001b[0m\u001b[0;34m\u001b[0m\u001b[0m\n\u001b[0;32m--> 444\u001b[0;31m     \u001b[0;32mreturn\u001b[0m \u001b[0mestimator\u001b[0m\u001b[0;34m.\u001b[0m\u001b[0mscore\u001b[0m\u001b[0;34m(\u001b[0m\u001b[0;34m*\u001b[0m\u001b[0margs\u001b[0m\u001b[0;34m,\u001b[0m \u001b[0;34m**\u001b[0m\u001b[0mkwargs\u001b[0m\u001b[0;34m)\u001b[0m\u001b[0;34m\u001b[0m\u001b[0;34m\u001b[0m\u001b[0m\n\u001b[0m\u001b[1;32m    445\u001b[0m \u001b[0;34m\u001b[0m\u001b[0m\n\u001b[1;32m    446\u001b[0m \u001b[0;34m\u001b[0m\u001b[0m\n",
            "\u001b[0;32m/usr/local/lib/python3.9/dist-packages/sklearn/base.py\u001b[0m in \u001b[0;36mscore\u001b[0;34m(self, X, y, sample_weight)\u001b[0m\n\u001b[1;32m    666\u001b[0m         \u001b[0;32mfrom\u001b[0m \u001b[0;34m.\u001b[0m\u001b[0mmetrics\u001b[0m \u001b[0;32mimport\u001b[0m \u001b[0maccuracy_score\u001b[0m\u001b[0;34m\u001b[0m\u001b[0;34m\u001b[0m\u001b[0m\n\u001b[1;32m    667\u001b[0m \u001b[0;34m\u001b[0m\u001b[0m\n\u001b[0;32m--> 668\u001b[0;31m         \u001b[0;32mreturn\u001b[0m \u001b[0maccuracy_score\u001b[0m\u001b[0;34m(\u001b[0m\u001b[0my\u001b[0m\u001b[0;34m,\u001b[0m \u001b[0mself\u001b[0m\u001b[0;34m.\u001b[0m\u001b[0mpredict\u001b[0m\u001b[0;34m(\u001b[0m\u001b[0mX\u001b[0m\u001b[0;34m)\u001b[0m\u001b[0;34m,\u001b[0m \u001b[0msample_weight\u001b[0m\u001b[0;34m=\u001b[0m\u001b[0msample_weight\u001b[0m\u001b[0;34m)\u001b[0m\u001b[0;34m\u001b[0m\u001b[0;34m\u001b[0m\u001b[0m\n\u001b[0m\u001b[1;32m    669\u001b[0m \u001b[0;34m\u001b[0m\u001b[0m\n\u001b[1;32m    670\u001b[0m     \u001b[0;32mdef\u001b[0m \u001b[0m_more_tags\u001b[0m\u001b[0;34m(\u001b[0m\u001b[0mself\u001b[0m\u001b[0;34m)\u001b[0m\u001b[0;34m:\u001b[0m\u001b[0;34m\u001b[0m\u001b[0;34m\u001b[0m\u001b[0m\n",
            "\u001b[0;32m/usr/local/lib/python3.9/dist-packages/sklearn/neighbors/_classification.py\u001b[0m in \u001b[0;36mpredict\u001b[0;34m(self, X)\u001b[0m\n\u001b[1;32m    235\u001b[0m             \u001b[0mneigh_dist\u001b[0m \u001b[0;34m=\u001b[0m \u001b[0;32mNone\u001b[0m\u001b[0;34m\u001b[0m\u001b[0;34m\u001b[0m\u001b[0m\n\u001b[1;32m    236\u001b[0m         \u001b[0;32melse\u001b[0m\u001b[0;34m:\u001b[0m\u001b[0;34m\u001b[0m\u001b[0;34m\u001b[0m\u001b[0m\n\u001b[0;32m--> 237\u001b[0;31m             \u001b[0mneigh_dist\u001b[0m\u001b[0;34m,\u001b[0m \u001b[0mneigh_ind\u001b[0m \u001b[0;34m=\u001b[0m \u001b[0mself\u001b[0m\u001b[0;34m.\u001b[0m\u001b[0mkneighbors\u001b[0m\u001b[0;34m(\u001b[0m\u001b[0mX\u001b[0m\u001b[0;34m)\u001b[0m\u001b[0;34m\u001b[0m\u001b[0;34m\u001b[0m\u001b[0m\n\u001b[0m\u001b[1;32m    238\u001b[0m \u001b[0;34m\u001b[0m\u001b[0m\n\u001b[1;32m    239\u001b[0m         \u001b[0mclasses_\u001b[0m \u001b[0;34m=\u001b[0m \u001b[0mself\u001b[0m\u001b[0;34m.\u001b[0m\u001b[0mclasses_\u001b[0m\u001b[0;34m\u001b[0m\u001b[0;34m\u001b[0m\u001b[0m\n",
            "\u001b[0;32m/usr/local/lib/python3.9/dist-packages/sklearn/neighbors/_base.py\u001b[0m in \u001b[0;36mkneighbors\u001b[0;34m(self, X, n_neighbors, return_distance)\u001b[0m\n\u001b[1;32m    859\u001b[0m                 \u001b[0mkwds\u001b[0m \u001b[0;34m=\u001b[0m \u001b[0mself\u001b[0m\u001b[0;34m.\u001b[0m\u001b[0meffective_metric_params_\u001b[0m\u001b[0;34m\u001b[0m\u001b[0;34m\u001b[0m\u001b[0m\n\u001b[1;32m    860\u001b[0m \u001b[0;34m\u001b[0m\u001b[0m\n\u001b[0;32m--> 861\u001b[0;31m             chunked_results = list(\n\u001b[0m\u001b[1;32m    862\u001b[0m                 pairwise_distances_chunked(\n\u001b[1;32m    863\u001b[0m                     \u001b[0mX\u001b[0m\u001b[0;34m,\u001b[0m\u001b[0;34m\u001b[0m\u001b[0;34m\u001b[0m\u001b[0m\n",
            "\u001b[0;32m/usr/local/lib/python3.9/dist-packages/sklearn/metrics/pairwise.py\u001b[0m in \u001b[0;36mpairwise_distances_chunked\u001b[0;34m(X, Y, reduce_func, metric, n_jobs, working_memory, **kwds)\u001b[0m\n\u001b[1;32m   1865\u001b[0m         \u001b[0;32melse\u001b[0m\u001b[0;34m:\u001b[0m\u001b[0;34m\u001b[0m\u001b[0;34m\u001b[0m\u001b[0m\n\u001b[1;32m   1866\u001b[0m             \u001b[0mX_chunk\u001b[0m \u001b[0;34m=\u001b[0m \u001b[0mX\u001b[0m\u001b[0;34m[\u001b[0m\u001b[0msl\u001b[0m\u001b[0;34m]\u001b[0m\u001b[0;34m\u001b[0m\u001b[0;34m\u001b[0m\u001b[0m\n\u001b[0;32m-> 1867\u001b[0;31m         \u001b[0mD_chunk\u001b[0m \u001b[0;34m=\u001b[0m \u001b[0mpairwise_distances\u001b[0m\u001b[0;34m(\u001b[0m\u001b[0mX_chunk\u001b[0m\u001b[0;34m,\u001b[0m \u001b[0mY\u001b[0m\u001b[0;34m,\u001b[0m \u001b[0mmetric\u001b[0m\u001b[0;34m=\u001b[0m\u001b[0mmetric\u001b[0m\u001b[0;34m,\u001b[0m \u001b[0mn_jobs\u001b[0m\u001b[0;34m=\u001b[0m\u001b[0mn_jobs\u001b[0m\u001b[0;34m,\u001b[0m \u001b[0;34m**\u001b[0m\u001b[0mkwds\u001b[0m\u001b[0;34m)\u001b[0m\u001b[0;34m\u001b[0m\u001b[0;34m\u001b[0m\u001b[0m\n\u001b[0m\u001b[1;32m   1868\u001b[0m         if (X is Y or Y is None) and PAIRWISE_DISTANCE_FUNCTIONS.get(\n\u001b[1;32m   1869\u001b[0m             \u001b[0mmetric\u001b[0m\u001b[0;34m,\u001b[0m \u001b[0;32mNone\u001b[0m\u001b[0;34m\u001b[0m\u001b[0;34m\u001b[0m\u001b[0m\n",
            "\u001b[0;32m/usr/local/lib/python3.9/dist-packages/sklearn/metrics/pairwise.py\u001b[0m in \u001b[0;36mpairwise_distances\u001b[0;34m(X, Y, metric, n_jobs, force_all_finite, **kwds)\u001b[0m\n\u001b[1;32m   2037\u001b[0m         \u001b[0mfunc\u001b[0m \u001b[0;34m=\u001b[0m \u001b[0mpartial\u001b[0m\u001b[0;34m(\u001b[0m\u001b[0mdistance\u001b[0m\u001b[0;34m.\u001b[0m\u001b[0mcdist\u001b[0m\u001b[0;34m,\u001b[0m \u001b[0mmetric\u001b[0m\u001b[0;34m=\u001b[0m\u001b[0mmetric\u001b[0m\u001b[0;34m,\u001b[0m \u001b[0;34m**\u001b[0m\u001b[0mkwds\u001b[0m\u001b[0;34m)\u001b[0m\u001b[0;34m\u001b[0m\u001b[0;34m\u001b[0m\u001b[0m\n\u001b[1;32m   2038\u001b[0m \u001b[0;34m\u001b[0m\u001b[0m\n\u001b[0;32m-> 2039\u001b[0;31m     \u001b[0;32mreturn\u001b[0m \u001b[0m_parallel_pairwise\u001b[0m\u001b[0;34m(\u001b[0m\u001b[0mX\u001b[0m\u001b[0;34m,\u001b[0m \u001b[0mY\u001b[0m\u001b[0;34m,\u001b[0m \u001b[0mfunc\u001b[0m\u001b[0;34m,\u001b[0m \u001b[0mn_jobs\u001b[0m\u001b[0;34m,\u001b[0m \u001b[0;34m**\u001b[0m\u001b[0mkwds\u001b[0m\u001b[0;34m)\u001b[0m\u001b[0;34m\u001b[0m\u001b[0;34m\u001b[0m\u001b[0m\n\u001b[0m\u001b[1;32m   2040\u001b[0m \u001b[0;34m\u001b[0m\u001b[0m\n\u001b[1;32m   2041\u001b[0m \u001b[0;34m\u001b[0m\u001b[0m\n",
            "\u001b[0;32m/usr/local/lib/python3.9/dist-packages/sklearn/metrics/pairwise.py\u001b[0m in \u001b[0;36m_parallel_pairwise\u001b[0;34m(X, Y, func, n_jobs, **kwds)\u001b[0m\n\u001b[1;32m   1577\u001b[0m \u001b[0;34m\u001b[0m\u001b[0m\n\u001b[1;32m   1578\u001b[0m     \u001b[0;32mif\u001b[0m \u001b[0meffective_n_jobs\u001b[0m\u001b[0;34m(\u001b[0m\u001b[0mn_jobs\u001b[0m\u001b[0;34m)\u001b[0m \u001b[0;34m==\u001b[0m \u001b[0;36m1\u001b[0m\u001b[0;34m:\u001b[0m\u001b[0;34m\u001b[0m\u001b[0;34m\u001b[0m\u001b[0m\n\u001b[0;32m-> 1579\u001b[0;31m         \u001b[0;32mreturn\u001b[0m \u001b[0mfunc\u001b[0m\u001b[0;34m(\u001b[0m\u001b[0mX\u001b[0m\u001b[0;34m,\u001b[0m \u001b[0mY\u001b[0m\u001b[0;34m,\u001b[0m \u001b[0;34m**\u001b[0m\u001b[0mkwds\u001b[0m\u001b[0;34m)\u001b[0m\u001b[0;34m\u001b[0m\u001b[0;34m\u001b[0m\u001b[0m\n\u001b[0m\u001b[1;32m   1580\u001b[0m \u001b[0;34m\u001b[0m\u001b[0m\n\u001b[1;32m   1581\u001b[0m     \u001b[0;31m# enforce a threading backend to prevent data communication overhead\u001b[0m\u001b[0;34m\u001b[0m\u001b[0;34m\u001b[0m\u001b[0m\n",
            "\u001b[0;32m/usr/local/lib/python3.9/dist-packages/sklearn/metrics/pairwise.py\u001b[0m in \u001b[0;36mmanhattan_distances\u001b[0;34m(X, Y, sum_over_features)\u001b[0m\n\u001b[1;32m    964\u001b[0m \u001b[0;34m\u001b[0m\u001b[0m\n\u001b[1;32m    965\u001b[0m     \u001b[0;32mif\u001b[0m \u001b[0msum_over_features\u001b[0m\u001b[0;34m:\u001b[0m\u001b[0;34m\u001b[0m\u001b[0;34m\u001b[0m\u001b[0m\n\u001b[0;32m--> 966\u001b[0;31m         \u001b[0;32mreturn\u001b[0m \u001b[0mdistance\u001b[0m\u001b[0;34m.\u001b[0m\u001b[0mcdist\u001b[0m\u001b[0;34m(\u001b[0m\u001b[0mX\u001b[0m\u001b[0;34m,\u001b[0m \u001b[0mY\u001b[0m\u001b[0;34m,\u001b[0m \u001b[0;34m\"cityblock\"\u001b[0m\u001b[0;34m)\u001b[0m\u001b[0;34m\u001b[0m\u001b[0;34m\u001b[0m\u001b[0m\n\u001b[0m\u001b[1;32m    967\u001b[0m \u001b[0;34m\u001b[0m\u001b[0m\n\u001b[1;32m    968\u001b[0m     \u001b[0mD\u001b[0m \u001b[0;34m=\u001b[0m \u001b[0mX\u001b[0m\u001b[0;34m[\u001b[0m\u001b[0;34m:\u001b[0m\u001b[0;34m,\u001b[0m \u001b[0mnp\u001b[0m\u001b[0;34m.\u001b[0m\u001b[0mnewaxis\u001b[0m\u001b[0;34m,\u001b[0m \u001b[0;34m:\u001b[0m\u001b[0;34m]\u001b[0m \u001b[0;34m-\u001b[0m \u001b[0mY\u001b[0m\u001b[0;34m[\u001b[0m\u001b[0mnp\u001b[0m\u001b[0;34m.\u001b[0m\u001b[0mnewaxis\u001b[0m\u001b[0;34m,\u001b[0m \u001b[0;34m:\u001b[0m\u001b[0;34m,\u001b[0m \u001b[0;34m:\u001b[0m\u001b[0;34m]\u001b[0m\u001b[0;34m\u001b[0m\u001b[0;34m\u001b[0m\u001b[0m\n",
            "\u001b[0;32m/usr/local/lib/python3.9/dist-packages/scipy/spatial/distance.py\u001b[0m in \u001b[0;36mcdist\u001b[0;34m(XA, XB, metric, out, **kwargs)\u001b[0m\n\u001b[1;32m   2937\u001b[0m         \u001b[0;32mif\u001b[0m \u001b[0mmetric_info\u001b[0m \u001b[0;32mis\u001b[0m \u001b[0;32mnot\u001b[0m \u001b[0;32mNone\u001b[0m\u001b[0;34m:\u001b[0m\u001b[0;34m\u001b[0m\u001b[0;34m\u001b[0m\u001b[0m\n\u001b[1;32m   2938\u001b[0m             \u001b[0mcdist_fn\u001b[0m \u001b[0;34m=\u001b[0m \u001b[0mmetric_info\u001b[0m\u001b[0;34m.\u001b[0m\u001b[0mcdist_func\u001b[0m\u001b[0;34m\u001b[0m\u001b[0;34m\u001b[0m\u001b[0m\n\u001b[0;32m-> 2939\u001b[0;31m             \u001b[0;32mreturn\u001b[0m \u001b[0mcdist_fn\u001b[0m\u001b[0;34m(\u001b[0m\u001b[0mXA\u001b[0m\u001b[0;34m,\u001b[0m \u001b[0mXB\u001b[0m\u001b[0;34m,\u001b[0m \u001b[0mout\u001b[0m\u001b[0;34m=\u001b[0m\u001b[0mout\u001b[0m\u001b[0;34m,\u001b[0m \u001b[0;34m**\u001b[0m\u001b[0mkwargs\u001b[0m\u001b[0;34m)\u001b[0m\u001b[0;34m\u001b[0m\u001b[0;34m\u001b[0m\u001b[0m\n\u001b[0m\u001b[1;32m   2940\u001b[0m         \u001b[0;32melif\u001b[0m \u001b[0mmstr\u001b[0m\u001b[0;34m.\u001b[0m\u001b[0mstartswith\u001b[0m\u001b[0;34m(\u001b[0m\u001b[0;34m\"test_\"\u001b[0m\u001b[0;34m)\u001b[0m\u001b[0;34m:\u001b[0m\u001b[0;34m\u001b[0m\u001b[0;34m\u001b[0m\u001b[0m\n\u001b[1;32m   2941\u001b[0m             \u001b[0mmetric_info\u001b[0m \u001b[0;34m=\u001b[0m \u001b[0m_TEST_METRICS\u001b[0m\u001b[0;34m.\u001b[0m\u001b[0mget\u001b[0m\u001b[0;34m(\u001b[0m\u001b[0mmstr\u001b[0m\u001b[0;34m,\u001b[0m \u001b[0;32mNone\u001b[0m\u001b[0;34m)\u001b[0m\u001b[0;34m\u001b[0m\u001b[0;34m\u001b[0m\u001b[0m\n",
            "\u001b[0;31mKeyboardInterrupt\u001b[0m: "
          ]
        }
      ],
      "source": [
        "from sklearn.model_selection import GridSearchCV\n",
        "from sklearn.neighbors import KNeighborsClassifier\n",
        "\n",
        "#First we make a dictionary containing all of the hyper-params as keys and the range of values as their keys\n",
        "param_grid = {\n",
        "    'n_neighbors': [5,7,9,11,13],\n",
        "    'weights': ['uniform', 'distance'],\n",
        "    'metric': ['euclidean','manhattan','wminkowski'],\n",
        "    'p': [1,2]\n",
        "}\n",
        "\n",
        "#now we call GridSearch with our defined param_grid\n",
        "#we will use the same KNN as we used above (knn_clf)\n",
        "grid_search = GridSearchCV(knn_clf,param_grid=param_grid, cv = 7)\n",
        "grid_search.fit(x_train, y_train)\n",
        "opt_params = grid_search.best_params_\n",
        "\n",
        "n_neighbors_opt = opt_params['n_neighbors']\n",
        "weights_opt = opt_params['weights']\n",
        "metric_opt = opt_params['metric']\n",
        "p_opt = opt_params['p']\n",
        "\n",
        "print(n_neighbors_opt)\n",
        "print(weights_opt)\n",
        "print(metric_opt)\n",
        "print(p_opt)\n",
        "\n"
      ]
    },
    {
      "cell_type": "code",
      "execution_count": null,
      "metadata": {
        "id": "jJB9_zqU7pwu",
        "outputId": "abce0232-1b16-4e58-8e1d-cbd30eefb9fc"
      },
      "outputs": [
        {
          "name": "stdout",
          "output_type": "stream",
          "text": [
            "the score for this grid search is  0.7745\n"
          ]
        }
      ],
      "source": [
        "score = grid_search.score(x_valid,y_valid)\n",
        "print('the score for this grid search is ',score)\n",
        "#best params are 13 neighbours, distance weighting, manhattan distance, and p = 1\n",
        "n_neighbors_opt = 13\n",
        "weights_opt = 'distance'\n",
        "metric_opt = 'manhattan'\n",
        "p_opt = 1 "
      ]
    },
    {
      "cell_type": "code",
      "execution_count": null,
      "metadata": {
        "id": "tKrnSIJk7pwu",
        "outputId": "bde3bc3e-44c3-4bce-aa65-2369fe9931ea"
      },
      "outputs": [
        {
          "name": "stdout",
          "output_type": "stream",
          "text": [
            "0.7745\n"
          ]
        }
      ],
      "source": [
        "test_clf = KNeighborsClassifier(n_neighbors= 13, weights='distance', metric= 'manhattan', p=1)\n",
        "test_clf.fit(x_train, y_train)\n",
        "print(test_clf.score(x_valid, y_valid))\n",
        "\n"
      ]
    },
    {
      "cell_type": "code",
      "execution_count": null,
      "metadata": {
        "id": "_sitaIi4-B8G"
      },
      "outputs": [],
      "source": [
        "#best params are 13 neighbours, distance weighting, manhattan distance, and p = 1\n",
        "n_neighbors_opt = 13\n",
        "weights_opt = 'distance'\n",
        "metric_opt = 'manhattan'\n",
        "p_opt = 1 "
      ]
    },
    {
      "cell_type": "markdown",
      "metadata": {
        "id": "rrkR4VFS7pwu"
      },
      "source": [
        "# Now run grid search with last two parameters - algorithm and leaf size"
      ]
    },
    {
      "cell_type": "code",
      "execution_count": null,
      "metadata": {
        "id": "uwNyOi0y7pwu",
        "outputId": "33e60a3a-a9db-4791-a83f-0130e9296215"
      },
      "outputs": [
        {
          "name": "stdout",
          "output_type": "stream",
          "text": [
            "20\n",
            "ball_tree\n"
          ]
        }
      ],
      "source": [
        "#define param grid with above optimised values, add value ranges for the leaf size and algorithm options\n",
        "param_grid_2 = {\n",
        "    'n_neighbors': [n_neighbors_opt],\n",
        "    'weights': [weights_opt],\n",
        "    'metric': [metric_opt],\n",
        "    'p': [p_opt],\n",
        "    'leaf_size': [20,21,22,23],\n",
        "    'algorithm': ['ball_tree', 'kd_tree','brute','auto']\n",
        "}\n",
        "\n",
        "grid_search_2 = GridSearchCV(test_clf, param_grid=param_grid_2, cv = 7)\n",
        "grid_search_2.fit(grayscale_training, ground_truths)\n",
        "opt_leaf_size = grid_search_2.best_params_['leaf_size']\n",
        "opt_algorithm = grid_search_2.best_params_['algorithm']\n",
        "print(opt_leaf_size)\n",
        "print(opt_algorithm)"
      ]
    },
    {
      "cell_type": "code",
      "execution_count": null,
      "metadata": {
        "id": "WQORLHo--B8G",
        "outputId": "14e60003-2b50-42b3-9736-4bbccaa45896"
      },
      "outputs": [
        {
          "name": "stdout",
          "output_type": "stream",
          "text": [
            "15\n",
            "manhattan\n",
            "ball_tree\n",
            "20\n",
            "distance\n",
            "1\n"
          ]
        }
      ],
      "source": [
        "#At this point we have 'optimal' values for our KNN classifier\n",
        "print(optimal_neighbors)\n",
        "print(metric_opt)\n",
        "print(opt_algorithm)\n",
        "print(opt_leaf_size)\n",
        "print(weights_opt)\n",
        "print(p_opt)\n",
        "\n",
        "optimal_KNN = KNeighborsClassifier(n_neighbors= optimal_neighbors, metric = metric_opt, algorithm= opt_algorithm, leaf_size=opt_leaf_size, weights= weights_opt, p = p_opt)\n",
        "score = cross_val_score(optimal_KNN, grayscale_training, ground_truths, n_jobs = -1, cv=7 ).mean()\n",
        "\n",
        "\n"
      ]
    },
    {
      "cell_type": "code",
      "execution_count": null,
      "metadata": {
        "id": "38ffn09o-B8H",
        "outputId": "01a7c75b-9812-4b88-ea8f-5a6933965251"
      },
      "outputs": [
        {
          "name": "stdout",
          "output_type": "stream",
          "text": [
            "The final score for our KNN is  0.7814005938274541\n"
          ]
        }
      ],
      "source": [
        "print(\"The final score for our KNN is \", score)"
      ]
    },
    {
      "cell_type": "markdown",
      "metadata": {
        "id": "_93r0EB_-B8H"
      },
      "source": [
        "# Results of KNN\n",
        "#### At this point we have optimised 6 of the hyperparameters for our KNN, and ended up with a total accuracy of 78% on the validation set"
      ]
    },
    {
      "cell_type": "markdown",
      "metadata": {
        "id": "4JhZjuds7pwu"
      },
      "source": [
        "# Alternative approach for hyper-parameter optimization - Bayesian Search\n",
        "It is useful to optimise multiple hyperparameters for two main reasons:\n",
        "1. Hyperparameters all interact together, an 'optimal' value for one might not be optimal when combined with a different hyperparameter. For this reason its a good idea to optimise hyperparameters simultaneously\n",
        "2. Less code for me to write\n",
        "\n",
        "Despite this, running bayesian optimisation can be rather computationally expensive"
      ]
    },
    {
      "cell_type": "code",
      "execution_count": null,
      "metadata": {
        "id": "-WfXhNtm7pwv"
      },
      "outputs": [],
      "source": [
        "#Use bayesian search to optimise multiple hyperparameters at once\n",
        "from sklearn.neighbors import KNeighborsClassifier\n",
        "from sklearn.model_selection import cross_val_score\n",
        "\n",
        "from skopt import BayesSearchCV\n",
        "from skopt.space import Real, Integer, Categorical\n",
        "\n",
        "\n",
        "#First define the different hyperparameters we want to optimise with a range of values for them\n",
        "#this is done in the format of a dictionary\n",
        "\n",
        "\n",
        "randomstate = np.random.RandomState(seed=42)\n",
        "\n",
        "\n",
        "n_neighbor_vals = [2,3,4,5,6,7,8,9,10,11]\n",
        "n_neighbor_probs = [0.05,0.05,0.05,0.05,0.1,0.1,0.1,0.1,0.2,0.2]\n",
        "n_neighbors = Categorical(categories= n_neighbor_vals, prior = n_neighbor_probs)\n",
        "\n",
        "weight_vals = ['uniform','distance']\n",
        "weight_probs = [0.2,0.8]\n",
        "weights = Categorical(categories=weight_vals, prior = weight_probs)\n",
        "\n",
        "search_spaces = {\n",
        "    'n_neighbors': Categorical(categories=[2,3,4,5,6,7,8,9,10,11], prior = [0.05,0.05,0.05,0.05,0.1,0.1,0.1,0.1,0.2,0.2]),\n",
        "    'weights': Categorical(categories=['uniform','distance'], prior = [0.2,0.8])\n",
        "}\n",
        "\n",
        "\n",
        "#define a KNN instance and perform a Bayesian Search on it with our hyperparam values to be optimized\n",
        "bayesianKNN = KNeighborsClassifier()\n",
        "\n",
        "bayes_optimize = BayesSearchCV(bayesianKNN, search_spaces,  cv = 7, random_state=randomstate)\n",
        "#we need to assign our assumption weightings to the object before fitting our data to it\n",
        "\n",
        "\n",
        "bayes_optimize.fit(x_train, y_train)\n",
        "score = bayes_optimize.score(x_valid,y_valid)\n",
        "\n",
        "\n",
        "\n",
        "\n",
        "print(f'Best score: {bayes_optimize.best_score_:.3f}')\n",
        "print(f'Best hyperparameters: {bayes_optimize.best_params_}')\n",
        "print(f'Test set score: {score:.3f}')\n",
        "#NEED TO FIX THE PRIOR_DISTRIBUTION NOT BEING ADDED PROPERLY\n"
      ]
    },
    {
      "cell_type": "markdown",
      "metadata": {
        "id": "iD05zUO77pwv"
      },
      "source": [
        "# GOOD PAIRS OF HYPERPARAMETERS TO RUN BAYESIAN SEARCH ON \n",
        "1. n_neighbours and weight\n",
        "2. p and metric\n",
        "3. algorithm and leaf size\n",
        "\n",
        "### In the above cell we ran Bayesian Search to find optimal values for the n_neighbors and weights parameters of our KNN model\n",
        "We can run Bayesian search with all of the hyperparameters for our KNN model, but this may be computationally expensive to do so.  <br />\n",
        "Instead we can run Bayesian Search multiple time, but with pairs of the hyperparameters (as listed above), I will do this below"
      ]
    },
    {
      "cell_type": "code",
      "execution_count": null,
      "metadata": {
        "id": "CsDZKvwj7pwv"
      },
      "outputs": [],
      "source": [
        "##Run bayesian search with p and metric parameters\n",
        "n_neighbors_opt = bayes_optimize.best_params_['n_neighbors']\n",
        "weights_opt = bayes_optimize.best_params_['weights']\n",
        "print(n_neighbors_opt)\n",
        "print(weights_opt)\n",
        "print('Best params so far are ',n_neighbors_opt, \"neighbours and '\",weights_opt,\"' value for weighting\")\n",
        "\n",
        "prior_distribution = {\n",
        "    'p': Integer(low = 1, high = 2 , prior = 'uniform'),\n",
        "    'metric': Categorical(categories=['manhattan', 'euclidean'], prior = [0.5,0.5]),\n",
        "    'n_neighbors': Categorical(categories = [n_neighbors_opt],  prior = [1]),\n",
        "    'weights': Categorical(categories=[weights_opt], prior = [1])\n",
        "\n",
        "}\n",
        "\n",
        "bayes_optimize2 = BayesSearchCV(bayesianKNN, prior_distribution, cv = 7, random_state = randomstate)\n",
        "\n",
        "bayes_optimize2.fit(x_train, y_train)\n",
        "score = bayes_optimize2.score(x_valid,y_valid)\n",
        "\n",
        "\n",
        "\n",
        "\n",
        "print(f'Best score: {bayes_optimize2.best_score_:.3f}')\n",
        "print(f'Best hyperparameters: {bayes_optimize2.best_params_}')\n",
        "print(f'Test set score: {score:.3f}')\n",
        "#NEED TO FIX THE PRIOR_DISTRIBUTION NOT BEING ADDED PROPERLY"
      ]
    },
    {
      "cell_type": "code",
      "execution_count": null,
      "metadata": {
        "id": "QGHsNATr7pwv"
      },
      "outputs": [],
      "source": [
        "#get optimal params from above\n",
        "p_opt = bayes_optimize2.best_params_['p']\n",
        "metric_opt = bayes_optimize2.best_params_['metric']\n",
        "\n"
      ]
    },
    {
      "cell_type": "markdown",
      "metadata": {
        "id": "kbOS-d5N7pww"
      },
      "source": [
        "# Defining the model (CNN) <br />\n",
        "\n",
        "At this point we have tried using a KNN, optimising parameters with both GridSearch and BayesSearch. These optimisation methods have not yielded great results, and our models accuracy on validation data is not great.  <br />\n",
        "At this point I will move onto using a CNN (Convolutional Neural Network) <br />\n",
        "\n",
        "- We define a few of the hyperparameters such as learning rate, the optimizer we want to use and the loss function of choice\n",
        "- Once these are defined, we then declare out model with Keras.Sequential()\n",
        "- - Once we've done this we add various layers, generally in the order - convolutional -> pooling -> fully connected -> output layer\n",
        "\n",
        "\n"
      ]
    },
    {
      "cell_type": "code",
      "execution_count": 12,
      "metadata": {
        "id": "O_HcWzu_7pww"
      },
      "outputs": [],
      "source": [
        "#Importing all libraries that are relevant to the creation and training of models\n",
        "#Import relevant libraries\n",
        "from keras.layers import Rescaling\n",
        "from keras.models import Sequential\n",
        "from keras.layers import Dense, Conv2D, MaxPool2D, Flatten\n",
        " "
      ]
    },
    {
      "cell_type": "code",
      "source": [
        "print(ground_truths.shape)"
      ],
      "metadata": {
        "colab": {
          "base_uri": "https://localhost:8080/"
        },
        "id": "dVJgkw5aMwTz",
        "outputId": "491e016a-e653-465f-e2e8-4fced7f04c26"
      },
      "execution_count": 42,
      "outputs": [
        {
          "output_type": "stream",
          "name": "stdout",
          "text": [
            "(10000,)\n"
          ]
        }
      ]
    },
    {
      "cell_type": "markdown",
      "metadata": {
        "id": "cKoGJy9w7pww"
      },
      "source": [
        "# Before we use a CNN, we need to format our training data and labels \n",
        "- If we didn't do this then Keras would be unable to properly work on the data"
      ]
    },
    {
      "cell_type": "code",
      "execution_count": 98,
      "metadata": {
        "id": "3sgWeKgB7pww"
      },
      "outputs": [],
      "source": [
        "#Before we use a CNN, we need to encode our target values correctly\n",
        "from keras.utils import to_categorical\n",
        "\n",
        "#one hot encode the ground_truths to vectorise them into a shape of (sample_count, target_number)\n",
        "ground_truths = to_categorical(ground_truths, num_classes=8)\n",
        "\n",
        "#For the CNN we are going to use RGB images again, as CNN can handle 3 dimension data unlike the KNN algorithmn\n",
        "training_images = training_images.reshape(10000,28,28,3)\n",
        "x_train, x_valid = training_images[:8000], training_images[8000:]\n",
        "\n",
        "\n",
        "\n",
        "y_train, y_valid = ground_truths[:8000], ground_truths[8000:]\n"
      ]
    },
    {
      "cell_type": "code",
      "execution_count": 99,
      "metadata": {
        "colab": {
          "base_uri": "https://localhost:8080/"
        },
        "id": "GSo0JJNp-B8J",
        "outputId": "4bc68a2c-0d50-46f7-c5ad-ddaaf39c4453"
      },
      "outputs": [
        {
          "output_type": "stream",
          "name": "stdout",
          "text": [
            "(10000, 8)\n",
            "(8000, 28, 28, 3)\n",
            "(2000, 28, 28, 3)\n",
            "(8000, 8)\n",
            "(2000, 8)\n"
          ]
        }
      ],
      "source": [
        "print(ground_truths.shape)\n",
        "\n",
        "print(x_train.shape)\n",
        "print(x_valid.shape)\n",
        "print(y_train.shape)\n",
        "print(y_valid.shape)\n"
      ]
    },
    {
      "cell_type": "code",
      "source": [
        "#Define function for getting average loss and accuracy for a model\n",
        "def accuracy_loss(model):\n",
        "  training_loss = model.history['loss']\n",
        "  training_accuracy = model.history['categorical_accuracy']\n",
        "  val_loss = model.history['val_loss']\n",
        "  val_accuracy = model.history['val_categorical_accuracy']\n",
        "\n",
        "  print('Training loss: ',training_loss, '\\nTraining accuracy: ',training_accuracy, '\\nValidation loss : ',val_loss,'\\nValidation accuracy: ',val_accuracy)"
      ],
      "metadata": {
        "id": "DGReVW1ATZvt"
      },
      "execution_count": 65,
      "outputs": []
    },
    {
      "cell_type": "code",
      "execution_count": null,
      "metadata": {
        "id": "HLyUrjOC7pww"
      },
      "outputs": [],
      "source": [
        "\n",
        "learning_rate = 0.01\n",
        "optimizer = keras.optimizers.SGD(learning_rate=learning_rate)\n",
        "accuracy = keras.metrics.CategoricalAccuracy()\n",
        "crossentropy = keras.losses.CategoricalCrossentropy()\n",
        "\n",
        "\n",
        "model1 = keras.Sequential()\n",
        "model1.add(Rescaling(1./255))\n",
        "model1.add(Conv2D(32, kernel_size=(2,2), activation=\"relu\", input_shape=(28,28,3)))\n",
        "model1.add(Conv2D(64, kernel_size=(4,4), activation=\"relu\"))\n",
        "model1.add(MaxPool2D(pool_size=(2,2), strides=(2,2), padding=\"valid\"))\n",
        "model1.add(Flatten())\n",
        "#model1.add(Dense(32, activation=\"relu\"))\n",
        "model1.add(Dense(8, activation=\"softmax\"))\n",
        "\n",
        "model1.compile(optimizer=optimizer, metrics = [accuracy], loss = crossentropy)\n",
        "\n",
        "\n",
        "history1 = model1.fit(x_train , y_train, validation_data = (x_valid, y_valid), epochs=5, batch_size=32)# Access training loss\n",
        "accuracy_loss(history1)\n",
        "model1.summary()"
      ]
    },
    {
      "cell_type": "markdown",
      "source": [
        "![MODEL1.png](data:image/png;base64,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)"
      ],
      "metadata": {
        "id": "6Yb0jE1rNtaD"
      }
    },
    {
      "cell_type": "markdown",
      "metadata": {
        "id": "RHlu9OoQ7pww"
      },
      "source": [
        "## The above model performs very badly, there are various reasons for this such as:\n",
        "= Low epoch number - Having too few epochs for the model can (and has above) resulted in severe underfitting. The model has not been able to learn the underlying patterns of the input images, and needs more iterations in order to do so. Out model is too simple and performs poorly on training and validation data, it would also perform badly on test data (although not shown above).\n",
        "- Generally unoptimised parameters - As this is the first iteration of our Neural network, the hyperparameters are inevitably unoptimised, and our model is performing much worse than it necessarily could.\n",
        "- There are numerous approached we can take in order to optimise the various hyperparameters in our model\n",
        "\n",
        "## One very obvious (and simple change) is to increase the number of epochs.\n",
        "Given the number of input images, and the spatial resolution of them, a good starting epoch number could be somewhere between 30-100, rather than the 10 used above\n",
        "### We will start with running the same model, just with 40 epochs rather than 5. This will result in a longer training time but will hopefully help our model to 'learn' the training data more effectively"
      ]
    },
    {
      "cell_type": "code",
      "execution_count": null,
      "metadata": {
        "id": "1U__QvHT7pwx"
      },
      "outputs": [],
      "source": [
        "\n",
        "learning_rate = 0.01\n",
        "optimizer = keras.optimizers.SGD(learning_rate=learning_rate)\n",
        "accuracy = keras.metrics.CategoricalAccuracy()\n",
        "crossentropy = keras.losses.CategoricalCrossentropy()\n",
        "\n",
        "\n",
        "model2 = keras.Sequential()\n",
        "model2.add(Rescaling(1./255))\n",
        "model2.add(Conv2D(32, kernel_size=(2,2), activation=\"relu\", input_shape=(28,28,3)))\n",
        "model2.add(Conv2D(64, kernel_size=(4,4), activation=\"relu\"))\n",
        "model2.add(MaxPool2D(pool_size=(2,2), strides=(2,2), padding=\"valid\"))\n",
        "model2.add(Flatten())\n",
        "model2.add(Dense(32, activation=\"relu\"))\n",
        "model2.add(Dense(8, activation=\"softmax\"))\n",
        "\n",
        "model2.compile(optimizer=optimizer, metrics = [accuracy], loss = crossentropy)\n",
        "\n",
        "\n",
        "history2 = model2.fit(x_train, y_train, validation_data = (x_valid , y_valid), epochs=40, batch_size=32)# Access training loss\n",
        "accuracy_loss(history2)\n",
        "model2.summary()"
      ]
    },
    {
      "cell_type": "markdown",
      "metadata": {
        "id": "mjh_Xkpx7pwx"
      },
      "source": [
        "![MODEL2.png](data:image/png;base64,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)\n"
      ]
    },
    {
      "cell_type": "markdown",
      "metadata": {
        "id": "liBJ6bIg-B8K"
      },
      "source": [
        "## Inprovement on first CNN model\n",
        "By just increasing the epoch number from 5 to 40, the loss of our model has decreased significantly. This shows that by increasing # of epochs from something very small like 5 to a more reasonable 40, we get an immediate performance boost <br />\n",
        "1. If we run these models just on an old laptop CPU with no GPU, then it will take a large time as parallelisation is inherently limited. By running the epochs in parallel on a machine with a GPU, epochs will run much faster.\n",
        "2. Our value for training and validation loss have both plumetted, this is caused by increasing # of epochs allowing our model to actually have a chance of learning the data\n",
        "3. Having high training and validation accuracy tells us that our model is not overfitting - as in this case validation accuracy would massively plummet"
      ]
    },
    {
      "cell_type": "markdown",
      "source": [
        "## For the third iteration of our model, we will now tweak some layers\n",
        "1. Slightly lower the learning rate from 0.01 to 0.008\n",
        "2. Add in a normalization layer, in this case BatchNormalization()"
      ],
      "metadata": {
        "id": "61xw2pkVOZXt"
      }
    },
    {
      "cell_type": "code",
      "source": [
        "from keras.layers import BatchNormalization\n",
        "from keras.layers import Dropout\n",
        "learning_rate = 0.008\n",
        "optimizer = keras.optimizers.SGD(learning_rate=learning_rate)\n",
        "accuracy = keras.metrics.CategoricalAccuracy()\n",
        "crossentropy = keras.losses.CategoricalCrossentropy()\n",
        "\n",
        "\n",
        "model3 = keras.Sequential()\n",
        "model3.add(Rescaling(1./255))\n",
        "model3.add(Conv2D(32, kernel_size=(2,2), activation=\"relu\", input_shape=(28,28,3)))\n",
        "model3.add(Conv2D(64, kernel_size=(4,4), activation=\"relu\"))\n",
        "#model3.add(Dropout(0.4))\n",
        "model3.add(BatchNormalization())\n",
        "model3.add(MaxPool2D(pool_size=(2,2), strides=(2,2), padding=\"valid\"))\n",
        "#model3.add(MaxPool2D(pool_size=(2,2), strides=(2,2), padding=\"valid\"))\n",
        "model3.add(Flatten())\n",
        "model3.add(Dense(32, activation=\"relu\"))\n",
        "model3.add(Dense(8, activation=\"softmax\"))\n",
        "\n",
        "model3.compile(optimizer=optimizer, metrics = [accuracy], loss = crossentropy)\n",
        "\n",
        "\n",
        "history3 = model3.fit(x_train, y_train, validation_data = (x_valid, y_valid), epochs=40, batch_size=40)# Access training loss\n",
        "train_loss = history3.history['loss']\n",
        "print('Training Loss:', train_loss)\n",
        "model3.summary()"
      ],
      "metadata": {
        "id": "wFftbBfrGQhx"
      },
      "execution_count": null,
      "outputs": []
    },
    {
      "cell_type": "code",
      "source": [
        "x_test = training_images[:1000]\n",
        "y_test = ground_truths[:1000]\n",
        "# evaluate the model on the test data\n",
        "test_loss, test_acc = model3.evaluate(x_test, y_test, verbose=0)\n",
        "\n",
        "print('Test loss:', test_loss)\n",
        "print('Test accuracy:', test_acc)"
      ],
      "metadata": {
        "colab": {
          "base_uri": "https://localhost:8080/"
        },
        "id": "k10IV4ZNtWQF",
        "outputId": "63156cdf-3083-4fc8-ecea-7dff5da991fa"
      },
      "execution_count": 96,
      "outputs": [
        {
          "output_type": "stream",
          "name": "stdout",
          "text": [
            "Test loss: 0.32366377115249634\n",
            "Test accuracy: 0.9079999923706055\n"
          ]
        }
      ]
    },
    {
      "cell_type": "markdown",
      "source": [
        "![MODEL3.png](data:image/png;base64,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)"
      ],
      "metadata": {
        "id": "Ng3yoFjQY_AR"
      }
    },
    {
      "cell_type": "markdown",
      "source": [
        "## State of model so far\n",
        "At this point our model has extremely low training loss and high training accuracy, as well as decently low validation loss and high validation accuracy\n",
        "1. Our training loss and accuracy indicates that our model is overfitting quite a bit.\n",
        "2. Despite the very good training performance, validation is much more useful to us as it indicates how our model will perform against unseen data (the whole point of the model).\n",
        "3. We need to address this overfitting\n"
      ],
      "metadata": {
        "id": "lp6kM2oVZEu0"
      }
    },
    {
      "cell_type": "markdown",
      "source": [
        "## Changes for 4th CNN\n",
        "1. Add in a dropout layer, this helps to reduce overfitting\n",
        "2. Lower batch size from 40 to 30 \n",
        "3. Increase the epoch count from 40 to 90 (125% increase)"
      ],
      "metadata": {
        "id": "7qjuEaqVaAKj"
      }
    },
    {
      "cell_type": "code",
      "source": [
        "from keras.layers import BatchNormalization\n",
        "from keras.layers import Dropout\n",
        "learning_rate = 0.008\n",
        "optimizer = keras.optimizers.SGD(learning_rate=learning_rate)\n",
        "accuracy = keras.metrics.CategoricalAccuracy()\n",
        "crossentropy = keras.losses.CategoricalCrossentropy()\n",
        "\n",
        "\n",
        "model4 = keras.Sequential()\n",
        "model4.add(Rescaling(1./255))\n",
        "model4.add(Conv2D(32, kernel_size=(2,2), activation=\"relu\", input_shape=(28,28,3)))\n",
        "model4.add(Conv2D(64, kernel_size=(4,4), activation=\"relu\"))\n",
        "\n",
        "model4.add(Dropout(0.5))\n",
        "model4.add(BatchNormalization())\n",
        "model4.add(MaxPool2D(pool_size=(2,2), strides=(2,2), padding=\"valid\"))\n",
        "\n",
        "#model4.add(MaxPool2D(pool_size=(2,2), strides=(2,2), padding=\"valid\"))\n",
        "model4.add(Flatten())\n",
        "model4.add(Dense(32, activation=\"relu\", kernel_regularizer=keras.regularizers.l2(0.01)))\n",
        "model4.add(Dense(8, activation=\"softmax\"))\n",
        "\n",
        "model4.compile(optimizer=optimizer, metrics = [accuracy], loss = crossentropy)\n",
        "\n",
        "\n",
        "history4 = model4.fit(x_train, y_train, validation_data = (x_valid, y_valid), epochs=90, batch_size=30)# Access training loss\n",
        "train_loss = history4.history['loss']\n",
        "print('Training Loss:', train_loss)\n",
        "model4.summary()"
      ],
      "metadata": {
        "id": "fTdfryBkdhwS"
      },
      "execution_count": null,
      "outputs": []
    },
    {
      "cell_type": "markdown",
      "source": [
        "![model4.png](data:image/png;base64,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)"
      ],
      "metadata": {
        "id": "t9OCXMIae9Z6"
      }
    },
    {
      "cell_type": "markdown",
      "source": [
        "## From 4th model\n",
        "In the 4th CNN (above) we increased the number of epochs by over 100% and yet the validation loss problem has not been solved, and our model is still overfitting. <br />\n",
        "At this point it is clear that we need to do some tinkering with hyperparameters and add/change some layers <br />\n",
        "## This time we will:\n",
        "1. Lower epochs from 90 to 50, our model is converging way before the 90th epoch\n",
        "2. Lower batch size to help with reducing overfitting, from 40 to 25\n",
        "3. Lower learning rate from 0.008 to 0.005"
      ],
      "metadata": {
        "id": "AlP397p9fUcC"
      }
    },
    {
      "cell_type": "code",
      "source": [
        "from keras.layers import BatchNormalization\n",
        "from keras.layers import Dropout\n",
        "learning_rate = 0.002\n",
        "optimizer = keras.optimizers.SGD(learning_rate=learning_rate)\n",
        "accuracy = keras.metrics.CategoricalAccuracy()\n",
        "crossentropy = keras.losses.CategoricalCrossentropy()\n",
        "\n",
        "\n",
        "model5 = keras.Sequential()\n",
        "model5.add(Rescaling(1./255))\n",
        "model5.add(Conv2D(32, kernel_size=(2,2), activation=\"relu\", input_shape=(28,28,3)))\n",
        "model5.add(Conv2D(64, kernel_size=(4,4), activation=\"relu\"))\n",
        "\n",
        "model5.add(Dropout(0.7))\n",
        "model5.add(BatchNormalization())\n",
        "model5.add(MaxPool2D(pool_size=(2,2), strides=(2,2), padding=\"valid\"))\n",
        "\n",
        "#model5.add(MaxPool2D(pool_size=(2,2), strides=(2,2), padding=\"valid\"))\n",
        "model5.add(Flatten())\n",
        "model5.add(Dense(32, activation=\"relu\"))\n",
        "model5.add(Dense(8, activation=\"softmax\"))\n",
        "\n",
        "model5.compile(optimizer=optimizer, metrics = [accuracy], loss = crossentropy)\n",
        "\n",
        "\n",
        "history5 = model5.fit(x_train, y_train, validation_data = (x_valid, y_valid), epochs=60, batch_size=12)# Access training loss\n",
        "train_loss = history5.history['loss']\n",
        "print('Training Loss:', train_loss)\n",
        "model5.summary()"
      ],
      "metadata": {
        "id": "_XuFjl98eBah"
      },
      "execution_count": null,
      "outputs": []
    },
    {
      "cell_type": "code",
      "source": [],
      "metadata": {
        "id": "bYXsI4jfsNnE"
      },
      "execution_count": null,
      "outputs": []
    },
    {
      "cell_type": "markdown",
      "source": [
        "# Trying CNN with Grayscale images\n",
        "Now we have tried 5 different CNNs with RGB (3 dimensional images). We have achieved pretty good results, with fairly high validation accuracy, just some not ideal validation loss. Given our training statistics it is clear our model is overfitting, so we want to try and reduce model complexity\n",
        "\n",
        "### One way to do this is convert our images to grayscale (which we already did for KNN)\n"
      ],
      "metadata": {
        "id": "9fN0OkrOvBUF"
      }
    },
    {
      "cell_type": "code",
      "source": [
        "#we define x_train and x_valid for our grayscale CNN training\n",
        "x_train_grayscale, x_valid_grayscale = grayscale_training[:8000], grayscale_training[8000:]"
      ],
      "metadata": {
        "id": "IAyr_kWFySV_"
      },
      "execution_count": 117,
      "outputs": []
    },
    {
      "cell_type": "code",
      "source": [
        "\n",
        "\n",
        "\n",
        "learning_rate = 0.002\n",
        "optimizer = keras.optimizers.SGD(learning_rate=learning_rate)\n",
        "accuracy = keras.metrics.CategoricalAccuracy()\n",
        "crossentropy = keras.losses.CategoricalCrossentropy()\n",
        "\n",
        "\n",
        "model6 = keras.Sequential()\n",
        "model6.add(Rescaling(1./255))\n",
        "model6.add(Conv2D(32, kernel_size=(2,2), activation=\"relu\", input_shape=(28,28,1)))\n",
        "model6.add(Conv2D(64, kernel_size=(4,4), activation=\"relu\"))\n",
        "\n",
        "model6.add(Dropout(0.7))\n",
        "model6.add(BatchNormalization())\n",
        "model6.add(MaxPool2D(pool_size=(2,2), strides=(2,2), padding=\"valid\"))\n",
        "\n",
        "#model6.add(MaxPool2D(pool_size=(2,2), strides=(2,2), padding=\"valid\"))\n",
        "model6.add(Flatten())\n",
        "model6.add(Dense(32, activation=\"relu\"))\n",
        "model6.add(Dense(8, activation=\"softmax\"))\n",
        "\n",
        "model6.compile(optimizer=optimizer, metrics = [accuracy], loss = crossentropy)\n",
        "\n",
        "\n",
        "history6 = model6.fit(x_train_grayscale, y_train, validation_data = (x_valid_grayscale, y_valid), epochs=60, batch_size=12)# Access training loss\n",
        "train_loss = history6.history['loss']\n",
        "print('Training Loss:', train_loss)\n",
        "model6.summary()\n",
        "\n"
      ],
      "metadata": {
        "id": "Xh-1ikDNvA7z"
      },
      "execution_count": null,
      "outputs": []
    },
    {
      "cell_type": "code",
      "source": [],
      "metadata": {
        "id": "pH_Gs7fZybBe"
      },
      "execution_count": null,
      "outputs": []
    },
    {
      "cell_type": "markdown",
      "source": [
        "# Results in worse validation accuracy\n",
        "Running CNN with grayscale images results in lower accuracy across the board, on both the training and validation sets. For this reason we are going to stick with using the original RGB images"
      ],
      "metadata": {
        "id": "bqb5hkzW3GUo"
      }
    },
    {
      "cell_type": "code",
      "source": [],
      "metadata": {
        "id": "MEmQZCz23SOG"
      },
      "execution_count": null,
      "outputs": []
    }
  ],
  "metadata": {
    "accelerator": "GPU",
    "colab": {
      "gpuType": "T4",
      "provenance": []
    },
    "gpuClass": "standard",
    "kernelspec": {
      "display_name": "Python 3",
      "language": "python",
      "name": "python3"
    },
    "language_info": {
      "codemirror_mode": {
        "name": "ipython",
        "version": 3
      },
      "file_extension": ".py",
      "mimetype": "text/x-python",
      "name": "python",
      "nbconvert_exporter": "python",
      "pygments_lexer": "ipython3",
      "version": "3.9.10"
    },
    "orig_nbformat": 4
  },
  "nbformat": 4,
  "nbformat_minor": 0
}